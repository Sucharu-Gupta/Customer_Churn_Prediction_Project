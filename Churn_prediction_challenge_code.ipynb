{
 "cells": [
  {
   "cell_type": "markdown",
   "metadata": {},
   "source": [
    "# Churn Prediction Challenge Code\n",
    "\n",
    "- Predict whether a user will churn after his/her subscription expires. Specifically, we want to forecast if a user make a new service subscription transaction within 30 days after the current membership expiration date.\n",
    "- Looking at the relationship between cancelled subscriptions and churn rate.\n",
    "- Included here is the Link of Dataset from Kaggle Competition(https://www.kaggle.com/c/kkbox-churn-prediction-challenge/data)"
   ]
  },
  {
   "cell_type": "code",
   "execution_count": 27,
   "metadata": {},
   "outputs": [],
   "source": [
    "# Loading Libraries in python\n",
    "import numpy as np\n",
    "import pandas as pd\n",
    "import pylab\n",
    "from datetime import datetime\n",
    "from collections import Counter\n",
    "import seaborn as sns\n",
    "import matplotlib.pyplot as plt\n",
    "%matplotlib inline\n",
    "import os\n",
    "os.environ[\"PATH\"] += os.pathsep + 'C:/Users/sucha/OneDrive/Desktop/graphinviz/release/bin'\n",
    "import scipy.stats as stats\n",
    "#from sklearn import linear_model, tree, cross_validation, metrics, grid_search\n",
    "from sklearn.feature_selection import f_classif\n",
    "from sklearn.feature_selection import chi2\n",
    "from sklearn.feature_selection import SelectKBest \n",
    "from sklearn.naive_bayes import GaussianNB\n",
    "from sklearn.ensemble import RandomForestClassifier \n",
    "import statsmodels.formula.api as sm\n",
    "from sklearn import metrics \n",
    "from sklearn.metrics import accuracy_score, classification_report, precision_score, recall_score\n",
    "from statsmodels.api import add_constant\n",
    "from sklearn.linear_model import LogisticRegression\n",
    "from sklearn.metrics import confusion_matrix, precision_recall_curve, roc_curve, auc, log_loss\n",
    "from sklearn.model_selection import cross_val_score\n",
    "from sklearn.model_selection import train_test_split\n",
    "#warnings.filterwarnings('ignore')"
   ]
  },
  {
   "cell_type": "markdown",
   "metadata": {},
   "source": [
    "# Loading and getting information about train dataset "
   ]
  },
  {
   "cell_type": "code",
   "execution_count": 29,
   "metadata": {},
   "outputs": [
    {
     "name": "stdout",
     "output_type": "stream",
     "text": [
      "                                           msno  is_churn\n",
      "0  waLDQMmcOu2jLDaV1ddDkgCrB/jl6sD66Xzs0Vqax1Y=         1\n",
      "1  QA7uiXy8vIbUSPOkCf9RwQ3FsT8jVq2OxDr8zqa7bRQ=         1\n",
      "2  fGwBva6hikQmTJzrbz/2Ezjm5Cth5jZUNvXigKK2AFA=         1\n",
      "3  mT5V8rEpa+8wuqi6x0DoVd3H5icMKkE9Prt49UlmK+4=         1\n",
      "4  XaPhtGLk/5UvvOYHcONTwsnH97P4eGECeq+BARGItRw=         1\n",
      "                                                msno  is_churn\n",
      "992926  tUM0yxAj50Vc35vQZ++xMlomdyeLJUW9lEcoPnt3H+g=         0\n",
      "992927  KQS8etmfGgvE/7Y9gK+E9wdLnRTI0lyyPXaXL3I8E4c=         0\n",
      "992928  8/jDLgNREuWI9hcKVYp8723nmavn01T+AuMWkK3uM7g=         0\n",
      "992929  iNV99F1Rml7EMndOeLI0Y/iek6aCj/Qp1Z4dZvR+sak=         0\n",
      "992930  ZoVEIVMCpKT9/MJgqO+fh9xYrNM2vNisLhJ4xY/CVyk=         0\n",
      "(992931, 2)\n"
     ]
    }
   ],
   "source": [
    "train = pd.read_csv(r'C:\\Users\\sucha\\Downloads\\train.csv')\n",
    "print(train.head())\n",
    "print(train.tail())\n",
    "print(train.shape)"
   ]
  },
  {
   "cell_type": "markdown",
   "metadata": {},
   "source": [
    "# Gives info about data type and null columns"
   ]
  },
  {
   "cell_type": "code",
   "execution_count": 31,
   "metadata": {},
   "outputs": [
    {
     "name": "stdout",
     "output_type": "stream",
     "text": [
      "<class 'pandas.core.frame.DataFrame'>\n",
      "RangeIndex: 992931 entries, 0 to 992930\n",
      "Data columns (total 2 columns):\n",
      "msno        992931 non-null object\n",
      "is_churn    992931 non-null int64\n",
      "dtypes: int64(1), object(1)\n",
      "memory usage: 15.2+ MB\n",
      "None\n"
     ]
    }
   ],
   "source": [
    "print(train.info())  "
   ]
  },
  {
   "cell_type": "code",
   "execution_count": 33,
   "metadata": {},
   "outputs": [
    {
     "name": "stdout",
     "output_type": "stream",
     "text": [
      "0    929460\n",
      "1     63471\n",
      "Name: is_churn, dtype: int64\n"
     ]
    }
   ],
   "source": [
    "print(train['is_churn'].value_counts(dropna= False))"
   ]
  },
  {
   "cell_type": "markdown",
   "metadata": {},
   "source": [
    "# Loading Transactions dataset"
   ]
  },
  {
   "cell_type": "code",
   "execution_count": 35,
   "metadata": {},
   "outputs": [
    {
     "name": "stdout",
     "output_type": "stream",
     "text": [
      "<class 'pandas.core.frame.DataFrame'>\n",
      "RangeIndex: 21547746 entries, 0 to 21547745\n",
      "Data columns (total 9 columns):\n",
      "msno                      object\n",
      "payment_method_id         int64\n",
      "payment_plan_days         int64\n",
      "plan_list_price           int64\n",
      "actual_amount_paid        int64\n",
      "is_auto_renew             int64\n",
      "transaction_date          int64\n",
      "membership_expire_date    int64\n",
      "is_cancel                 int64\n",
      "dtypes: int64(8), object(1)\n",
      "memory usage: 1.4+ GB\n",
      "None\n"
     ]
    }
   ],
   "source": [
    "transactions = pd.read_csv(r'C:\\Users\\sucha\\Downloads\\transactions.csv')\n",
    "print(transactions.info())"
   ]
  },
  {
   "cell_type": "code",
   "execution_count": 37,
   "metadata": {},
   "outputs": [
    {
     "name": "stdout",
     "output_type": "stream",
     "text": [
      "                                           msno  payment_method_id  \\\n",
      "0  YyO+tlZtAXYXoZhNr3Vg3+dfVQvrBVGO8j1mfqe4ZHc=                 41   \n",
      "1  AZtu6Wl0gPojrEQYB8Q3vBSmE2wnZ3hi1FbK1rQQ0A4=                 41   \n",
      "2  UkDFI97Qb6+s2LWcijVVv4rMAsORbVDT2wNXF0aVbns=                 41   \n",
      "3  M1C56ijxozNaGD0t2h68PnH2xtx5iO5iR2MVYQB6nBI=                 39   \n",
      "4  yvj6zyBUaqdbUQSrKsrZ+xNDVM62knauSZJzakS9OW4=                 39   \n",
      "\n",
      "   payment_plan_days  plan_list_price  actual_amount_paid  is_auto_renew  \\\n",
      "0                 30              129                 129              1   \n",
      "1                 30              149                 149              1   \n",
      "2                 30              129                 129              1   \n",
      "3                 30              149                 149              1   \n",
      "4                 30              149                 149              1   \n",
      "\n",
      "   transaction_date  membership_expire_date  is_cancel  \n",
      "0          20150930                20151101          0  \n",
      "1          20150930                20151031          0  \n",
      "2          20150930                20160427          0  \n",
      "3          20150930                20151128          0  \n",
      "4          20150930                20151121          0  \n"
     ]
    }
   ],
   "source": [
    "print(transactions.head())"
   ]
  },
  {
   "cell_type": "markdown",
   "metadata": {},
   "source": [
    "# Loading and getting information about Members dataset"
   ]
  },
  {
   "cell_type": "code",
   "execution_count": 39,
   "metadata": {},
   "outputs": [
    {
     "name": "stdout",
     "output_type": "stream",
     "text": [
      "<class 'pandas.core.frame.DataFrame'>\n",
      "RangeIndex: 6769473 entries, 0 to 6769472\n",
      "Data columns (total 6 columns):\n",
      "msno                      object\n",
      "city                      int64\n",
      "bd                        int64\n",
      "gender                    object\n",
      "registered_via            int64\n",
      "registration_init_time    int64\n",
      "dtypes: int64(4), object(2)\n",
      "memory usage: 309.9+ MB\n",
      "None\n"
     ]
    }
   ],
   "source": [
    "members = pd.read_csv(r'C:\\Users\\sucha\\Downloads\\members_v3.csv')\n",
    "\n",
    "print(members.info())"
   ]
  },
  {
   "cell_type": "code",
   "execution_count": 41,
   "metadata": {},
   "outputs": [
    {
     "data": {
      "text/plain": [
       "msno                            0\n",
       "city                            0\n",
       "bd                              0\n",
       "gender                    4429505\n",
       "registered_via                  0\n",
       "registration_init_time          0\n",
       "dtype: int64"
      ]
     },
     "execution_count": 41,
     "metadata": {},
     "output_type": "execute_result"
    }
   ],
   "source": [
    "# Checking for Null values\n",
    "members.isnull().sum()"
   ]
  },
  {
   "cell_type": "markdown",
   "metadata": {},
   "source": [
    "# Merging transactions table with train dataset "
   ]
  },
  {
   "cell_type": "code",
   "execution_count": 43,
   "metadata": {},
   "outputs": [
    {
     "name": "stdout",
     "output_type": "stream",
     "text": [
      "                                           msno  is_churn  payment_method_id  \\\n",
      "0  waLDQMmcOu2jLDaV1ddDkgCrB/jl6sD66Xzs0Vqax1Y=         1                 38   \n",
      "1  waLDQMmcOu2jLDaV1ddDkgCrB/jl6sD66Xzs0Vqax1Y=         1                 38   \n",
      "2  QA7uiXy8vIbUSPOkCf9RwQ3FsT8jVq2OxDr8zqa7bRQ=         1                 39   \n",
      "3  QA7uiXy8vIbUSPOkCf9RwQ3FsT8jVq2OxDr8zqa7bRQ=         1                 39   \n",
      "4  QA7uiXy8vIbUSPOkCf9RwQ3FsT8jVq2OxDr8zqa7bRQ=         1                 39   \n",
      "\n",
      "   payment_plan_days  plan_list_price  actual_amount_paid  is_auto_renew  \\\n",
      "0                  7                0                   0              0   \n",
      "1                 30              149                 149              0   \n",
      "2                 30              149                 149              1   \n",
      "3                 30              149                 149              1   \n",
      "4                 30              149                 149              1   \n",
      "\n",
      "   transaction_date  membership_expire_date  is_cancel  \n",
      "0          20161031                20161107          0  \n",
      "1          20170107                20170206          0  \n",
      "2          20161031                20161221          0  \n",
      "3          20160715                20160821          0  \n",
      "4          20160831                20161021          0  \n"
     ]
    }
   ],
   "source": [
    "data1 = pd.merge(train,transactions, on=\"msno\", how = 'left')\n",
    "print(data1.head())"
   ]
  },
  {
   "cell_type": "code",
   "execution_count": 45,
   "metadata": {},
   "outputs": [
    {
     "name": "stdout",
     "output_type": "stream",
     "text": [
      "<class 'pandas.core.frame.DataFrame'>\n",
      "Int64Index: 15883148 entries, 0 to 15883147\n",
      "Data columns (total 10 columns):\n",
      "msno                      object\n",
      "is_churn                  int64\n",
      "payment_method_id         int64\n",
      "payment_plan_days         int64\n",
      "plan_list_price           int64\n",
      "actual_amount_paid        int64\n",
      "is_auto_renew             int64\n",
      "transaction_date          int64\n",
      "membership_expire_date    int64\n",
      "is_cancel                 int64\n",
      "dtypes: int64(9), object(1)\n",
      "memory usage: 1.3+ GB\n",
      "None\n"
     ]
    }
   ],
   "source": [
    "print(data1.info())"
   ]
  },
  {
   "cell_type": "markdown",
   "metadata": {},
   "source": [
    "# Merging new created data with Members dataset \n",
    "#### To get all the data in one single table."
   ]
  },
  {
   "cell_type": "code",
   "execution_count": 47,
   "metadata": {},
   "outputs": [
    {
     "name": "stdout",
     "output_type": "stream",
     "text": [
      "                                           msno  is_churn  payment_method_id  \\\n",
      "0  waLDQMmcOu2jLDaV1ddDkgCrB/jl6sD66Xzs0Vqax1Y=         1                 38   \n",
      "1  waLDQMmcOu2jLDaV1ddDkgCrB/jl6sD66Xzs0Vqax1Y=         1                 38   \n",
      "2  QA7uiXy8vIbUSPOkCf9RwQ3FsT8jVq2OxDr8zqa7bRQ=         1                 39   \n",
      "3  QA7uiXy8vIbUSPOkCf9RwQ3FsT8jVq2OxDr8zqa7bRQ=         1                 39   \n",
      "4  QA7uiXy8vIbUSPOkCf9RwQ3FsT8jVq2OxDr8zqa7bRQ=         1                 39   \n",
      "\n",
      "   payment_plan_days  plan_list_price  actual_amount_paid  is_auto_renew  \\\n",
      "0                  7                0                   0              0   \n",
      "1                 30              149                 149              0   \n",
      "2                 30              149                 149              1   \n",
      "3                 30              149                 149              1   \n",
      "4                 30              149                 149              1   \n",
      "\n",
      "   transaction_date  membership_expire_date  is_cancel  city    bd  gender  \\\n",
      "0          20161031                20161107          0  18.0  36.0  female   \n",
      "1          20170107                20170206          0  18.0  36.0  female   \n",
      "2          20161031                20161221          0  10.0  38.0    male   \n",
      "3          20160715                20160821          0  10.0  38.0    male   \n",
      "4          20160831                20161021          0  10.0  38.0    male   \n",
      "\n",
      "   registered_via  registration_init_time  \n",
      "0             9.0              20050406.0  \n",
      "1             9.0              20050406.0  \n",
      "2             9.0              20050407.0  \n",
      "3             9.0              20050407.0  \n",
      "4             9.0              20050407.0  \n"
     ]
    }
   ],
   "source": [
    "data = pd.merge(data1,members, on=\"msno\", how = 'left')\n",
    "print(data.head())"
   ]
  },
  {
   "cell_type": "code",
   "execution_count": 49,
   "metadata": {},
   "outputs": [
    {
     "data": {
      "text/html": [
       "<div>\n",
       "<style scoped>\n",
       "    .dataframe tbody tr th:only-of-type {\n",
       "        vertical-align: middle;\n",
       "    }\n",
       "\n",
       "    .dataframe tbody tr th {\n",
       "        vertical-align: top;\n",
       "    }\n",
       "\n",
       "    .dataframe thead th {\n",
       "        text-align: right;\n",
       "    }\n",
       "</style>\n",
       "<table border=\"1\" class=\"dataframe\">\n",
       "  <thead>\n",
       "    <tr style=\"text-align: right;\">\n",
       "      <th></th>\n",
       "      <th>msno</th>\n",
       "      <th>is_churn</th>\n",
       "      <th>payment_method_id</th>\n",
       "      <th>payment_plan_days</th>\n",
       "      <th>plan_list_price</th>\n",
       "      <th>actual_amount_paid</th>\n",
       "      <th>is_auto_renew</th>\n",
       "      <th>transaction_date</th>\n",
       "      <th>membership_expire_date</th>\n",
       "      <th>is_cancel</th>\n",
       "      <th>city</th>\n",
       "      <th>bd</th>\n",
       "      <th>gender</th>\n",
       "      <th>registered_via</th>\n",
       "      <th>registration_init_time</th>\n",
       "    </tr>\n",
       "  </thead>\n",
       "  <tbody>\n",
       "    <tr>\n",
       "      <th>414542</th>\n",
       "      <td>8KV3Ig353WaZuYo8H76KSJcLT+z3A6hxIxYoB30DaGs=</td>\n",
       "      <td>1</td>\n",
       "      <td>41</td>\n",
       "      <td>30</td>\n",
       "      <td>99</td>\n",
       "      <td>99</td>\n",
       "      <td>1</td>\n",
       "      <td>20161105</td>\n",
       "      <td>20161205</td>\n",
       "      <td>0</td>\n",
       "      <td>NaN</td>\n",
       "      <td>NaN</td>\n",
       "      <td>NaN</td>\n",
       "      <td>NaN</td>\n",
       "      <td>NaN</td>\n",
       "    </tr>\n",
       "    <tr>\n",
       "      <th>414543</th>\n",
       "      <td>8KV3Ig353WaZuYo8H76KSJcLT+z3A6hxIxYoB30DaGs=</td>\n",
       "      <td>1</td>\n",
       "      <td>41</td>\n",
       "      <td>30</td>\n",
       "      <td>99</td>\n",
       "      <td>99</td>\n",
       "      <td>1</td>\n",
       "      <td>20170106</td>\n",
       "      <td>20170106</td>\n",
       "      <td>1</td>\n",
       "      <td>NaN</td>\n",
       "      <td>NaN</td>\n",
       "      <td>NaN</td>\n",
       "      <td>NaN</td>\n",
       "      <td>NaN</td>\n",
       "    </tr>\n",
       "    <tr>\n",
       "      <th>414544</th>\n",
       "      <td>8KV3Ig353WaZuYo8H76KSJcLT+z3A6hxIxYoB30DaGs=</td>\n",
       "      <td>1</td>\n",
       "      <td>41</td>\n",
       "      <td>30</td>\n",
       "      <td>99</td>\n",
       "      <td>99</td>\n",
       "      <td>1</td>\n",
       "      <td>20170105</td>\n",
       "      <td>20170205</td>\n",
       "      <td>0</td>\n",
       "      <td>NaN</td>\n",
       "      <td>NaN</td>\n",
       "      <td>NaN</td>\n",
       "      <td>NaN</td>\n",
       "      <td>NaN</td>\n",
       "    </tr>\n",
       "  </tbody>\n",
       "</table>\n",
       "</div>"
      ],
      "text/plain": [
       "                                                msno  is_churn  \\\n",
       "414542  8KV3Ig353WaZuYo8H76KSJcLT+z3A6hxIxYoB30DaGs=         1   \n",
       "414543  8KV3Ig353WaZuYo8H76KSJcLT+z3A6hxIxYoB30DaGs=         1   \n",
       "414544  8KV3Ig353WaZuYo8H76KSJcLT+z3A6hxIxYoB30DaGs=         1   \n",
       "\n",
       "        payment_method_id  payment_plan_days  plan_list_price  \\\n",
       "414542                 41                 30               99   \n",
       "414543                 41                 30               99   \n",
       "414544                 41                 30               99   \n",
       "\n",
       "        actual_amount_paid  is_auto_renew  transaction_date  \\\n",
       "414542                  99              1          20161105   \n",
       "414543                  99              1          20170106   \n",
       "414544                  99              1          20170105   \n",
       "\n",
       "        membership_expire_date  is_cancel  city  bd gender  registered_via  \\\n",
       "414542                20161205          0   NaN NaN    NaN             NaN   \n",
       "414543                20170106          1   NaN NaN    NaN             NaN   \n",
       "414544                20170205          0   NaN NaN    NaN             NaN   \n",
       "\n",
       "        registration_init_time  \n",
       "414542                     NaN  \n",
       "414543                     NaN  \n",
       "414544                     NaN  "
      ]
     },
     "execution_count": 49,
     "metadata": {},
     "output_type": "execute_result"
    }
   ],
   "source": [
    "data[data.msno == \"8KV3Ig353WaZuYo8H76KSJcLT+z3A6hxIxYoB30DaGs=\"]"
   ]
  },
  {
   "cell_type": "code",
   "execution_count": 51,
   "metadata": {},
   "outputs": [
    {
     "name": "stdout",
     "output_type": "stream",
     "text": [
      "<class 'pandas.core.frame.DataFrame'>\n",
      "Int64Index: 15883148 entries, 0 to 15883147\n",
      "Data columns (total 15 columns):\n",
      "msno                      object\n",
      "is_churn                  int64\n",
      "payment_method_id         int64\n",
      "payment_plan_days         int64\n",
      "plan_list_price           int64\n",
      "actual_amount_paid        int64\n",
      "is_auto_renew             int64\n",
      "transaction_date          int64\n",
      "membership_expire_date    int64\n",
      "is_cancel                 int64\n",
      "city                      float64\n",
      "bd                        float64\n",
      "gender                    object\n",
      "registered_via            float64\n",
      "registration_init_time    float64\n",
      "dtypes: float64(4), int64(9), object(2)\n",
      "memory usage: 1.9+ GB\n",
      "None\n"
     ]
    }
   ],
   "source": [
    "print(data.info())\n",
    "#data.isnull().sum()     # To check which columns have null values and how many."
   ]
  },
  {
   "cell_type": "markdown",
   "metadata": {},
   "source": [
    "#### Feature City's missing values filled with forward fill method"
   ]
  },
  {
   "cell_type": "code",
   "execution_count": 53,
   "metadata": {},
   "outputs": [
    {
     "name": "stdout",
     "output_type": "stream",
     "text": [
      "[18. 10. 11. 13.  3.  6.  4. 14. 22. 17.  5.  9.  1. 15. 12.  8.  7. 21.\n",
      " 20. 16. 19.]\n"
     ]
    }
   ],
   "source": [
    "data['city'] = data['city'].fillna(method='ffill')\n",
    "data['city'].isnull().any()\n",
    "print(data['city'].unique())"
   ]
  },
  {
   "cell_type": "markdown",
   "metadata": {},
   "source": [
    "#### Feature registered_via's missing values filled with forward fill method"
   ]
  },
  {
   "cell_type": "code",
   "execution_count": 55,
   "metadata": {},
   "outputs": [
    {
     "name": "stdout",
     "output_type": "stream",
     "text": [
      "[ 9.  7.  3.  4. 13.]\n"
     ]
    }
   ],
   "source": [
    "data['registered_via'] = data['registered_via'].fillna(method='ffill')\n",
    "data['registered_via'].isnull().any()\n",
    "print(data['registered_via'].unique())"
   ]
  },
  {
   "cell_type": "markdown",
   "metadata": {},
   "source": [
    "#### Filling up the missing values with new category 'missing' for Gender variable."
   ]
  },
  {
   "cell_type": "code",
   "execution_count": 57,
   "metadata": {},
   "outputs": [
    {
     "data": {
      "text/plain": [
       "[female, male, NaN]\n",
       "Categories (2, object): [female, male]"
      ]
     },
     "execution_count": 57,
     "metadata": {},
     "output_type": "execute_result"
    }
   ],
   "source": [
    "data['gender']= data['gender'].astype('category')\n",
    "data['gender'].unique()"
   ]
  },
  {
   "cell_type": "markdown",
   "metadata": {},
   "source": [
    "#### Feature registration_init_time's missing values filled with forward fill method"
   ]
  },
  {
   "cell_type": "code",
   "execution_count": 59,
   "metadata": {},
   "outputs": [
    {
     "name": "stdout",
     "output_type": "stream",
     "text": [
      "[20050406. 20050407. 20051016. ... 20170312. 20170301. 20040616.]\n"
     ]
    },
    {
     "data": {
      "text/plain": [
       "0    20050406.0\n",
       "1    20050406.0\n",
       "2    20050407.0\n",
       "3    20050407.0\n",
       "4    20050407.0\n",
       "Name: registration_init_time, dtype: float64"
      ]
     },
     "execution_count": 59,
     "metadata": {},
     "output_type": "execute_result"
    }
   ],
   "source": [
    "print(data['registration_init_time'].unique())\n",
    "data['registration_init_time'] = data['registration_init_time'].fillna(method='ffill')\n",
    "data['registration_init_time'].isnull().any()\n",
    "data['registration_init_time'].head()"
   ]
  },
  {
   "cell_type": "markdown",
   "metadata": {},
   "source": [
    "Need to remove '.0' from below columns by using strip function"
   ]
  },
  {
   "cell_type": "markdown",
   "metadata": {},
   "source": [
    "#### Removing .0 from city and registered_via features"
   ]
  },
  {
   "cell_type": "code",
   "execution_count": 61,
   "metadata": {},
   "outputs": [],
   "source": [
    "data['city'] = data['city'].apply(lambda x: str(x).strip('.0'))\n",
    "data['registered_via'] = data['registered_via'].apply(lambda x:str(x).strip('.0'))"
   ]
  },
  {
   "cell_type": "markdown",
   "metadata": {},
   "source": [
    "#### Features registration_init_time, membership_expire_date, transaction_date are converted In Date Format"
   ]
  },
  {
   "cell_type": "code",
   "execution_count": 63,
   "metadata": {},
   "outputs": [],
   "source": [
    "data['registration_init_time'] = data['registration_init_time'].astype(str)\n",
    "data['registration_init_time'] = data['registration_init_time'].apply(lambda x: x.strip('.0'))\n",
    "data['registration_init_time'] =data['registration_init_time'].apply(lambda x: datetime.strptime(str(x), \"%Y%m%d\").date())\n",
    "data['membership_expire_date'] = data['membership_expire_date'].apply(lambda x: datetime.strptime(str(x), \"%Y%m%d\").date())\n",
    "data['transaction_date'] = data['transaction_date'].apply(lambda x: datetime.strptime(str(x), \"%Y%m%d\").date())\n"
   ]
  },
  {
   "cell_type": "markdown",
   "metadata": {},
   "source": [
    "### After aggregating data according to msno id , \"No. of transactions\"  column is created "
   ]
  },
  {
   "cell_type": "code",
   "execution_count": 65,
   "metadata": {},
   "outputs": [],
   "source": [
    "import warnings\n",
    "warnings.filterwarnings(action='ignore', category=FutureWarning)\n",
    "id_transactions = data.groupby(\"msno\")[\"msno\"].agg({\"No_of_transactions\" : lambda x:x.count()})"
   ]
  },
  {
   "cell_type": "code",
   "execution_count": 67,
   "metadata": {},
   "outputs": [
    {
     "data": {
      "text/html": [
       "<div>\n",
       "<style scoped>\n",
       "    .dataframe tbody tr th:only-of-type {\n",
       "        vertical-align: middle;\n",
       "    }\n",
       "\n",
       "    .dataframe tbody tr th {\n",
       "        vertical-align: top;\n",
       "    }\n",
       "\n",
       "    .dataframe thead th {\n",
       "        text-align: right;\n",
       "    }\n",
       "</style>\n",
       "<table border=\"1\" class=\"dataframe\">\n",
       "  <thead>\n",
       "    <tr style=\"text-align: right;\">\n",
       "      <th></th>\n",
       "      <th>msno</th>\n",
       "      <th>is_churn</th>\n",
       "      <th>payment_method_id</th>\n",
       "      <th>payment_plan_days</th>\n",
       "      <th>plan_list_price</th>\n",
       "      <th>actual_amount_paid</th>\n",
       "      <th>is_auto_renew</th>\n",
       "      <th>transaction_date</th>\n",
       "      <th>membership_expire_date</th>\n",
       "      <th>is_cancel</th>\n",
       "      <th>city</th>\n",
       "      <th>bd</th>\n",
       "      <th>gender</th>\n",
       "      <th>registered_via</th>\n",
       "      <th>registration_init_time</th>\n",
       "    </tr>\n",
       "  </thead>\n",
       "  <tbody>\n",
       "    <tr>\n",
       "      <th>414542</th>\n",
       "      <td>8KV3Ig353WaZuYo8H76KSJcLT+z3A6hxIxYoB30DaGs=</td>\n",
       "      <td>1</td>\n",
       "      <td>41</td>\n",
       "      <td>30</td>\n",
       "      <td>99</td>\n",
       "      <td>99</td>\n",
       "      <td>1</td>\n",
       "      <td>2016-11-05</td>\n",
       "      <td>2016-12-05</td>\n",
       "      <td>0</td>\n",
       "      <td>1</td>\n",
       "      <td>NaN</td>\n",
       "      <td>NaN</td>\n",
       "      <td>13</td>\n",
       "      <td>2017-03-21</td>\n",
       "    </tr>\n",
       "    <tr>\n",
       "      <th>414543</th>\n",
       "      <td>8KV3Ig353WaZuYo8H76KSJcLT+z3A6hxIxYoB30DaGs=</td>\n",
       "      <td>1</td>\n",
       "      <td>41</td>\n",
       "      <td>30</td>\n",
       "      <td>99</td>\n",
       "      <td>99</td>\n",
       "      <td>1</td>\n",
       "      <td>2017-01-06</td>\n",
       "      <td>2017-01-06</td>\n",
       "      <td>1</td>\n",
       "      <td>1</td>\n",
       "      <td>NaN</td>\n",
       "      <td>NaN</td>\n",
       "      <td>13</td>\n",
       "      <td>2017-03-21</td>\n",
       "    </tr>\n",
       "    <tr>\n",
       "      <th>414544</th>\n",
       "      <td>8KV3Ig353WaZuYo8H76KSJcLT+z3A6hxIxYoB30DaGs=</td>\n",
       "      <td>1</td>\n",
       "      <td>41</td>\n",
       "      <td>30</td>\n",
       "      <td>99</td>\n",
       "      <td>99</td>\n",
       "      <td>1</td>\n",
       "      <td>2017-01-05</td>\n",
       "      <td>2017-02-05</td>\n",
       "      <td>0</td>\n",
       "      <td>1</td>\n",
       "      <td>NaN</td>\n",
       "      <td>NaN</td>\n",
       "      <td>13</td>\n",
       "      <td>2017-03-21</td>\n",
       "    </tr>\n",
       "  </tbody>\n",
       "</table>\n",
       "</div>"
      ],
      "text/plain": [
       "                                                msno  is_churn  \\\n",
       "414542  8KV3Ig353WaZuYo8H76KSJcLT+z3A6hxIxYoB30DaGs=         1   \n",
       "414543  8KV3Ig353WaZuYo8H76KSJcLT+z3A6hxIxYoB30DaGs=         1   \n",
       "414544  8KV3Ig353WaZuYo8H76KSJcLT+z3A6hxIxYoB30DaGs=         1   \n",
       "\n",
       "        payment_method_id  payment_plan_days  plan_list_price  \\\n",
       "414542                 41                 30               99   \n",
       "414543                 41                 30               99   \n",
       "414544                 41                 30               99   \n",
       "\n",
       "        actual_amount_paid  is_auto_renew transaction_date  \\\n",
       "414542                  99              1       2016-11-05   \n",
       "414543                  99              1       2017-01-06   \n",
       "414544                  99              1       2017-01-05   \n",
       "\n",
       "       membership_expire_date  is_cancel city  bd gender registered_via  \\\n",
       "414542             2016-12-05          0    1 NaN    NaN             13   \n",
       "414543             2017-01-06          1    1 NaN    NaN             13   \n",
       "414544             2017-02-05          0    1 NaN    NaN             13   \n",
       "\n",
       "       registration_init_time  \n",
       "414542             2017-03-21  \n",
       "414543             2017-03-21  \n",
       "414544             2017-03-21  "
      ]
     },
     "execution_count": 67,
     "metadata": {},
     "output_type": "execute_result"
    }
   ],
   "source": [
    "data[data.msno == \"8KV3Ig353WaZuYo8H76KSJcLT+z3A6hxIxYoB30DaGs=\"]"
   ]
  },
  {
   "cell_type": "code",
   "execution_count": 69,
   "metadata": {},
   "outputs": [],
   "source": [
    "## Aggregating data according to msno-id as index variable.\n",
    "import warnings\n",
    "warnings.filterwarnings(action='ignore', category=RuntimeWarning)\n",
    "data_mode = data[[\"msno\",\"city\",\"bd\",\"gender\",\"registered_via\",\"payment_plan_days\",\"registration_init_time\"]].groupby(\"msno\").agg(lambda x: stats.mode(x)[0])\n",
    "data_mean = data[[\"msno\",\"is_churn\",\"payment_method_id\",\"plan_list_price\",\"actual_amount_paid\",\n",
    "                  \"is_auto_renew\",\"is_cancel\"]].groupby(\"msno\").agg(lambda x: np.mean(x))\n",
    "data_min = data[[\"msno\",\"transaction_date\"]].groupby(\"msno\").agg(lambda x: min(x))\n",
    "data_max = data[[\"msno\",\"membership_expire_date\"]].groupby(\"msno\").agg(lambda x: max(x))"
   ]
  },
  {
   "cell_type": "markdown",
   "metadata": {},
   "source": [
    "# Merging dataframes to one Dataset"
   ]
  },
  {
   "cell_type": "code",
   "execution_count": 71,
   "metadata": {},
   "outputs": [
    {
     "name": "stdout",
     "output_type": "stream",
     "text": [
      "                                              No_of_transactions  is_churn  \\\n",
      "msno                                                                         \n",
      "+++hVY1rZox/33YtvDgmKA2Frg/2qhkz12B9ylCvh8o=                   4         0   \n",
      "+++l/EXNMLTijfLBa8p2TUVVVp2aFGSuUI/h7mLmthw=                  19         0   \n",
      "+++snpr7pmobhLKUgSHTv/mpkqgBT0tQJ0zQj6qKrqc=                  26         0   \n",
      "++/9R3sX37CjxbY/AaGvbwr3QkwElKBCtSvVzhCBDOk=                  12         0   \n",
      "++/UDNo9DLrxT8QVGiDi1OnWfczAdEwThaVyD0fXO50=                  19         0   \n",
      "\n",
      "                                              payment_method_id  \\\n",
      "msno                                                              \n",
      "+++hVY1rZox/33YtvDgmKA2Frg/2qhkz12B9ylCvh8o=               41.0   \n",
      "+++l/EXNMLTijfLBa8p2TUVVVp2aFGSuUI/h7mLmthw=               39.0   \n",
      "+++snpr7pmobhLKUgSHTv/mpkqgBT0tQJ0zQj6qKrqc=               41.0   \n",
      "++/9R3sX37CjxbY/AaGvbwr3QkwElKBCtSvVzhCBDOk=               41.0   \n",
      "++/UDNo9DLrxT8QVGiDi1OnWfczAdEwThaVyD0fXO50=               39.0   \n",
      "\n",
      "                                              plan_list_price  \\\n",
      "msno                                                            \n",
      "+++hVY1rZox/33YtvDgmKA2Frg/2qhkz12B9ylCvh8o=        99.000000   \n",
      "+++l/EXNMLTijfLBa8p2TUVVVp2aFGSuUI/h7mLmthw=       141.157895   \n",
      "+++snpr7pmobhLKUgSHTv/mpkqgBT0tQJ0zQj6qKrqc=       143.269231   \n",
      "++/9R3sX37CjxbY/AaGvbwr3QkwElKBCtSvVzhCBDOk=       149.000000   \n",
      "++/UDNo9DLrxT8QVGiDi1OnWfczAdEwThaVyD0fXO50=       141.157895   \n",
      "\n",
      "                                              actual_amount_paid  \\\n",
      "msno                                                               \n",
      "+++hVY1rZox/33YtvDgmKA2Frg/2qhkz12B9ylCvh8o=                99.0   \n",
      "+++l/EXNMLTijfLBa8p2TUVVVp2aFGSuUI/h7mLmthw=               149.0   \n",
      "+++snpr7pmobhLKUgSHTv/mpkqgBT0tQJ0zQj6qKrqc=               149.0   \n",
      "++/9R3sX37CjxbY/AaGvbwr3QkwElKBCtSvVzhCBDOk=               149.0   \n",
      "++/UDNo9DLrxT8QVGiDi1OnWfczAdEwThaVyD0fXO50=               149.0   \n",
      "\n",
      "                                              is_auto_renew  is_cancel  \\\n",
      "msno                                                                     \n",
      "+++hVY1rZox/33YtvDgmKA2Frg/2qhkz12B9ylCvh8o=            1.0        0.0   \n",
      "+++l/EXNMLTijfLBa8p2TUVVVp2aFGSuUI/h7mLmthw=            1.0        0.0   \n",
      "+++snpr7pmobhLKUgSHTv/mpkqgBT0tQJ0zQj6qKrqc=            1.0        0.0   \n",
      "++/9R3sX37CjxbY/AaGvbwr3QkwElKBCtSvVzhCBDOk=            1.0        0.0   \n",
      "++/UDNo9DLrxT8QVGiDi1OnWfczAdEwThaVyD0fXO50=            1.0        0.0   \n",
      "\n",
      "                                             transaction_date  \\\n",
      "msno                                                            \n",
      "+++hVY1rZox/33YtvDgmKA2Frg/2qhkz12B9ylCvh8o=       2016-11-16   \n",
      "+++l/EXNMLTijfLBa8p2TUVVVp2aFGSuUI/h7mLmthw=       2015-01-31   \n",
      "+++snpr7pmobhLKUgSHTv/mpkqgBT0tQJ0zQj6qKrqc=       2015-01-26   \n",
      "++/9R3sX37CjxbY/AaGvbwr3QkwElKBCtSvVzhCBDOk=       2016-03-15   \n",
      "++/UDNo9DLrxT8QVGiDi1OnWfczAdEwThaVyD0fXO50=       2015-01-31   \n",
      "\n",
      "                                             membership_expire_date city  \\\n",
      "msno                                                                       \n",
      "+++hVY1rZox/33YtvDgmKA2Frg/2qhkz12B9ylCvh8o=             2017-03-15    1   \n",
      "+++l/EXNMLTijfLBa8p2TUVVVp2aFGSuUI/h7mLmthw=             2017-03-19   15   \n",
      "+++snpr7pmobhLKUgSHTv/mpkqgBT0tQJ0zQj6qKrqc=             2017-03-26    1   \n",
      "++/9R3sX37CjxbY/AaGvbwr3QkwElKBCtSvVzhCBDOk=             2017-03-15   18   \n",
      "++/UDNo9DLrxT8QVGiDi1OnWfczAdEwThaVyD0fXO50=             2017-03-23   22   \n",
      "\n",
      "                                                bd  gender registered_via  \\\n",
      "msno                                                                        \n",
      "+++hVY1rZox/33YtvDgmKA2Frg/2qhkz12B9ylCvh8o=   0.0     [0]              7   \n",
      "+++l/EXNMLTijfLBa8p2TUVVVp2aFGSuUI/h7mLmthw=  26.0  [male]              9   \n",
      "+++snpr7pmobhLKUgSHTv/mpkqgBT0tQJ0zQj6qKrqc=   0.0     [0]              7   \n",
      "++/9R3sX37CjxbY/AaGvbwr3QkwElKBCtSvVzhCBDOk=  21.0  [male]              7   \n",
      "++/UDNo9DLrxT8QVGiDi1OnWfczAdEwThaVyD0fXO50=  32.0  [male]              9   \n",
      "\n",
      "                                              payment_plan_days  \\\n",
      "msno                                                              \n",
      "+++hVY1rZox/33YtvDgmKA2Frg/2qhkz12B9ylCvh8o=                 30   \n",
      "+++l/EXNMLTijfLBa8p2TUVVVp2aFGSuUI/h7mLmthw=                 30   \n",
      "+++snpr7pmobhLKUgSHTv/mpkqgBT0tQJ0zQj6qKrqc=                 30   \n",
      "++/9R3sX37CjxbY/AaGvbwr3QkwElKBCtSvVzhCBDOk=                 30   \n",
      "++/UDNo9DLrxT8QVGiDi1OnWfczAdEwThaVyD0fXO50=                 30   \n",
      "\n",
      "                                             registration_init_time  \n",
      "msno                                                                 \n",
      "+++hVY1rZox/33YtvDgmKA2Frg/2qhkz12B9ylCvh8o=             2014-06-08  \n",
      "+++l/EXNMLTijfLBa8p2TUVVVp2aFGSuUI/h7mLmthw=             2010-11-18  \n",
      "+++snpr7pmobhLKUgSHTv/mpkqgBT0tQJ0zQj6qKrqc=             2014-09-27  \n",
      "++/9R3sX37CjxbY/AaGvbwr3QkwElKBCtSvVzhCBDOk=             2016-03-15  \n",
      "++/UDNo9DLrxT8QVGiDi1OnWfczAdEwThaVyD0fXO50=             2012-01-22  \n"
     ]
    }
   ],
   "source": [
    "df1 = pd.merge(id_transactions,data_mean, on=\"msno\", how = 'left')\n",
    "dataset = pd.merge(df1,data_min, on=\"msno\", how = 'left').merge(data_max, on=\"msno\", how = 'left').merge(data_mode, on=\"msno\", how = 'left')\n",
    "print(dataset.head())"
   ]
  },
  {
   "cell_type": "code",
   "execution_count": 73,
   "metadata": {},
   "outputs": [],
   "source": [
    "# Rounding off the values to near integer\n",
    "dataset[\"payment_method_id\"]= dataset.payment_method_id.apply(lambda x: round(x)).apply(lambda x: int(x))\n",
    "dataset[\"plan_list_price\"] = dataset.plan_list_price.apply(lambda x: round(x)).apply(lambda x: int(x))\n",
    "#et[\"payment_plan_days\"] = dataset.payment_plan_days.apply(lambda x: round(x)).apply(lambda x: int(x))\n",
    "dataset[\"is_auto_renew\"] = dataset.is_auto_renew.apply(lambda x: round(x)).apply(lambda x: int(x))\n",
    "dataset[\"actual_amount_paid\"] = dataset.actual_amount_paid.apply(lambda x: round(x)).apply(lambda x: int(x))\n",
    "dataset[\"is_cancel\"] = dataset.is_cancel.apply(lambda x: round(x)).apply(lambda x: int(x))\n",
    "dataset[\"bd\"] = dataset.bd.apply(lambda x: round(x)).apply(lambda x: int(x))\n"
   ]
  },
  {
   "cell_type": "code",
   "execution_count": 75,
   "metadata": {},
   "outputs": [
    {
     "name": "stdout",
     "output_type": "stream",
     "text": [
      "                                              No_of_transactions  is_churn  \\\n",
      "msno                                                                         \n",
      "+++hVY1rZox/33YtvDgmKA2Frg/2qhkz12B9ylCvh8o=                   4         0   \n",
      "+++l/EXNMLTijfLBa8p2TUVVVp2aFGSuUI/h7mLmthw=                  19         0   \n",
      "+++snpr7pmobhLKUgSHTv/mpkqgBT0tQJ0zQj6qKrqc=                  26         0   \n",
      "++/9R3sX37CjxbY/AaGvbwr3QkwElKBCtSvVzhCBDOk=                  12         0   \n",
      "++/UDNo9DLrxT8QVGiDi1OnWfczAdEwThaVyD0fXO50=                  19         0   \n",
      "\n",
      "                                              payment_method_id  \\\n",
      "msno                                                              \n",
      "+++hVY1rZox/33YtvDgmKA2Frg/2qhkz12B9ylCvh8o=                 41   \n",
      "+++l/EXNMLTijfLBa8p2TUVVVp2aFGSuUI/h7mLmthw=                 39   \n",
      "+++snpr7pmobhLKUgSHTv/mpkqgBT0tQJ0zQj6qKrqc=                 41   \n",
      "++/9R3sX37CjxbY/AaGvbwr3QkwElKBCtSvVzhCBDOk=                 41   \n",
      "++/UDNo9DLrxT8QVGiDi1OnWfczAdEwThaVyD0fXO50=                 39   \n",
      "\n",
      "                                              plan_list_price  \\\n",
      "msno                                                            \n",
      "+++hVY1rZox/33YtvDgmKA2Frg/2qhkz12B9ylCvh8o=               99   \n",
      "+++l/EXNMLTijfLBa8p2TUVVVp2aFGSuUI/h7mLmthw=              141   \n",
      "+++snpr7pmobhLKUgSHTv/mpkqgBT0tQJ0zQj6qKrqc=              143   \n",
      "++/9R3sX37CjxbY/AaGvbwr3QkwElKBCtSvVzhCBDOk=              149   \n",
      "++/UDNo9DLrxT8QVGiDi1OnWfczAdEwThaVyD0fXO50=              141   \n",
      "\n",
      "                                              actual_amount_paid  \\\n",
      "msno                                                               \n",
      "+++hVY1rZox/33YtvDgmKA2Frg/2qhkz12B9ylCvh8o=                  99   \n",
      "+++l/EXNMLTijfLBa8p2TUVVVp2aFGSuUI/h7mLmthw=                 149   \n",
      "+++snpr7pmobhLKUgSHTv/mpkqgBT0tQJ0zQj6qKrqc=                 149   \n",
      "++/9R3sX37CjxbY/AaGvbwr3QkwElKBCtSvVzhCBDOk=                 149   \n",
      "++/UDNo9DLrxT8QVGiDi1OnWfczAdEwThaVyD0fXO50=                 149   \n",
      "\n",
      "                                              is_auto_renew  is_cancel  \\\n",
      "msno                                                                     \n",
      "+++hVY1rZox/33YtvDgmKA2Frg/2qhkz12B9ylCvh8o=              1          0   \n",
      "+++l/EXNMLTijfLBa8p2TUVVVp2aFGSuUI/h7mLmthw=              1          0   \n",
      "+++snpr7pmobhLKUgSHTv/mpkqgBT0tQJ0zQj6qKrqc=              1          0   \n",
      "++/9R3sX37CjxbY/AaGvbwr3QkwElKBCtSvVzhCBDOk=              1          0   \n",
      "++/UDNo9DLrxT8QVGiDi1OnWfczAdEwThaVyD0fXO50=              1          0   \n",
      "\n",
      "                                             transaction_date  \\\n",
      "msno                                                            \n",
      "+++hVY1rZox/33YtvDgmKA2Frg/2qhkz12B9ylCvh8o=       2016-11-16   \n",
      "+++l/EXNMLTijfLBa8p2TUVVVp2aFGSuUI/h7mLmthw=       2015-01-31   \n",
      "+++snpr7pmobhLKUgSHTv/mpkqgBT0tQJ0zQj6qKrqc=       2015-01-26   \n",
      "++/9R3sX37CjxbY/AaGvbwr3QkwElKBCtSvVzhCBDOk=       2016-03-15   \n",
      "++/UDNo9DLrxT8QVGiDi1OnWfczAdEwThaVyD0fXO50=       2015-01-31   \n",
      "\n",
      "                                             membership_expire_date city  bd  \\\n",
      "msno                                                                           \n",
      "+++hVY1rZox/33YtvDgmKA2Frg/2qhkz12B9ylCvh8o=             2017-03-15    1   0   \n",
      "+++l/EXNMLTijfLBa8p2TUVVVp2aFGSuUI/h7mLmthw=             2017-03-19   15  26   \n",
      "+++snpr7pmobhLKUgSHTv/mpkqgBT0tQJ0zQj6qKrqc=             2017-03-26    1   0   \n",
      "++/9R3sX37CjxbY/AaGvbwr3QkwElKBCtSvVzhCBDOk=             2017-03-15   18  21   \n",
      "++/UDNo9DLrxT8QVGiDi1OnWfczAdEwThaVyD0fXO50=             2017-03-23   22  32   \n",
      "\n",
      "                                              gender registered_via  \\\n",
      "msno                                                                  \n",
      "+++hVY1rZox/33YtvDgmKA2Frg/2qhkz12B9ylCvh8o=     [0]              7   \n",
      "+++l/EXNMLTijfLBa8p2TUVVVp2aFGSuUI/h7mLmthw=  [male]              9   \n",
      "+++snpr7pmobhLKUgSHTv/mpkqgBT0tQJ0zQj6qKrqc=     [0]              7   \n",
      "++/9R3sX37CjxbY/AaGvbwr3QkwElKBCtSvVzhCBDOk=  [male]              7   \n",
      "++/UDNo9DLrxT8QVGiDi1OnWfczAdEwThaVyD0fXO50=  [male]              9   \n",
      "\n",
      "                                              payment_plan_days  \\\n",
      "msno                                                              \n",
      "+++hVY1rZox/33YtvDgmKA2Frg/2qhkz12B9ylCvh8o=                 30   \n",
      "+++l/EXNMLTijfLBa8p2TUVVVp2aFGSuUI/h7mLmthw=                 30   \n",
      "+++snpr7pmobhLKUgSHTv/mpkqgBT0tQJ0zQj6qKrqc=                 30   \n",
      "++/9R3sX37CjxbY/AaGvbwr3QkwElKBCtSvVzhCBDOk=                 30   \n",
      "++/UDNo9DLrxT8QVGiDi1OnWfczAdEwThaVyD0fXO50=                 30   \n",
      "\n",
      "                                             registration_init_time  \\\n",
      "msno                                                                  \n",
      "+++hVY1rZox/33YtvDgmKA2Frg/2qhkz12B9ylCvh8o=             2014-06-08   \n",
      "+++l/EXNMLTijfLBa8p2TUVVVp2aFGSuUI/h7mLmthw=             2010-11-18   \n",
      "+++snpr7pmobhLKUgSHTv/mpkqgBT0tQJ0zQj6qKrqc=             2014-09-27   \n",
      "++/9R3sX37CjxbY/AaGvbwr3QkwElKBCtSvVzhCBDOk=             2016-03-15   \n",
      "++/UDNo9DLrxT8QVGiDi1OnWfczAdEwThaVyD0fXO50=             2012-01-22   \n",
      "\n",
      "                                             registration_init_time_weekday  \\\n",
      "msno                                                                          \n",
      "+++hVY1rZox/33YtvDgmKA2Frg/2qhkz12B9ylCvh8o=                         Sunday   \n",
      "+++l/EXNMLTijfLBa8p2TUVVVp2aFGSuUI/h7mLmthw=                       Thursday   \n",
      "+++snpr7pmobhLKUgSHTv/mpkqgBT0tQJ0zQj6qKrqc=                       Saturday   \n",
      "++/9R3sX37CjxbY/AaGvbwr3QkwElKBCtSvVzhCBDOk=                        Tuesday   \n",
      "++/UDNo9DLrxT8QVGiDi1OnWfczAdEwThaVyD0fXO50=                         Sunday   \n",
      "\n",
      "                                              lifetime  \n",
      "msno                                                    \n",
      "+++hVY1rZox/33YtvDgmKA2Frg/2qhkz12B9ylCvh8o=        33  \n",
      "+++l/EXNMLTijfLBa8p2TUVVVp2aFGSuUI/h7mLmthw=        76  \n",
      "+++snpr7pmobhLKUgSHTv/mpkqgBT0tQJ0zQj6qKrqc=        30  \n",
      "++/9R3sX37CjxbY/AaGvbwr3QkwElKBCtSvVzhCBDOk=        12  \n",
      "++/UDNo9DLrxT8QVGiDi1OnWfczAdEwThaVyD0fXO50=        62  \n"
     ]
    }
   ],
   "source": [
    "print(dataset.head())"
   ]
  },
  {
   "cell_type": "code",
   "execution_count": 77,
   "metadata": {},
   "outputs": [
    {
     "name": "stdout",
     "output_type": "stream",
     "text": [
      "msno\n",
      "+++hVY1rZox/33YtvDgmKA2Frg/2qhkz12B9ylCvh8o=     NaN\n",
      "+++l/EXNMLTijfLBa8p2TUVVVp2aFGSuUI/h7mLmthw=    male\n",
      "+++snpr7pmobhLKUgSHTv/mpkqgBT0tQJ0zQj6qKrqc=     NaN\n",
      "++/9R3sX37CjxbY/AaGvbwr3QkwElKBCtSvVzhCBDOk=    male\n",
      "++/UDNo9DLrxT8QVGiDi1OnWfczAdEwThaVyD0fXO50=    male\n",
      "Name: gender, dtype: object\n"
     ]
    }
   ],
   "source": [
    "# Gender column\n",
    "dataset['gender'] = dataset['gender'].astype(str).apply(lambda x: x.strip('[]').replace(\"'\",\"\"))\n",
    "dataset['gender'] = dataset['gender'].replace('0', np.nan)\n",
    "print(dataset['gender'].head())"
   ]
  },
  {
   "cell_type": "code",
   "execution_count": 79,
   "metadata": {},
   "outputs": [
    {
     "name": "stdout",
     "output_type": "stream",
     "text": [
      "<class 'pandas.core.frame.DataFrame'>\n",
      "Index: 992931 entries, +++hVY1rZox/33YtvDgmKA2Frg/2qhkz12B9ylCvh8o= to zzzN9thH22os1dRS0VHReY/8FTfGHOi86//d+wGGFsQ=\n",
      "Data columns (total 17 columns):\n",
      "No_of_transactions                992931 non-null int64\n",
      "is_churn                          992931 non-null int64\n",
      "payment_method_id                 992931 non-null int64\n",
      "plan_list_price                   992931 non-null int64\n",
      "actual_amount_paid                992931 non-null int64\n",
      "is_auto_renew                     992931 non-null int64\n",
      "is_cancel                         992931 non-null int64\n",
      "transaction_date                  992931 non-null object\n",
      "membership_expire_date            992931 non-null object\n",
      "city                              992931 non-null object\n",
      "bd                                992931 non-null int64\n",
      "gender                            391692 non-null object\n",
      "registered_via                    992931 non-null object\n",
      "payment_plan_days                 992931 non-null int64\n",
      "registration_init_time            992931 non-null object\n",
      "registration_init_time_weekday    992931 non-null object\n",
      "lifetime                          992931 non-null int64\n",
      "dtypes: int64(10), object(7)\n",
      "memory usage: 136.4+ MB\n"
     ]
    },
    {
     "data": {
      "text/plain": [
       "No_of_transactions                     0\n",
       "is_churn                               0\n",
       "payment_method_id                      0\n",
       "plan_list_price                        0\n",
       "actual_amount_paid                     0\n",
       "is_auto_renew                          0\n",
       "is_cancel                              0\n",
       "transaction_date                       0\n",
       "membership_expire_date                 0\n",
       "city                                   0\n",
       "bd                                     0\n",
       "gender                            601239\n",
       "registered_via                         0\n",
       "payment_plan_days                      0\n",
       "registration_init_time                 0\n",
       "registration_init_time_weekday         0\n",
       "lifetime                               0\n",
       "dtype: int64"
      ]
     },
     "execution_count": 79,
     "metadata": {},
     "output_type": "execute_result"
    }
   ],
   "source": [
    "## Informtaion about data\n",
    "dataset.info()\n",
    "# Checking for Null values\n",
    "dataset.isnull().sum()"
   ]
  },
  {
   "cell_type": "markdown",
   "metadata": {},
   "source": [
    "# Bar Plot of \"is_churn\" and \"is_auto_renew\" variables"
   ]
  },
  {
   "cell_type": "code",
   "execution_count": 81,
   "metadata": {},
   "outputs": [
    {
     "data": {
      "text/html": [
       "<div>\n",
       "<style scoped>\n",
       "    .dataframe tbody tr th:only-of-type {\n",
       "        vertical-align: middle;\n",
       "    }\n",
       "\n",
       "    .dataframe tbody tr th {\n",
       "        vertical-align: top;\n",
       "    }\n",
       "\n",
       "    .dataframe thead th {\n",
       "        text-align: right;\n",
       "    }\n",
       "</style>\n",
       "<table border=\"1\" class=\"dataframe\">\n",
       "  <thead>\n",
       "    <tr style=\"text-align: right;\">\n",
       "      <th>is_churn</th>\n",
       "      <th>0</th>\n",
       "      <th>1</th>\n",
       "    </tr>\n",
       "    <tr>\n",
       "      <th>is_auto_renew</th>\n",
       "      <th></th>\n",
       "      <th></th>\n",
       "    </tr>\n",
       "  </thead>\n",
       "  <tbody>\n",
       "    <tr>\n",
       "      <th>0</th>\n",
       "      <td>83706</td>\n",
       "      <td>33647</td>\n",
       "    </tr>\n",
       "    <tr>\n",
       "      <th>1</th>\n",
       "      <td>845754</td>\n",
       "      <td>29824</td>\n",
       "    </tr>\n",
       "  </tbody>\n",
       "</table>\n",
       "</div>"
      ],
      "text/plain": [
       "is_churn            0      1\n",
       "is_auto_renew               \n",
       "0               83706  33647\n",
       "1              845754  29824"
      ]
     },
     "execution_count": 81,
     "metadata": {},
     "output_type": "execute_result"
    },
    {
     "data": {
      "image/png": "[encoded data removed]",
      "text/plain": [
       "<Figure size 1080x288 with 1 Axes>"
      ]
     },
     "metadata": {
      "needs_background": "light"
     },
     "output_type": "display_data"
    }
   ],
   "source": [
    "Auto_renew_crosstab=pd.crosstab(dataset['is_auto_renew'],dataset['is_churn'])\n",
    "#Auto_renew_crosstab.plot(kind='bar', stacked=False, grid=False)\n",
    "#Auto_renew_crosstab[\"Ratio\"] =  Auto_renew_crosstab[1] / Auto_renew_crosstab[0]\n",
    "Auto_renew_crosstab\n",
    "\n",
    "ax = (Auto_renew_crosstab.div(Auto_renew_crosstab.sum(1), axis=0)).plot(kind='bar',figsize=(15,4),width = 0.8,edgecolor=None)\n",
    "ax.set_xticklabels([\"No\",\"Yes\"], rotation = 0)\n",
    "ax.legend([\"No\",\"Yes\"], title = \"is_churn\")\n",
    "# Add this loop to add the annotations\n",
    "for p in ax.patches:\n",
    "    width, height = p.get_width(), p.get_height()\n",
    "    x, y = p.get_xy() \n",
    "    ax.annotate('{:.0%}'.format(height), (p.get_x()+.10*width, p.get_y() + height + 0.01))\n",
    "    \n",
    "\n",
    "Auto_renew_crosstab"
   ]
  },
  {
   "cell_type": "markdown",
   "metadata": {},
   "source": [
    "# Analysis of No.of Transactions variable"
   ]
  },
  {
   "cell_type": "code",
   "execution_count": 83,
   "metadata": {},
   "outputs": [
    {
     "data": {
      "text/plain": [
       "<seaborn.axisgrid.FacetGrid at 0x1a1eb736320>"
      ]
     },
     "execution_count": 83,
     "metadata": {},
     "output_type": "execute_result"
    },
    {
     "data": {
      "image/png": "[encoded data removed]",
      "text/plain": [
       "<Figure size 360x360 with 1 Axes>"
      ]
     },
     "metadata": {
      "needs_background": "light"
     },
     "output_type": "display_data"
    }
   ],
   "source": [
    "sns.catplot(x=\"is_churn\", y=\"No_of_transactions\", kind=\"box\", data=dataset)"
   ]
  },
  {
   "cell_type": "markdown",
   "metadata": {},
   "source": [
    "# Analysis of Age Variable"
   ]
  },
  {
   "cell_type": "code",
   "execution_count": 85,
   "metadata": {},
   "outputs": [
    {
     "data": {
      "image/png": "[encoded data removed]",
      "text/plain": [
       "<Figure size 1152x432 with 1 Axes>"
      ]
     },
     "metadata": {
      "needs_background": "light"
     },
     "output_type": "display_data"
    }
   ],
   "source": [
    "#Birth Date count in training Data Set\n",
    "plt.figure(figsize=(16,6))\n",
    "bd_order = dataset['bd'].unique()\n",
    "bd_order = sorted(bd_order, key=lambda x: str(x))\n",
    "bd_order = sorted(bd_order, key=lambda x: float(x))\n",
    "#This is the only way I was able to diplay what I wanted\n",
    "sns.countplot(x=\"bd\", data=dataset , order = bd_order)\n",
    "plt.ylabel('Count', fontsize=12)\n",
    "plt.xlabel('BD', fontsize=12)\n",
    "plt.xticks(rotation='vertical')\n",
    "plt.title(\"Frequency of BD Count\", fontsize=12)\n",
    "plt.show()"
   ]
  },
  {
   "cell_type": "code",
   "execution_count": 86,
   "metadata": {},
   "outputs": [
    {
     "data": {
      "text/plain": [
       "No_of_transactions                135\n",
       "is_churn                          135\n",
       "payment_method_id                 135\n",
       "plan_list_price                   135\n",
       "actual_amount_paid                135\n",
       "is_auto_renew                     135\n",
       "is_cancel                         135\n",
       "transaction_date                  135\n",
       "membership_expire_date            135\n",
       "city                              135\n",
       "bd                                135\n",
       "gender                            115\n",
       "registered_via                    135\n",
       "payment_plan_days                 135\n",
       "registration_init_time            135\n",
       "registration_init_time_weekday    135\n",
       "lifetime                          135\n",
       "membership_expire_date_month      135\n",
       "transaction_date_month            135\n",
       "dtype: int64"
      ]
     },
     "execution_count": 86,
     "metadata": {},
     "output_type": "execute_result"
    }
   ],
   "source": [
    "dataset[dataset['bd'] > 120].count()            ## 135 count with values greater than 120 & 603358 < 0"
   ]
  },
  {
   "cell_type": "code",
   "execution_count": 87,
   "metadata": {},
   "outputs": [],
   "source": [
    "dataset['bd'] = dataset['bd'].astype(float)\n",
    "dataset['bd'] = dataset.bd.apply(lambda x: -6000 if float(x)<=1 else x )  ## VAlues <1 are converted to -6000 value\n",
    "dataset['bd'] = dataset.bd.apply(lambda x: -6000 if float(x)>=100 else x ) ## VAlues >100 are converted to -6000 value"
   ]
  },
  {
   "cell_type": "code",
   "execution_count": 88,
   "metadata": {},
   "outputs": [
    {
     "name": "stdout",
     "output_type": "stream",
     "text": [
      "Mean of Birth Date = 29.97192303441966\n",
      "Median of Birth Date = 28.0\n"
     ]
    },
    {
     "data": {
      "image/png": "[encoded data removed]",
      "text/plain": [
       "<Figure size 1008x432 with 1 Axes>"
      ]
     },
     "metadata": {
      "needs_background": "light"
     },
     "output_type": "display_data"
    }
   ],
   "source": [
    "## Here is the frequency graph without outliers and nan values.\n",
    "tmp_bd = dataset.loc[(dataset.bd.notna()) & (dataset.bd != -6000.0)]\n",
    "print(\"Mean of Birth Date = \" +str(np.mean(tmp_bd['bd'])))\n",
    "print(\"Median of Birth Date = \" +str(np.median(tmp_bd['bd'])))\n",
    "plt.figure(figsize=(14,6))\n",
    "ax1 = plt.subplot(211)\n",
    "ax1.set_ylim( [0,40000] )\n",
    "bd_order_2 = tmp_bd['bd'].unique()\n",
    "bd_order_2 = sorted(bd_order_2, key=lambda x: float(x))\n",
    "sns.countplot(x=\"bd\", data=tmp_bd , order = bd_order_2)\n",
    "plt.ylabel('Count', fontsize=12)\n",
    "plt.xlabel('BD', fontsize=12)\n",
    "plt.xticks(rotation='vertical')\n",
    "plt.title(\"Frequency of BD Count without ouliers and NAN values\", fontsize=12)\n",
    "plt.show()"
   ]
  },
  {
   "cell_type": "markdown",
   "metadata": {},
   "source": [
    "Distribution of Age i.e bd variable after removing outliers is positively right skewed."
   ]
  },
  {
   "cell_type": "code",
   "execution_count": 89,
   "metadata": {},
   "outputs": [
    {
     "data": {
      "image/png": "[encoded data removed]",
      "text/plain": [
       "<Figure size 432x576 with 1 Axes>"
      ]
     },
     "metadata": {
      "needs_background": "light"
     },
     "output_type": "display_data"
    }
   ],
   "source": [
    "# Box plot to checkout the statistics of the Age variable\n",
    "plt.figure(figsize=(6,8))\n",
    "plt.subplot(212)\n",
    "dataset.bd  = dataset.bd.astype(np.float)\n",
    "sns.boxplot(y=tmp_bd[\"bd\"],data=tmp_bd)\n",
    "plt.xlabel('BD', fontsize=12)\n",
    "plt.title(\"Box Plot of Birth Date without ouliers and NAN values\", fontsize=12)\n",
    "plt.show()"
   ]
  },
  {
   "cell_type": "markdown",
   "metadata": {},
   "source": [
    "#### Bar plot of \"is_churn\" and \"is_cancel\" variables"
   ]
  },
  {
   "cell_type": "code",
   "execution_count": 90,
   "metadata": {},
   "outputs": [
    {
     "data": {
      "text/html": [
       "<div>\n",
       "<style scoped>\n",
       "    .dataframe tbody tr th:only-of-type {\n",
       "        vertical-align: middle;\n",
       "    }\n",
       "\n",
       "    .dataframe tbody tr th {\n",
       "        vertical-align: top;\n",
       "    }\n",
       "\n",
       "    .dataframe thead th {\n",
       "        text-align: right;\n",
       "    }\n",
       "</style>\n",
       "<table border=\"1\" class=\"dataframe\">\n",
       "  <thead>\n",
       "    <tr style=\"text-align: right;\">\n",
       "      <th>is_churn</th>\n",
       "      <th>0</th>\n",
       "      <th>1</th>\n",
       "    </tr>\n",
       "    <tr>\n",
       "      <th>is_cancel</th>\n",
       "      <th></th>\n",
       "      <th></th>\n",
       "    </tr>\n",
       "  </thead>\n",
       "  <tbody>\n",
       "    <tr>\n",
       "      <th>0</th>\n",
       "      <td>929456</td>\n",
       "      <td>63450</td>\n",
       "    </tr>\n",
       "    <tr>\n",
       "      <th>1</th>\n",
       "      <td>4</td>\n",
       "      <td>21</td>\n",
       "    </tr>\n",
       "  </tbody>\n",
       "</table>\n",
       "</div>"
      ],
      "text/plain": [
       "is_churn        0      1\n",
       "is_cancel               \n",
       "0          929456  63450\n",
       "1               4     21"
      ]
     },
     "execution_count": 90,
     "metadata": {},
     "output_type": "execute_result"
    },
    {
     "data": {
      "image/png": "[encoded data removed]",
      "text/plain": [
       "<Figure size 1080x288 with 1 Axes>"
      ]
     },
     "metadata": {
      "needs_background": "light"
     },
     "output_type": "display_data"
    }
   ],
   "source": [
    "is_cancel_crosstab=pd.crosstab(dataset['is_cancel'],dataset['is_churn'])\n",
    "\n",
    "ax = (is_cancel_crosstab.div(is_cancel_crosstab.sum(1), axis=0)).plot(kind='bar',figsize=(15,4),width = 0.8,edgecolor=None)\n",
    "ax.set_xticklabels([\"No\",\"Yes\"], rotation = 0)\n",
    "ax.legend([\"No\",\"Yes\"], title = \"is_churn\")\n",
    "# Add this loop to add the annotations\n",
    "for p in ax.patches:\n",
    "    width, height = p.get_width(), p.get_height()\n",
    "    x, y = p.get_xy() \n",
    "    ax.annotate('{:.0%}'.format(height), (p.get_x()+.10*width, p.get_y() + height + 0.01))\n",
    "    \n",
    "\n",
    "is_cancel_crosstab"
   ]
  },
  {
   "cell_type": "markdown",
   "metadata": {},
   "source": [
    "We have very less data for members who canceled their subscription,so its hard to make any conclusion. we need to do more analyis here. "
   ]
  },
  {
   "cell_type": "markdown",
   "metadata": {},
   "source": [
    "#### Bar plot of \"is_cancel\" and \"is_auto_renew\" variables"
   ]
  },
  {
   "cell_type": "code",
   "execution_count": 91,
   "metadata": {},
   "outputs": [
    {
     "data": {
      "text/html": [
       "<div>\n",
       "<style scoped>\n",
       "    .dataframe tbody tr th:only-of-type {\n",
       "        vertical-align: middle;\n",
       "    }\n",
       "\n",
       "    .dataframe tbody tr th {\n",
       "        vertical-align: top;\n",
       "    }\n",
       "\n",
       "    .dataframe thead th {\n",
       "        text-align: right;\n",
       "    }\n",
       "</style>\n",
       "<table border=\"1\" class=\"dataframe\">\n",
       "  <thead>\n",
       "    <tr style=\"text-align: right;\">\n",
       "      <th>is_auto_renew</th>\n",
       "      <th>0</th>\n",
       "      <th>1</th>\n",
       "    </tr>\n",
       "    <tr>\n",
       "      <th>is_cancel</th>\n",
       "      <th></th>\n",
       "      <th></th>\n",
       "    </tr>\n",
       "  </thead>\n",
       "  <tbody>\n",
       "    <tr>\n",
       "      <th>0</th>\n",
       "      <td>117353</td>\n",
       "      <td>875553</td>\n",
       "    </tr>\n",
       "    <tr>\n",
       "      <th>1</th>\n",
       "      <td>0</td>\n",
       "      <td>25</td>\n",
       "    </tr>\n",
       "  </tbody>\n",
       "</table>\n",
       "</div>"
      ],
      "text/plain": [
       "is_auto_renew       0       1\n",
       "is_cancel                    \n",
       "0              117353  875553\n",
       "1                   0      25"
      ]
     },
     "execution_count": 91,
     "metadata": {},
     "output_type": "execute_result"
    },
    {
     "data": {
      "image/png": "[encoded data removed]",
      "text/plain": [
       "<Figure size 1080x288 with 1 Axes>"
      ]
     },
     "metadata": {
      "needs_background": "light"
     },
     "output_type": "display_data"
    }
   ],
   "source": [
    "is_cancel_crosstab1 = pd.crosstab(dataset['is_cancel'],dataset['is_auto_renew'])\n",
    "\n",
    "ax = (is_cancel_crosstab1.div(is_cancel_crosstab1.sum(1), axis=0)).plot(kind='bar',figsize=(15,4),width = 0.8,edgecolor=None)\n",
    "ax.set_xticklabels([\"No\",\"Yes\"], rotation = 0)\n",
    "ax.legend([\"No\",\"Yes\"], title = \"is_auto_renew\")\n",
    "# Add this loop to add the annotations\n",
    "for p in ax.patches:\n",
    "    width, height = p.get_width(), p.get_height()\n",
    "    x, y = p.get_xy() \n",
    "    ax.annotate('{:.0%}'.format(height), (p.get_x()+.10*width, p.get_y() + height + 0.01))\n",
    "    \n",
    "\n",
    "is_cancel_crosstab1"
   ]
  },
  {
   "cell_type": "markdown",
   "metadata": {},
   "source": [
    "Again here very less data to make any strong conclusion."
   ]
  },
  {
   "cell_type": "markdown",
   "metadata": {},
   "source": [
    "#### Bar plot of \"is_churn\" and \"gender\" variables"
   ]
  },
  {
   "cell_type": "code",
   "execution_count": 92,
   "metadata": {},
   "outputs": [
    {
     "data": {
      "text/html": [
       "<div>\n",
       "<style scoped>\n",
       "    .dataframe tbody tr th:only-of-type {\n",
       "        vertical-align: middle;\n",
       "    }\n",
       "\n",
       "    .dataframe tbody tr th {\n",
       "        vertical-align: top;\n",
       "    }\n",
       "\n",
       "    .dataframe thead th {\n",
       "        text-align: right;\n",
       "    }\n",
       "</style>\n",
       "<table border=\"1\" class=\"dataframe\">\n",
       "  <thead>\n",
       "    <tr style=\"text-align: right;\">\n",
       "      <th>is_churn</th>\n",
       "      <th>0</th>\n",
       "      <th>1</th>\n",
       "    </tr>\n",
       "    <tr>\n",
       "      <th>gender</th>\n",
       "      <th></th>\n",
       "      <th></th>\n",
       "    </tr>\n",
       "  </thead>\n",
       "  <tbody>\n",
       "    <tr>\n",
       "      <th>female</th>\n",
       "      <td>169395</td>\n",
       "      <td>16013</td>\n",
       "    </tr>\n",
       "    <tr>\n",
       "      <th>male</th>\n",
       "      <td>188039</td>\n",
       "      <td>18245</td>\n",
       "    </tr>\n",
       "  </tbody>\n",
       "</table>\n",
       "</div>"
      ],
      "text/plain": [
       "is_churn       0      1\n",
       "gender                 \n",
       "female    169395  16013\n",
       "male      188039  18245"
      ]
     },
     "execution_count": 92,
     "metadata": {},
     "output_type": "execute_result"
    },
    {
     "data": {
      "image/png": "[encoded data removed]",
      "text/plain": [
       "<Figure size 1080x288 with 1 Axes>"
      ]
     },
     "metadata": {
      "needs_background": "light"
     },
     "output_type": "display_data"
    }
   ],
   "source": [
    "gender_crosstab=pd.crosstab(dataset['gender'],dataset['is_churn'])\n",
    "ax = (gender_crosstab.div(gender_crosstab.sum(1), axis=0)).plot(kind='bar',figsize=(15,4),width = 0.8,edgecolor=None)\n",
    "ax.set_xticklabels([\"Female\",\"Male\"], rotation = 0)\n",
    "ax.legend([\"No\",\"Yes\"], title = \"is_churn\")\n",
    "# Add this loop to add the annotations\n",
    "for p in ax.patches:\n",
    "    width, height = p.get_width(), p.get_height()\n",
    "    x, y = p.get_xy() \n",
    "    ax.annotate('{:.0%}'.format(height), (p.get_x()+.10*width, p.get_y() + height + 0.01))\n",
    "    \n",
    "\n",
    "gender_crosstab"
   ]
  },
  {
   "cell_type": "markdown",
   "metadata": {},
   "source": [
    "\"Gender\" doesn't have any effect on churning rate."
   ]
  },
  {
   "cell_type": "markdown",
   "metadata": {},
   "source": [
    "#### Bar plot of \"is_churn\" and \"registered_via\" variables"
   ]
  },
  {
   "cell_type": "code",
   "execution_count": 93,
   "metadata": {},
   "outputs": [
    {
     "data": {
      "text/html": [
       "<div>\n",
       "<style scoped>\n",
       "    .dataframe tbody tr th:only-of-type {\n",
       "        vertical-align: middle;\n",
       "    }\n",
       "\n",
       "    .dataframe tbody tr th {\n",
       "        vertical-align: top;\n",
       "    }\n",
       "\n",
       "    .dataframe thead th {\n",
       "        text-align: right;\n",
       "    }\n",
       "</style>\n",
       "<table border=\"1\" class=\"dataframe\">\n",
       "  <thead>\n",
       "    <tr style=\"text-align: right;\">\n",
       "      <th>is_churn</th>\n",
       "      <th>0</th>\n",
       "      <th>1</th>\n",
       "    </tr>\n",
       "    <tr>\n",
       "      <th>registered_via</th>\n",
       "      <th></th>\n",
       "      <th></th>\n",
       "    </tr>\n",
       "  </thead>\n",
       "  <tbody>\n",
       "    <tr>\n",
       "      <th>13</th>\n",
       "      <td>3447</td>\n",
       "      <td>375</td>\n",
       "    </tr>\n",
       "    <tr>\n",
       "      <th>3</th>\n",
       "      <td>99822</td>\n",
       "      <td>14284</td>\n",
       "    </tr>\n",
       "    <tr>\n",
       "      <th>4</th>\n",
       "      <td>49467</td>\n",
       "      <td>10701</td>\n",
       "    </tr>\n",
       "    <tr>\n",
       "      <th>7</th>\n",
       "      <td>545630</td>\n",
       "      <td>16274</td>\n",
       "    </tr>\n",
       "    <tr>\n",
       "      <th>9</th>\n",
       "      <td>231094</td>\n",
       "      <td>21837</td>\n",
       "    </tr>\n",
       "  </tbody>\n",
       "</table>\n",
       "</div>"
      ],
      "text/plain": [
       "is_churn             0      1\n",
       "registered_via               \n",
       "13                3447    375\n",
       "3                99822  14284\n",
       "4                49467  10701\n",
       "7               545630  16274\n",
       "9               231094  21837"
      ]
     },
     "execution_count": 93,
     "metadata": {},
     "output_type": "execute_result"
    },
    {
     "data": {
      "image/png": "[encoded data removed]",
      "text/plain": [
       "<Figure size 1080x288 with 1 Axes>"
      ]
     },
     "metadata": {
      "needs_background": "light"
     },
     "output_type": "display_data"
    }
   ],
   "source": [
    "registered_via_crosstab=pd.crosstab(dataset['registered_via'],dataset['is_churn'])\n",
    "\n",
    "ax = (registered_via_crosstab.div(registered_via_crosstab.sum(1), axis=0)).plot(kind='bar',figsize=(15,4),width = 0.8,edgecolor=None)\n",
    "ax.set_xticklabels([\"13\",\"3\",\"4\",\"7\",\"9\"], rotation = 0)\n",
    "ax.legend([\"No\",\"Yes\"], title = \"is_churn\")\n",
    "# Add this loop to add the annotations\n",
    "for p in ax.patches:\n",
    "    width, height = p.get_width(), p.get_height()\n",
    "    x, y = p.get_xy() \n",
    "    ax.annotate('{:.0%}'.format(height), (p.get_x()+.10*width, p.get_y() + height + 0.01))\n",
    "    \n",
    "registered_via_crosstab"
   ]
  },
  {
   "cell_type": "markdown",
   "metadata": {},
   "source": [
    "#### Frequency Plot of \"Payment_method_id\"  Variable"
   ]
  },
  {
   "cell_type": "code",
   "execution_count": 94,
   "metadata": {},
   "outputs": [
    {
     "data": {
      "image/png": "[encoded data removed]",
      "text/plain": [
       "<Figure size 1152x576 with 1 Axes>"
      ]
     },
     "metadata": {
      "needs_background": "light"
     },
     "output_type": "display_data"
    },
    {
     "name": "stdout",
     "output_type": "stream",
     "text": [
      "payment_method_id Count [(41, 569111), (39, 75621), (40, 69283), (38, 67527), (37, 49981), (36, 44752), (34, 34417), (30, 15875), (33, 15216), (31, 13491), (29, 8623), (32, 8130), (35, 7326), (28, 2307), (27, 1963), (23, 1854), (19, 1379), (21, 963), (22, 746), (18, 665), (20, 645), (17, 645), (14, 546), (26, 454), (24, 368), (16, 364), (25, 277), (12, 135), (13, 115), (11, 75), (10, 36), (15, 15), (8, 15), (3, 6), (6, 4), (9, 1)]\n"
     ]
    }
   ],
   "source": [
    "plt.figure(figsize=(16,8))\n",
    "plt.subplot(211)\n",
    "sns.countplot(x= \"payment_method_id\" ,data = dataset,  color=\"orange\")\n",
    "plt.ylabel('Count', fontsize=12)\n",
    "plt.xlabel('Payment_method_id', fontsize=12)\n",
    "plt.xticks(rotation='vertical')\n",
    "plt.title(\"Frequency of Payment_method_id Count\", fontsize=12)\n",
    "plt.show()\n",
    "payment_method_id_count = Counter(dataset['payment_method_id']).most_common()\n",
    "print(\"payment_method_id Count \" +str(payment_method_id_count))"
   ]
  },
  {
   "cell_type": "markdown",
   "metadata": {},
   "source": [
    "#### Frequency Plot of \"Payment_Plan_Days\"  Variable"
   ]
  },
  {
   "cell_type": "code",
   "execution_count": 95,
   "metadata": {},
   "outputs": [
    {
     "data": {
      "image/png": "[encoded data removed]",
      "text/plain": [
       "<Figure size 1152x576 with 1 Axes>"
      ]
     },
     "metadata": {
      "needs_background": "light"
     },
     "output_type": "display_data"
    }
   ],
   "source": [
    "plt.figure(figsize=(16,8))\n",
    "plt.subplot(211)\n",
    "#days = dataset['payment_plan_days'].unique()\n",
    "#days=sorted(days, key=lambda x: str(x))\n",
    "plan_days = dataset[(dataset['payment_plan_days'] <100)]\n",
    "sns.countplot(x= \"payment_plan_days\" ,data = plan_days,  color=\"teal\")\n",
    "plt.ylabel('Count', fontsize=12)\n",
    "plt.xlabel('Payment_Plan_Days', fontsize=12)\n",
    "plt.xticks(rotation='vertical')\n",
    "plt.title(\"Frequency of Payment_Plan_Days Count\", fontsize=12)\n",
    "plt.show()\n",
    "#df[df.T[(df.T > 0.33)].any()]\n",
    "#payment_plan_days_count = Counter(dataset['payment_plan_days']).most_common()\n",
    "#print(\"Payment_plan_days Count \" +str(payment_plan_days_count))"
   ]
  },
  {
   "cell_type": "markdown",
   "metadata": {},
   "source": [
    "#### Frequency Plot of \"Plan_List_Price\"  Variable"
   ]
  },
  {
   "cell_type": "code",
   "execution_count": 96,
   "metadata": {},
   "outputs": [
    {
     "data": {
      "image/png": "[encoded data removed]",
      "text/plain": [
       "<Figure size 1152x576 with 1 Axes>"
      ]
     },
     "metadata": {
      "needs_background": "light"
     },
     "output_type": "display_data"
    }
   ],
   "source": [
    "plt.figure(figsize=(16,8))\n",
    "plt.subplot(211)\n",
    "list_price = dataset[(dataset[\"plan_list_price\"]< 187) & (dataset[\"plan_list_price\"] > 90)]\n",
    "sns.countplot(x= \"plan_list_price\",data = list_price,  color=\"red\")\n",
    "plt.ylabel('Count', fontsize=12)\n",
    "plt.xlabel('Plan_list_price', fontsize=12)\n",
    "plt.xticks(rotation='vertical')\n",
    "plt.title(\"Frequency of Plan_list_price \", fontsize=12)\n",
    "plt.show()\n",
    "#plan_list_price_count = Counter(dataset['plan_list_price']).most_common()\n",
    "#print(\"plan_list_price Count \" +str(plan_list_price_count))"
   ]
  },
  {
   "cell_type": "markdown",
   "metadata": {},
   "source": [
    "#### Frequency Plot of \"Actual_amount_paid\"  Variable"
   ]
  },
  {
   "cell_type": "code",
   "execution_count": 97,
   "metadata": {},
   "outputs": [
    {
     "data": {
      "image/png": "[encoded data removed]",
      "text/plain": [
       "<Figure size 1152x576 with 1 Axes>"
      ]
     },
     "metadata": {
      "needs_background": "light"
     },
     "output_type": "display_data"
    }
   ],
   "source": [
    "plt.figure(figsize=(16,8))\n",
    "plt.subplot(211)\n",
    "amount_paid = dataset[(dataset[\"actual_amount_paid\"]< 181)& (dataset[\"actual_amount_paid\"] > 90)]\n",
    "sns.countplot(x= \"actual_amount_paid\" ,data = amount_paid,  color=\"blue\")\n",
    "plt.ylabel('Count', fontsize=12)\n",
    "plt.xlabel('Actual_amount_paid', fontsize=12)\n",
    "plt.xticks(rotation='vertical')\n",
    "plt.title(\"Frequency of Actual_amount_paid \", fontsize=12)\n",
    "plt.show()\n",
    "#actual_amount_paid_count = Counter(dataset['actual_amount_paid']).most_common()\n",
    "#print(\"actual_amount_paid Count \" +str(actual_amount_paid_count))"
   ]
  },
  {
   "cell_type": "markdown",
   "metadata": {},
   "source": [
    "#### Frequency Plot of \"Registered_via\"  Variable"
   ]
  },
  {
   "cell_type": "code",
   "execution_count": 98,
   "metadata": {},
   "outputs": [
    {
     "data": {
      "image/png": "[encoded data removed]",
      "text/plain": [
       "<Figure size 1152x576 with 1 Axes>"
      ]
     },
     "metadata": {
      "needs_background": "light"
     },
     "output_type": "display_data"
    },
    {
     "name": "stdout",
     "output_type": "stream",
     "text": [
      "Registered_Via Count [('7', 561904), ('9', 252931), ('3', 114106), ('4', 60168), ('13', 3822)]\n"
     ]
    }
   ],
   "source": [
    "plt.figure(figsize=(16,8))\n",
    "plt.subplot(211)\n",
    "sns.countplot(x= \"registered_via\" ,data = dataset,  color=\"coral\")\n",
    "plt.ylabel('Count', fontsize=12)\n",
    "plt.xlabel('Registered_via', fontsize=12)\n",
    "plt.xticks(rotation='vertical')\n",
    "plt.title(\"Frequency of Registered_via Count\", fontsize=12)\n",
    "plt.show()\n",
    "registered_via_count = Counter(dataset['registered_via']).most_common()\n",
    "print(\"Registered_Via Count \" +str(registered_via_count))"
   ]
  },
  {
   "cell_type": "markdown",
   "metadata": {},
   "source": [
    "#### Frequency Plot of \"City\"  Variable"
   ]
  },
  {
   "cell_type": "code",
   "execution_count": 99,
   "metadata": {},
   "outputs": [
    {
     "data": {
      "image/png": "[encoded data removed]",
      "text/plain": [
       "<Figure size 1152x576 with 1 Axes>"
      ]
     },
     "metadata": {
      "needs_background": "light"
     },
     "output_type": "display_data"
    },
    {
     "name": "stdout",
     "output_type": "stream",
     "text": [
      "city Count [('1', 541332), ('13', 106332), ('5', 77546), ('4', 52301), ('15', 47086), ('22', 45851), ('6', 28427), ('14', 21943), ('12', 12659), ('9', 10353), ('11', 9878), ('18', 8568), ('8', 8400), ('17', 6086), ('21', 5813), ('3', 5520), ('7', 2880), ('16', 1050), ('2', 752), ('19', 154)]\n"
     ]
    }
   ],
   "source": [
    "plt.figure(figsize=(16,8))\n",
    "plt.subplot(211)\n",
    "sns.countplot(x= \"city\" ,data = dataset,  color=\"burlywood\")\n",
    "plt.ylabel('Count', fontsize=12)\n",
    "plt.xlabel('city', fontsize=12)\n",
    "plt.xticks(rotation='vertical')\n",
    "plt.title(\"Frequency of city Count\", fontsize=12)\n",
    "plt.show()\n",
    "city_count = Counter(dataset['city']).most_common()\n",
    "print(\"city Count \" +str(city_count))"
   ]
  },
  {
   "cell_type": "markdown",
   "metadata": {},
   "source": [
    "#### Frequency Plot of \"Gender\"  Variable"
   ]
  },
  {
   "cell_type": "code",
   "execution_count": 100,
   "metadata": {},
   "outputs": [
    {
     "data": {
      "image/png": "[encoded data removed]",
      "text/plain": [
       "<Figure size 1152x576 with 1 Axes>"
      ]
     },
     "metadata": {
      "needs_background": "light"
     },
     "output_type": "display_data"
    },
    {
     "name": "stdout",
     "output_type": "stream",
     "text": [
      "gender Count [(nan, 601239), ('male', 206284), ('female', 185408)]\n"
     ]
    }
   ],
   "source": [
    "plt.figure(figsize=(16,8))\n",
    "plt.subplot(211)\n",
    "sns.countplot(x= \"gender\" ,data = dataset,  color=\"salmon\")\n",
    "plt.ylabel('Count', fontsize=12)\n",
    "plt.xlabel('gender', fontsize=12)\n",
    "plt.xticks(rotation='horizontal')\n",
    "plt.title(\"Frequency of Gender Count\", fontsize=12)\n",
    "plt.show()\n",
    "gender_count = Counter(dataset['gender']).most_common()\n",
    "print(\"gender Count \" +str(gender_count))"
   ]
  },
  {
   "cell_type": "markdown",
   "metadata": {},
   "source": [
    "#### Frequency Plot of \"Yearly Trend of registration_init_time\"  Variable"
   ]
  },
  {
   "cell_type": "code",
   "execution_count": 101,
   "metadata": {},
   "outputs": [
    {
     "data": {
      "image/png": "[encoded data removed]",
      "text/plain": [
       "<Figure size 864x864 with 1 Axes>"
      ]
     },
     "metadata": {
      "needs_background": "light"
     },
     "output_type": "display_data"
    },
    {
     "name": "stdout",
     "output_type": "stream",
     "text": [
      "Yearly Count [(2016, 254576), (2015, 196551), (2013, 128063), (2014, 97536), (2012, 79960), (2011, 66483), (2010, 42185), (2007, 27531), (2017, 20691), (2006, 19095), (2008, 18286), (2005, 16915), (2009, 16354), (2004, 8705)]\n"
     ]
    }
   ],
   "source": [
    "# #registration_init_time yearly trend\n",
    "dataset['registration_init_time_year'] = pd.DatetimeIndex(dataset['registration_init_time']).year\n",
    "dataset['registration_init_time_year'] = dataset.registration_init_time_year.apply(lambda x: int(x) if pd.notnull(x) else \"NAN\" )\n",
    "year_count=dataset['registration_init_time_year'].value_counts()\n",
    "plt.figure(figsize=(12,12))\n",
    "plt.subplot(311)\n",
    "year_order = dataset['registration_init_time_year'].unique()\n",
    "year_order=sorted(year_order, key=lambda x: str(x))\n",
    "year_order = sorted(year_order, key=lambda x: float(x))\n",
    "sns.barplot(year_count.index, year_count.values,order=year_order)\n",
    "plt.ylabel('Count', fontsize=12)\n",
    "plt.xlabel('Year', fontsize=12)\n",
    "plt.xticks(rotation='vertical')\n",
    "plt.title(\"Yearly Trend of registration_init_time\", fontsize=12)\n",
    "plt.show()\n",
    "year_count_2 = Counter(dataset['registration_init_time_year']).most_common()\n",
    "print(\"Yearly Count \" +str(year_count_2))\n"
   ]
  },
  {
   "cell_type": "markdown",
   "metadata": {},
   "source": [
    "#### Frequency Plot of \"Monthly Trend of registration_init_time\"  Variable"
   ]
  },
  {
   "cell_type": "code",
   "execution_count": 102,
   "metadata": {},
   "outputs": [
    {
     "data": {
      "image/png": "[encoded data removed]",
      "text/plain": [
       "<Figure size 864x864 with 1 Axes>"
      ]
     },
     "metadata": {
      "needs_background": "light"
     },
     "output_type": "display_data"
    },
    {
     "name": "stdout",
     "output_type": "stream",
     "text": [
      "Monthly Count [(1, 108226), (12, 97035), (10, 95105), (11, 93815), (8, 90836), (7, 89591), (2, 80841), (9, 79651), (3, 74010), (6, 66558), (5, 62576), (4, 54687)]\n"
     ]
    }
   ],
   "source": [
    "# #registration_init_time monthly trend\n",
    "dataset['registration_init_time_month'] = pd.DatetimeIndex(dataset['registration_init_time']).month\n",
    "dataset['registration_init_time_month'] = dataset.registration_init_time_month.apply(lambda x: int(x) if pd.notnull(x) else \"NAN\" )\n",
    "month_count=dataset['registration_init_time_month'].value_counts()\n",
    "plt.figure(figsize=(12,12))\n",
    "plt.subplot(312)\n",
    "month_order = dataset['registration_init_time_month'].unique()\n",
    "month_order = sorted(month_order, key=lambda x: str(x))\n",
    "month_order = sorted(month_order, key=lambda x: float(x))\n",
    "sns.barplot(month_count.index, month_count.values,order=month_order)\n",
    "plt.ylabel('Count', fontsize=12)\n",
    "plt.xlabel('Month', fontsize=12)\n",
    "plt.xticks(rotation='vertical')\n",
    "plt.title(\"Monthly Trend of registration_init_time\", fontsize=12)\n",
    "plt.show()\n",
    "month_count_2 = Counter(dataset['registration_init_time_month']).most_common()\n",
    "print(\"Monthly Count \" +str(month_count_2))"
   ]
  },
  {
   "cell_type": "markdown",
   "metadata": {},
   "source": [
    "#### Frequency Plot of \"Daywise Trend of registration_init_time\"  Variable"
   ]
  },
  {
   "cell_type": "code",
   "execution_count": 103,
   "metadata": {},
   "outputs": [
    {
     "data": {
      "image/png": "[encoded data removed]",
      "text/plain": [
       "<Figure size 864x864 with 1 Axes>"
      ]
     },
     "metadata": {
      "needs_background": "light"
     },
     "output_type": "display_data"
    },
    {
     "name": "stdout",
     "output_type": "stream",
     "text": [
      "Day-wise Count [('Saturday', 158730), ('Friday', 140279), ('Monday', 140026), ('Sunday', 139801), ('Tuesday', 139263), ('Thursday', 138725), ('Wednesday', 136107)]\n"
     ]
    }
   ],
   "source": [
    "# #registration_init_time day wise trend\n",
    "dataset['registration_init_time_weekday'] = pd.DatetimeIndex(dataset['registration_init_time']).weekday_name\n",
    "dataset['registration_init_time_weekday'] = dataset.registration_init_time_weekday.apply(lambda x: str(x) if pd.notnull(x) else \"NAN\" )\n",
    "day_count=dataset['registration_init_time_weekday'].value_counts()\n",
    "plt.figure(figsize=(12,12))\n",
    "plt.subplot(313)\n",
    "day_order = ['Monday','Tuesday','Wednesday','Thursday','Friday','Saturday','Sunday','NAN']\n",
    "sns.barplot(day_count.index, day_count.values,order=day_order)\n",
    "plt.ylabel('Count', fontsize=12)\n",
    "plt.xlabel('Day', fontsize=12)\n",
    "plt.xticks(rotation='vertical')\n",
    "plt.title(\"Day-wise Trend of registration_init_time\", fontsize=12)\n",
    "plt.show()\n",
    "day_count_2 = Counter(dataset['registration_init_time_weekday']).most_common()\n",
    "print(\"Day-wise Count \" +str(day_count_2))"
   ]
  },
  {
   "cell_type": "markdown",
   "metadata": {},
   "source": [
    "#### Creation of New Variable \"Lifetime of Customers\""
   ]
  },
  {
   "cell_type": "code",
   "execution_count": 104,
   "metadata": {},
   "outputs": [],
   "source": [
    "def month_diff(d1, d2): \n",
    "    \"\"\"Return the number of months between d1 and d2, \n",
    "    such that d2 + month_diff(d1, d2) == d1\n",
    "    \"\"\"\n",
    "    diff = (12 * d1.year + d1.month) - (12 * d2.year + d2.month)\n",
    "    return diff\n",
    "dataset['lifetime'] = month_diff(pd.DatetimeIndex(dataset['membership_expire_date']), pd.DatetimeIndex(dataset['registration_init_time']))"
   ]
  },
  {
   "cell_type": "code",
   "execution_count": 105,
   "metadata": {},
   "outputs": [
    {
     "name": "stdout",
     "output_type": "stream",
     "text": [
      "40.25179896689699\n"
     ]
    }
   ],
   "source": [
    "month_avg=dataset['lifetime'].mean()\n",
    "print(month_avg)"
   ]
  },
  {
   "cell_type": "markdown",
   "metadata": {},
   "source": [
    "The average lifetime of customers is 40 months~ 3yrs+4months "
   ]
  },
  {
   "cell_type": "code",
   "execution_count": 106,
   "metadata": {},
   "outputs": [
    {
     "data": {
      "image/png": "[encoded data removed]",
      "text/plain": [
       "<Figure size 1368x1368 with 1 Axes>"
      ]
     },
     "metadata": {
      "needs_background": "light"
     },
     "output_type": "display_data"
    },
    {
     "name": "stdout",
     "output_type": "stream",
     "text": [
      "Monthly Count [(14, 32596), (17, 30643), (13, 29233), (16, 28494), (19, 26405), (12, 25358), (15, 24530), (8, 24051), (18, 23593), (7, 23079), (20, 22948), (3, 20470), (9, 19583), (4, 18808), (2, 18177), (10, 16785), (5, 16763), (6, 15342), (39, 13430), (40, 12954), (41, 12832), (11, 12620), (42, 12224), (43, 11976), (38, 11657), (44, 11364), (62, 10456), (50, 10107), (37, 10087), (45, 10051), (46, 9792), (61, 9489), (49, 9163), (36, 9151), (51, 8537), (63, 8171), (33, 8035), (48, 8031), (34, 7982), (35, 7933), (27, 7710), (28, 7418), (29, 7225), (60, 7218), (31, 7202), (32, 7117), (24, 7097), (74, 6972), (26, 6828), (77, 6486), (59, 6477), (25, 6449), (23, 6401), (73, 6366), (72, 6154), (30, 6071), (47, 6055), (22, 5982), (58, 5903), (21, 5760), (55, 5758), (57, 5636), (76, 5587), (56, 5520), (69, 5384), (75, 5350), (67, 5131), (68, 5090), (52, 5065), (64, 5003), (54, 4972), (70, 4691), (78, 4600), (53, 4542), (71, 4473), (1, 4429), (66, 4427), (65, 4389), (137, 3436), (81, 3235), (117, 3195), (83, 3195), (82, 3124), (119, 3111), (79, 2806), (80, 2704), (120, 2635), (136, 2605), (116, 2491), (118, 2448), (121, 2432), (132, 2301), (115, 2140), (114, 2108), (113, 1937), (138, 1886), (108, 1878), (128, 1843), (110, 1803), (84, 1789), (109, 1774), (135, 1761), (111, 1757), (112, 1752), (124, 1697), (125, 1682), (106, 1664), (149, 1651), (131, 1639), (107, 1628), (133, 1584), (85, 1583), (127, 1570), (86, 1554), (122, 1500), (105, 1498), (93, 1493), (87, 1485), (101, 1476), (96, 1470), (134, 1464), (152, 1450), (102, 1450), (123, 1439), (126, 1435), (88, 1400), (89, 1379), (95, 1354), (94, 1351), (130, 1334), (90, 1333), (100, 1322), (97, 1308), (103, 1298), (92, 1286), (98, 1282), (156, 1269), (104, 1268), (99, 1251), (91, 1193), (144, 1157), (129, 1101), (148, 1063), (145, 1044), (150, 993), (143, 938), (140, 899), (139, 895), (141, 859), (151, 856), (142, 833), (147, 567), (146, 517), (155, 486), (0, 357), (153, 179), (154, 160), (-1, 3)]\n"
     ]
    }
   ],
   "source": [
    "month_count=dataset['lifetime'].value_counts()\n",
    "plt.figure(figsize=(19,19))\n",
    "plt.subplot(313)\n",
    "sns.barplot(month_count.index, month_count.values)\n",
    "plt.ylabel('Count', fontsize=12)\n",
    "plt.xlabel('Month', fontsize=12)\n",
    "plt.xticks(rotation='vertical')\n",
    "plt.title(\"Time period with Subscription\", fontsize=12)\n",
    "plt.show()\n",
    "month_count_2 = Counter(dataset['lifetime']).most_common()\n",
    "print(\"Monthly Count \" +str(month_count_2))"
   ]
  },
  {
   "cell_type": "markdown",
   "metadata": {},
   "source": [
    "#### Bar plot of \"is_churn\" and \"membership_expire_date_month\" variables"
   ]
  },
  {
   "cell_type": "code",
   "execution_count": 107,
   "metadata": {},
   "outputs": [
    {
     "data": {
      "text/html": [
       "<div>\n",
       "<style scoped>\n",
       "    .dataframe tbody tr th:only-of-type {\n",
       "        vertical-align: middle;\n",
       "    }\n",
       "\n",
       "    .dataframe tbody tr th {\n",
       "        vertical-align: top;\n",
       "    }\n",
       "\n",
       "    .dataframe thead th {\n",
       "        text-align: right;\n",
       "    }\n",
       "</style>\n",
       "<table border=\"1\" class=\"dataframe\">\n",
       "  <thead>\n",
       "    <tr style=\"text-align: right;\">\n",
       "      <th>is_churn</th>\n",
       "      <th>0</th>\n",
       "      <th>1</th>\n",
       "    </tr>\n",
       "    <tr>\n",
       "      <th>membership_expire_date_month</th>\n",
       "      <th></th>\n",
       "      <th></th>\n",
       "    </tr>\n",
       "  </thead>\n",
       "  <tbody>\n",
       "    <tr>\n",
       "      <th>2</th>\n",
       "      <td>44816</td>\n",
       "      <td>46929</td>\n",
       "    </tr>\n",
       "    <tr>\n",
       "      <th>3</th>\n",
       "      <td>884644</td>\n",
       "      <td>16542</td>\n",
       "    </tr>\n",
       "  </tbody>\n",
       "</table>\n",
       "</div>"
      ],
      "text/plain": [
       "is_churn                           0      1\n",
       "membership_expire_date_month               \n",
       "2                              44816  46929\n",
       "3                             884644  16542"
      ]
     },
     "execution_count": 107,
     "metadata": {},
     "output_type": "execute_result"
    },
    {
     "data": {
      "image/png": "[encoded data removed]",
      "text/plain": [
       "<Figure size 1080x288 with 1 Axes>"
      ]
     },
     "metadata": {
      "needs_background": "light"
     },
     "output_type": "display_data"
    }
   ],
   "source": [
    "dataset['membership_expire_date_month'] = pd.DatetimeIndex(dataset['membership_expire_date']).month\n",
    "membership_expire_date_crosstab=pd.crosstab(dataset['membership_expire_date_month'],dataset['is_churn'])\n",
    "\n",
    "ax = (membership_expire_date_crosstab.div(membership_expire_date_crosstab.sum(1), axis=0)).plot(kind='bar',figsize=(15,4),width = 0.8,edgecolor=None)\n",
    "ax.set_xticklabels([\"Feb\",\"March\"], rotation = 0)\n",
    "ax.legend([\"No\",\"Yes\"], title = \"is_churn\")\n",
    "# Add this loop to add the annotations\n",
    "for p in ax.patches:\n",
    "    width, height = p.get_width(), p.get_height()\n",
    "    x, y = p.get_xy() \n",
    "    ax.annotate('{:.0%}'.format(height), (p.get_x()+.10*width, p.get_y() + height + 0.01))\n",
    "    \n",
    "membership_expire_date_crosstab"
   ]
  },
  {
   "cell_type": "markdown",
   "metadata": {},
   "source": [
    "We can see here the members whose membership expires in the month of march has lower churn rate."
   ]
  },
  {
   "cell_type": "markdown",
   "metadata": {},
   "source": [
    "#### Frequency Plot of \"Monthly Trend of transaction_date\"  Variable"
   ]
  },
  {
   "cell_type": "code",
   "execution_count": 108,
   "metadata": {},
   "outputs": [
    {
     "data": {
      "image/png": "[encoded data removed]",
      "text/plain": [
       "<Figure size 864x864 with 1 Axes>"
      ]
     },
     "metadata": {
      "needs_background": "light"
     },
     "output_type": "display_data"
    },
    {
     "name": "stdout",
     "output_type": "stream",
     "text": [
      "Monthly Count [(1, 386256), (3, 95604), (7, 63767), (11, 62789), (8, 62348), (10, 61739), (12, 60813), (2, 52195), (9, 48734), (6, 39893), (5, 32419), (4, 26374)]\n"
     ]
    }
   ],
   "source": [
    "# #transaction_date monthly trend\n",
    "dataset['transaction_date_month'] = pd.DatetimeIndex(dataset['transaction_date']).month\n",
    "dataset['transaction_date_month'] = dataset.transaction_date_month.apply(lambda x: int(x) if pd.notnull(x) else \"NAN\" )\n",
    "month_count=dataset['transaction_date_month'].value_counts()\n",
    "plt.figure(figsize=(12,12))\n",
    "plt.subplot(312)\n",
    "month_order = dataset['transaction_date_month'].unique()\n",
    "month_order = sorted(month_order, key=lambda x: str(x))\n",
    "month_order = sorted(month_order, key=lambda x: float(x))\n",
    "sns.barplot(month_count.index, month_count.values,order=month_order)\n",
    "plt.ylabel('Count', fontsize=12)\n",
    "plt.xlabel('Month', fontsize=12)\n",
    "plt.xticks(rotation='vertical')\n",
    "plt.title(\"Monthly Trend of Transaction_date\", fontsize=12)\n",
    "plt.show()\n",
    "month_count_2 = Counter(dataset['transaction_date_month']).most_common()\n",
    "print(\"Monthly Count \" +str(month_count_2))"
   ]
  },
  {
   "cell_type": "markdown",
   "metadata": {},
   "source": [
    "## Observations:- \n",
    "- On average, about 97% members who put auto_renewal for their payments are less likely to get churned.\n",
    "- About 88% people who are on auto_renewal,are more likely to renew their subcriptions.\n",
    "- On average, about 88% people put their payments on Auto_renewal.\n",
    "- No effect of gender, registred_via on churn rate.\n",
    "- In the last 4-5 years,there is more increase in subcription rate.\n",
    "- Large amount of observations are from city-1.\n",
    "- About 59% people used registered via technique number-7 used 41-category method-id to make payments.\n",
    "- More new registrations at the start and end of the year\n",
    "- About 93% people enrolled in 30 days payment plan.\n",
    "- On average, the lifetime of a customer who stays with subscription is nearly 40 months.\n",
    "- Most of people opted $99 price plan and paid actual amount. \n",
    "- On weekends there are more new registrations for the subscription.\n",
    "- Membership expires mainly in starting months of the year till march and seems like very less churn rate in month of March.\n",
    "- There are more transactions in the month of January,this may be due to more new subscription plans are available. "
   ]
  },
  {
   "cell_type": "markdown",
   "metadata": {},
   "source": [
    "# Infrential Statistics Part"
   ]
  },
  {
   "cell_type": "markdown",
   "metadata": {},
   "source": [
    "#### Correlation graph between various variables"
   ]
  },
  {
   "cell_type": "code",
   "execution_count": 109,
   "metadata": {},
   "outputs": [
    {
     "data": {
      "text/plain": [
       "(array([0.5, 1.5, 2.5, 3.5, 4.5, 5.5, 6.5, 7.5, 8.5, 9.5]),\n",
       " <a list of 10 Text yticklabel objects>)"
      ]
     },
     "execution_count": 109,
     "metadata": {},
     "output_type": "execute_result"
    },
    {
     "data": {
      "image/png": "[encoded data removed]",
      "text/plain": [
       "<Figure size 1008x864 with 2 Axes>"
      ]
     },
     "metadata": {
      "needs_background": "light"
     },
     "output_type": "display_data"
    }
   ],
   "source": [
    "plt.figure(figsize=(14,12))\n",
    "data_plot = dataset.drop([\"membership_expire_date\",\"registration_init_time_year\",\"registration_init_time_month\",\"registration_init_time_weekday\",\n",
    "                          \"membership_expire_date_month\",\"transaction_date_month\"],axis =1)\n",
    "sns.heatmap(data_plot.corr(), linewidths=.1, cmap=\"YlGnBu\", annot=True)\n",
    "plt.yticks(rotation=0)"
   ]
  },
  {
   "cell_type": "markdown",
   "metadata": {},
   "source": [
    "- We can see from above Graph, There is strong correlation between payment plan days, actual_amount paid, plan list price features. \n",
    "- Relationship between No. of transactions and Lifetime of customer, means more the no. of transactions, more likely the customer will continue with the subscription. \n",
    "- Also is_churn and is_auto_renewal are negatively correlated to each other. "
   ]
  },
  {
   "cell_type": "markdown",
   "metadata": {},
   "source": [
    "## Inferential Statistics\n",
    "\n",
    "- We want to check is there any relationship between \n",
    "   - is_auto_renew and is_churn /\n",
    "   - is_cancel and is_churn.\n",
    "   - We will be using Chi-Squared test to check the association between these variables."
   ]
  },
  {
   "cell_type": "markdown",
   "metadata": {},
   "source": [
    "# First let's take a look towards the Assumptions:\n",
    "\n",
    "- Our data is pretty much random and is good representation of the population\n",
    "- The variables under study are categorical. \n",
    "- The expected value of the number of sample observations at each level of the variable is more than 5."
   ]
  },
  {
   "cell_type": "markdown",
   "metadata": {},
   "source": [
    "#### The Null and Alternate Hypotheses:-\n",
    "- Recall that we are interested in knowing if there is a relationship between 'is_churn' and 'is_auto_renew'. \n",
    "- In order to do so, we will use the Chi-squared test and set our significance level to be 0.05 .But first, let's state our null hypothesis and the alternative hypothesis.\n",
    "\n",
    "- H0:There is no statistically significant relationship between 'is_churn' and 'is_auto_renew'\n",
    "- Ha:There is a statistically significant relationship between 'is_churn' and 'is_auto_renew'"
   ]
  },
  {
   "cell_type": "markdown",
   "metadata": {},
   "source": [
    "#### Constructing the Contingency Table\n",
    "- The next step is to format the data into a frequency count table.\n",
    "- This is called a Contingency Table, we can accomplish this by using the pd.crosstab() function in pandas."
   ]
  },
  {
   "cell_type": "code",
   "execution_count": 110,
   "metadata": {},
   "outputs": [
    {
     "data": {
      "text/html": [
       "<div>\n",
       "<style scoped>\n",
       "    .dataframe tbody tr th:only-of-type {\n",
       "        vertical-align: middle;\n",
       "    }\n",
       "\n",
       "    .dataframe tbody tr th {\n",
       "        vertical-align: top;\n",
       "    }\n",
       "\n",
       "    .dataframe thead th {\n",
       "        text-align: right;\n",
       "    }\n",
       "</style>\n",
       "<table border=\"1\" class=\"dataframe\">\n",
       "  <thead>\n",
       "    <tr style=\"text-align: right;\">\n",
       "      <th>is_auto_renew</th>\n",
       "      <th>0</th>\n",
       "      <th>1</th>\n",
       "      <th>All</th>\n",
       "    </tr>\n",
       "    <tr>\n",
       "      <th>is_churn</th>\n",
       "      <th></th>\n",
       "      <th></th>\n",
       "      <th></th>\n",
       "    </tr>\n",
       "  </thead>\n",
       "  <tbody>\n",
       "    <tr>\n",
       "      <th>0</th>\n",
       "      <td>83706</td>\n",
       "      <td>845754</td>\n",
       "      <td>929460</td>\n",
       "    </tr>\n",
       "    <tr>\n",
       "      <th>1</th>\n",
       "      <td>33647</td>\n",
       "      <td>29824</td>\n",
       "      <td>63471</td>\n",
       "    </tr>\n",
       "    <tr>\n",
       "      <th>All</th>\n",
       "      <td>117353</td>\n",
       "      <td>875578</td>\n",
       "      <td>992931</td>\n",
       "    </tr>\n",
       "  </tbody>\n",
       "</table>\n",
       "</div>"
      ],
      "text/plain": [
       "is_auto_renew       0       1     All\n",
       "is_churn                             \n",
       "0               83706  845754  929460\n",
       "1               33647   29824   63471\n",
       "All            117353  875578  992931"
      ]
     },
     "execution_count": 110,
     "metadata": {},
     "output_type": "execute_result"
    }
   ],
   "source": [
    "contingency_table = pd.crosstab(\n",
    "     dataset['is_churn'],\n",
    "     dataset['is_auto_renew'],\n",
    "     margins = True)\n",
    "contingency_table"
   ]
  },
  {
   "cell_type": "code",
   "execution_count": 111,
   "metadata": {},
   "outputs": [
    {
     "name": "stdout",
     "output_type": "stream",
     "text": [
      "[[ 83706 845754]\n",
      " [ 33647  29824]]\n"
     ]
    },
    {
     "data": {
      "text/plain": [
       "(110392.11882460065, 0.0, 1)"
      ]
     },
     "execution_count": 111,
     "metadata": {},
     "output_type": "execute_result"
    }
   ],
   "source": [
    "f_obs = np.array([contingency_table.iloc[0][0:2].values,\n",
    "                   contingency_table.iloc[1][0:2].values])\n",
    "print(f_obs)\n",
    "from scipy import stats\n",
    "stats.chi2_contingency(f_obs)[0:3]"
   ]
  },
  {
   "cell_type": "markdown",
   "metadata": {},
   "source": [
    "- Chisq_test_statistic = 632301.26, P-value ~ 0, degree_of_freedom = 1\n",
    "#### Conclusions:- \n",
    "\n",
    "- With a p-value < 0.05 , we can reject the null hypothesis. There is definitely some sort of statistically significant relationship between 'is_churn' and the 'is_auto_renew' column.\n",
    "- We don't know what this relationship is, but we do know that these two variables are not independent of each other."
   ]
  },
  {
   "cell_type": "markdown",
   "metadata": {},
   "source": [
    "#### Relationship between 'is_churn' and 'is_cancel' Variables\n",
    "\n",
    "The Null and Alternate Hypotheses:-\n",
    "- Recall that we are interested in knowing if there is a relationship between 'is_churn' and 'is_cancel'. In order to do so, - we would have to use the Chi-squared test and we set our significance level to be 0.05 .But first, let's state our null hypothesis and the alternative hypothesis.\n",
    "\n",
    "- H0:There is no statistically significant relationship between 'is_churn' and 'is_cancel'\n",
    "- Ha:There is a statistically significant relationship between 'is_churn' and 'is_cancel'"
   ]
  },
  {
   "cell_type": "code",
   "execution_count": 112,
   "metadata": {},
   "outputs": [
    {
     "data": {
      "text/html": [
       "<div>\n",
       "<style scoped>\n",
       "    .dataframe tbody tr th:only-of-type {\n",
       "        vertical-align: middle;\n",
       "    }\n",
       "\n",
       "    .dataframe tbody tr th {\n",
       "        vertical-align: top;\n",
       "    }\n",
       "\n",
       "    .dataframe thead th {\n",
       "        text-align: right;\n",
       "    }\n",
       "</style>\n",
       "<table border=\"1\" class=\"dataframe\">\n",
       "  <thead>\n",
       "    <tr style=\"text-align: right;\">\n",
       "      <th>is_cancel</th>\n",
       "      <th>0</th>\n",
       "      <th>1</th>\n",
       "      <th>All</th>\n",
       "    </tr>\n",
       "    <tr>\n",
       "      <th>is_churn</th>\n",
       "      <th></th>\n",
       "      <th></th>\n",
       "      <th></th>\n",
       "    </tr>\n",
       "  </thead>\n",
       "  <tbody>\n",
       "    <tr>\n",
       "      <th>0</th>\n",
       "      <td>929456</td>\n",
       "      <td>4</td>\n",
       "      <td>929460</td>\n",
       "    </tr>\n",
       "    <tr>\n",
       "      <th>1</th>\n",
       "      <td>63450</td>\n",
       "      <td>21</td>\n",
       "      <td>63471</td>\n",
       "    </tr>\n",
       "    <tr>\n",
       "      <th>All</th>\n",
       "      <td>992906</td>\n",
       "      <td>25</td>\n",
       "      <td>992931</td>\n",
       "    </tr>\n",
       "  </tbody>\n",
       "</table>\n",
       "</div>"
      ],
      "text/plain": [
       "is_cancel       0   1     All\n",
       "is_churn                     \n",
       "0          929456   4  929460\n",
       "1           63450  21   63471\n",
       "All        992906  25  992931"
      ]
     },
     "execution_count": 112,
     "metadata": {},
     "output_type": "execute_result"
    }
   ],
   "source": [
    "contingency_table1 = pd.crosstab(\n",
    "    dataset['is_churn'],\n",
    "    dataset['is_cancel'],\n",
    "    margins = True)\n",
    "contingency_table1"
   ]
  },
  {
   "cell_type": "code",
   "execution_count": 113,
   "metadata": {},
   "outputs": [
    {
     "name": "stdout",
     "output_type": "stream",
     "text": [
      "[[929456      4]\n",
      " [ 63450     21]]\n"
     ]
    },
    {
     "data": {
      "text/plain": [
       "(238.84449751553225, 7.025206995546444e-54, 1)"
      ]
     },
     "execution_count": 113,
     "metadata": {},
     "output_type": "execute_result"
    }
   ],
   "source": [
    "f_obs1 = np.array([contingency_table1.iloc[0][0:2].values,\n",
    "                  contingency_table1.iloc[1][0:2].values])\n",
    "print(f_obs1)\n",
    "from scipy import stats\n",
    "stats.chi2_contingency(f_obs1)[0:3]"
   ]
  },
  {
   "cell_type": "markdown",
   "metadata": {},
   "source": [
    "- Chisq_test_statistic = 56664.17, P-value ~ 0, degree_of_freedom = 1\n",
    "#### Conclusions:- \n",
    "\n",
    "- With a p-value < 0.05 , we can reject the null hypothesis. There is definitely some sort of statistically significant relationship between 'is_churn'  and the 'is_cancel' column.\n",
    "- We don't know what this relationship is, but we do know that these two variables are not independent of each other."
   ]
  },
  {
   "cell_type": "markdown",
   "metadata": {},
   "source": [
    "## Logistic Regression"
   ]
  },
  {
   "cell_type": "markdown",
   "metadata": {},
   "source": [
    "Need to check whether our \"is_churn\" output feature is balanced or not? "
   ]
  },
  {
   "cell_type": "code",
   "execution_count": 114,
   "metadata": {},
   "outputs": [
    {
     "name": "stdout",
     "output_type": "stream",
     "text": [
      "percentage of no churn is 93.60771292265021\n",
      "percentage of churn 6.392287077349786\n"
     ]
    }
   ],
   "source": [
    "count_no_churn = len(dataset[dataset['is_churn']==0])\n",
    "count_churn = len(dataset[dataset['is_churn']==1])\n",
    "pct_of_no_churn = count_no_churn/(count_no_churn+count_churn)\n",
    "print(\"percentage of no churn is\", pct_of_no_churn*100)\n",
    "pct_of_churn = count_churn/(count_no_churn+count_churn)\n",
    "print(\"percentage of churn\", pct_of_churn*100)"
   ]
  },
  {
   "cell_type": "markdown",
   "metadata": {},
   "source": [
    "This is an Unbalanced class. Before we try to make it a balanced class, Let's create the dummy variables of the categorical features."
   ]
  },
  {
   "cell_type": "code",
   "execution_count": 115,
   "metadata": {},
   "outputs": [],
   "source": [
    "# Creating dummy variables for categorical datatypes\n",
    "datasetDummies = pd.get_dummies(dataset, columns=['gender', 'payment_method_id', 'payment_plan_days', 'is_auto_renew','is_cancel',\n",
    "                                              'registered_via','city'])"
   ]
  },
  {
   "cell_type": "code",
   "execution_count": 116,
   "metadata": {},
   "outputs": [
    {
     "data": {
      "text/plain": [
       "msno\n",
       "+++hVY1rZox/33YtvDgmKA2Frg/2qhkz12B9ylCvh8o=    0\n",
       "+++l/EXNMLTijfLBa8p2TUVVVp2aFGSuUI/h7mLmthw=    0\n",
       "+++snpr7pmobhLKUgSHTv/mpkqgBT0tQJ0zQj6qKrqc=    0\n",
       "++/9R3sX37CjxbY/AaGvbwr3QkwElKBCtSvVzhCBDOk=    0\n",
       "++/UDNo9DLrxT8QVGiDi1OnWfczAdEwThaVyD0fXO50=    0\n",
       "Name: is_churn, dtype: int64"
      ]
     },
     "execution_count": 116,
     "metadata": {},
     "output_type": "execute_result"
    }
   ],
   "source": [
    "y = datasetDummies.iloc[:,1]\n",
    "y.head()"
   ]
  },
  {
   "cell_type": "code",
   "execution_count": 117,
   "metadata": {},
   "outputs": [],
   "source": [
    "X = datasetDummies[['No_of_transactions',\n",
    " 'plan_list_price',\n",
    " 'actual_amount_paid',\n",
    " 'bd','lifetime','gender_male','payment_method_id_39',\n",
    " 'payment_method_id_40',\n",
    " 'payment_method_id_41','payment_plan_days_30','is_auto_renew_1','is_cancel_1',\n",
    " 'registered_via_3',\n",
    " 'registered_via_7',\n",
    " 'registered_via_9',\n",
    " 'city_1','city_13', 'city_5']]"
   ]
  },
  {
   "cell_type": "code",
   "execution_count": 118,
   "metadata": {},
   "outputs": [
    {
     "name": "stdout",
     "output_type": "stream",
     "text": [
      "<class 'pandas.core.frame.DataFrame'>\n",
      "Index: 992931 entries, +++hVY1rZox/33YtvDgmKA2Frg/2qhkz12B9ylCvh8o= to zzzN9thH22os1dRS0VHReY/8FTfGHOi86//d+wGGFsQ=\n",
      "Data columns (total 18 columns):\n",
      "No_of_transactions      992931 non-null int64\n",
      "plan_list_price         992931 non-null int64\n",
      "actual_amount_paid      992931 non-null int64\n",
      "bd                      992931 non-null float64\n",
      "lifetime                992931 non-null int64\n",
      "gender_male             992931 non-null uint8\n",
      "payment_method_id_39    992931 non-null uint8\n",
      "payment_method_id_40    992931 non-null uint8\n",
      "payment_method_id_41    992931 non-null uint8\n",
      "payment_plan_days_30    992931 non-null uint8\n",
      "is_auto_renew_1         992931 non-null uint8\n",
      "is_cancel_1             992931 non-null uint8\n",
      "registered_via_3        992931 non-null uint8\n",
      "registered_via_7        992931 non-null uint8\n",
      "registered_via_9        992931 non-null uint8\n",
      "city_1                  992931 non-null uint8\n",
      "city_13                 992931 non-null uint8\n",
      "city_5                  992931 non-null uint8\n",
      "dtypes: float64(1), int64(4), uint8(13)\n",
      "memory usage: 97.8+ MB\n"
     ]
    }
   ],
   "source": [
    "X.info()"
   ]
  },
  {
   "cell_type": "markdown",
   "metadata": {},
   "source": [
    "#### Let's Use SMOTE for balancing the Minority class of \"Churn\"\n",
    "(Synthetic Minority Over-sampling Technique)\n",
    "SMOTE is an over-sampling method.It creates synthetic (not duplicate) samples of the minority class. Hence making the minority class equal to the majority class. SMOTE does this by selecting similar records and altering that record one column at a time by a random amount within the difference to the neighbouring records."
   ]
  },
  {
   "cell_type": "code",
   "execution_count": 119,
   "metadata": {},
   "outputs": [
    {
     "name": "stdout",
     "output_type": "stream",
     "text": [
      "Requirement already satisfied: imblearn in c:\\users\\sucha\\anaconda3\\lib\\site-packages (0.0)\n",
      "Requirement already satisfied: imbalanced-learn in c:\\users\\sucha\\anaconda3\\lib\\site-packages (from imblearn) (0.4.3)\n",
      "Requirement already satisfied: numpy>=1.8.2 in c:\\users\\sucha\\anaconda3\\lib\\site-packages (from imbalanced-learn->imblearn) (1.15.1)\n",
      "Requirement already satisfied: scikit-learn>=0.20 in c:\\users\\sucha\\anaconda3\\lib\\site-packages (from imbalanced-learn->imblearn) (0.20.0)\n",
      "Requirement already satisfied: scipy>=0.13.3 in c:\\users\\sucha\\anaconda3\\lib\\site-packages (from imbalanced-learn->imblearn) (1.1.0)\n"
     ]
    }
   ],
   "source": [
    "!pip install imblearn\n",
    "from imblearn.over_sampling import SMOTE"
   ]
  },
  {
   "cell_type": "code",
   "execution_count": 120,
   "metadata": {},
   "outputs": [
    {
     "name": "stdout",
     "output_type": "stream",
     "text": [
      "Number transactions X_train dataset:  (695051, 18)\n",
      "Number transactions y_train dataset:  (695051,)\n",
      "Number transactions X_test dataset:  (297880, 18)\n",
      "Number transactions y_test dataset:  (297880,)\n"
     ]
    }
   ],
   "source": [
    " # Dividing data into training and test sets\n",
    "X_train, X_test, y_train, y_test = train_test_split(X, y, test_size = 0.3, \n",
    "                                                    random_state=0)\n",
    "print(\"Number transactions X_train dataset: \", X_train.shape)\n",
    "print(\"Number transactions y_train dataset: \", y_train.shape)\n",
    "print(\"Number transactions X_test dataset: \", X_test.shape)\n",
    "print(\"Number transactions y_test dataset: \", y_test.shape)"
   ]
  },
  {
   "cell_type": "code",
   "execution_count": 121,
   "metadata": {},
   "outputs": [
    {
     "name": "stdout",
     "output_type": "stream",
     "text": [
      "Before OverSampling, counts of label Churn: 44464\n",
      "Before OverSampling, counts of label No_churn: 650587 \n",
      "\n",
      "After OverSampling, the shape of train_X: (1301174, 18)\n",
      "After OverSampling, the shape of train_y: (1301174,) \n",
      "\n",
      "After OverSampling, counts of label Churn: 650587\n",
      "After OverSampling, counts of label No_churn: 650587\n"
     ]
    }
   ],
   "source": [
    "print(\"Before OverSampling, counts of label Churn: {}\".format(sum(y_train==1)))\n",
    "print(\"Before OverSampling, counts of label No_churn: {} \\n\".format(sum(y_train==0)))\n",
    "\n",
    "sm = SMOTE(random_state=2)\n",
    "X_train_res, y_train_res = sm.fit_sample(X_train, y_train.ravel())\n",
    "\n",
    "print('After OverSampling, the shape of train_X: {}'.format(X_train_res.shape))\n",
    "print('After OverSampling, the shape of train_y: {} \\n'.format(y_train_res.shape))\n",
    "\n",
    "print(\"After OverSampling, counts of label Churn: {}\".format(sum(y_train_res==1)))\n",
    "print(\"After OverSampling, counts of label No_churn: {}\".format(sum(y_train_res==0)))"
   ]
  },
  {
   "cell_type": "markdown",
   "metadata": {},
   "source": [
    "Both categories have equal amount of records. \n",
    "More specifically, the minority class has been increased to the total number of majority class.\n",
    "\n",
    "#### LOGISTIC REGRESSION \n",
    "It is a Machine Learning classification algorithm that is used to predict the probability of a categorical dependent variable. In logistic regression, the dependent variable is a binary variable that contains data coded as 1 (Churn) or 0 (non-churn).In other words, the logistic regression model predicts P(Y=1) as a function of X.\n",
    "\n",
    "I used GridSearchCV method to tune the regularization hyperparameter'C'.Regularization is used to prevent the model from overfitting the data.Here in this Method all of the possible combinations of parameter values are evaluated and the best combination is retained."
   ]
  },
  {
   "cell_type": "code",
   "execution_count": 122,
   "metadata": {},
   "outputs": [
    {
     "name": "stdout",
     "output_type": "stream",
     "text": [
      "Fitting 5 folds for each of 10 candidates, totalling 50 fits\n"
     ]
    },
    {
     "name": "stderr",
     "output_type": "stream",
     "text": [
      "[Parallel(n_jobs=3)]: Using backend LokyBackend with 3 concurrent workers.\n",
      "[Parallel(n_jobs=3)]: Done  12 tasks      | elapsed:  2.0min\n",
      "[Parallel(n_jobs=3)]: Done  50 out of  50 | elapsed:  7.3min finished\n"
     ]
    },
    {
     "data": {
      "text/plain": [
       "GridSearchCV(cv=5, error_score='raise-deprecating',\n",
       "       estimator=LogisticRegression(C=1.0, class_weight=None, dual=False, fit_intercept=True,\n",
       "          intercept_scaling=1, max_iter=100, multi_class='warn',\n",
       "          n_jobs=None, penalty='l2', random_state=None, solver='warn',\n",
       "          tol=0.0001, verbose=0, warm_start=False),\n",
       "       fit_params=None, iid='warn', n_jobs=3,\n",
       "       param_grid={'C': array([ 1.,  2.,  3.,  4.,  5.,  6.,  7.,  8.,  9., 10.])},\n",
       "       pre_dispatch='2*n_jobs', refit=True, return_train_score='warn',\n",
       "       scoring=None, verbose=5)"
      ]
     },
     "execution_count": 122,
     "metadata": {},
     "output_type": "execute_result"
    }
   ],
   "source": [
    "from sklearn.model_selection import GridSearchCV\n",
    "from sklearn.linear_model import LogisticRegression\n",
    "from sklearn.metrics import confusion_matrix, precision_recall_curve, auc, roc_auc_score, roc_curve, recall_score, classification_report\n",
    "\n",
    "parameters = {\n",
    "    'C': np.linspace(1, 10, 10)\n",
    "             }\n",
    "lr = LogisticRegression()\n",
    "clf = GridSearchCV(lr, parameters, cv=5, verbose=5, n_jobs=3)\n",
    "clf.fit(X_train_res, y_train_res.ravel())"
   ]
  },
  {
   "cell_type": "code",
   "execution_count": 123,
   "metadata": {},
   "outputs": [
    {
     "data": {
      "text/plain": [
       "{'C': 7.0}"
      ]
     },
     "execution_count": 123,
     "metadata": {},
     "output_type": "execute_result"
    }
   ],
   "source": [
    "clf.best_params_"
   ]
  },
  {
   "cell_type": "code",
   "execution_count": 124,
   "metadata": {},
   "outputs": [
    {
     "name": "stdout",
     "output_type": "stream",
     "text": [
      "[LibLinear]"
     ]
    },
    {
     "data": {
      "text/plain": [
       "LogisticRegression(C=7, class_weight=None, dual=False, fit_intercept=True,\n",
       "          intercept_scaling=1, max_iter=100, multi_class='warn',\n",
       "          n_jobs=None, penalty='l1', random_state=None, solver='warn',\n",
       "          tol=0.0001, verbose=5, warm_start=False)"
      ]
     },
     "execution_count": 124,
     "metadata": {},
     "output_type": "execute_result"
    }
   ],
   "source": [
    "lr1 = LogisticRegression(C=7,penalty='l1', verbose=5)\n",
    "lr1.fit(X_train_res, y_train_res.ravel())"
   ]
  },
  {
   "cell_type": "code",
   "execution_count": 125,
   "metadata": {},
   "outputs": [
    {
     "name": "stdout",
     "output_type": "stream",
     "text": [
      "Intercept: [3.4577319]\n",
      "Regression: [[-1.19947374e-02  1.11602255e-02 -1.08945852e-02 -2.13189371e-05\n",
      "   4.76075987e-04 -9.10197314e-03  1.46804629e-01  3.50644850e-01\n",
      "  -8.90570615e-03 -1.43719218e+00 -2.01574896e+00  6.48054738e+00\n",
      "  -3.28709100e-01 -7.71205449e-01 -4.85011057e-01 -8.21372886e-02\n",
      "  -1.01879473e-01 -1.08802539e-01]]\n"
     ]
    }
   ],
   "source": [
    "print('Intercept: ' + str(lr1.intercept_))\n",
    "print('Regression: ' + str(lr1.coef_))"
   ]
  },
  {
   "cell_type": "code",
   "execution_count": 126,
   "metadata": {},
   "outputs": [
    {
     "name": "stdout",
     "output_type": "stream",
     "text": [
      "Recall metric in the train dataset: 57.680370636919754%\n"
     ]
    }
   ],
   "source": [
    "y_train_pred = lr1.predict(X_train)\n",
    "\n",
    "cnf_matrix_tra = confusion_matrix(y_train, y_train_pred)\n",
    "\n",
    "print(\"Recall metric in the train dataset: {}%\".format(100*cnf_matrix_tra[1,1]/(cnf_matrix_tra[1,0]+cnf_matrix_tra[1,1])))\n"
   ]
  },
  {
   "cell_type": "code",
   "execution_count": 127,
   "metadata": {},
   "outputs": [
    {
     "name": "stdout",
     "output_type": "stream",
     "text": [
      "Confusion Matrix :\n",
      " [[246699  32174]\n",
      " [  8125  10882]]\n",
      "Accuracy Score : 0.8647139787834027\n",
      "Classification Report :\n",
      "               precision    recall  f1-score   support\n",
      "\n",
      "           0       0.97      0.88      0.92    278873\n",
      "           1       0.25      0.57      0.35     19007\n",
      "\n",
      "   micro avg       0.86      0.86      0.86    297880\n",
      "   macro avg       0.61      0.73      0.64    297880\n",
      "weighted avg       0.92      0.86      0.89    297880\n",
      "\n"
     ]
    }
   ],
   "source": [
    "y_pred = lr1.predict(X_test)\n",
    "\n",
    "cnf_matrix = confusion_matrix(y_test, y_pred)\n",
    "print(\"Confusion Matrix :\\n\",cnf_matrix)\n",
    "print( \"Accuracy Score :\",accuracy_score(y_test, y_pred))\n",
    "print(\"Classification Report :\\n\",classification_report(y_test, y_pred))\n",
    "#print(\"Recall metric in the testing dataset: {}%\".format(100*cnf_matrix[1,1]/(cnf_matrix[1,0]+cnf_matrix[1,1])))"
   ]
  },
  {
   "cell_type": "markdown",
   "metadata": {},
   "source": [
    "The result is telling us that (246698+10889) = 257587 are correct predictions and (32175+8118) = 40293 are incorrect predictions."
   ]
  },
  {
   "cell_type": "code",
   "execution_count": 128,
   "metadata": {},
   "outputs": [
    {
     "name": "stdout",
     "output_type": "stream",
     "text": [
      "[LibLinear]"
     ]
    }
   ],
   "source": [
    "tmp = lr1.fit(X_train_res, y_train_res.ravel())"
   ]
  },
  {
   "cell_type": "code",
   "execution_count": 129,
   "metadata": {},
   "outputs": [
    {
     "data": {
      "image/png": "[encoded data removed]",
      "text/plain": [
       "<Figure size 432x288 with 1 Axes>"
      ]
     },
     "metadata": {
      "needs_background": "light"
     },
     "output_type": "display_data"
    }
   ],
   "source": [
    "y_pred_sample_score = tmp.decision_function(X_test)\n",
    "\n",
    "\n",
    "fpr, tpr, thresholds = roc_curve(y_test, y_pred_sample_score)\n",
    "\n",
    "roc_auc = auc(fpr,tpr)\n",
    "\n",
    "# Plot ROC\n",
    "plt.title('Receiver Operating Characteristic')\n",
    "plt.plot(fpr, tpr, 'b',label='AUC = %0.3f'% roc_auc)\n",
    "plt.legend(loc='lower right')\n",
    "plt.plot([0,1],[0,1],'r--')\n",
    "plt.xlim([-0.1,1.0])\n",
    "plt.ylim([-0.1,1.01])\n",
    "plt.ylabel('True Positive Rate')\n",
    "plt.xlabel('False Positive Rate')\n",
    "plt.show()"
   ]
  },
  {
   "cell_type": "code",
   "execution_count": 130,
   "metadata": {},
   "outputs": [
    {
     "data": {
      "text/plain": [
       "0.766286353508995"
      ]
     },
     "execution_count": 130,
     "metadata": {},
     "output_type": "execute_result"
    }
   ],
   "source": [
    "roc_auc"
   ]
  },
  {
   "cell_type": "markdown",
   "metadata": {},
   "source": [
    " AUC-ROC Curve - \n",
    " It is one of the most important evaluation metrics for checking any classification model’s performance.ROC is a probability curve and AUC represents degree or measure of separability. It tells how much model is capable of distinguishing between classes. Higher the AUC, better the model is at predicting 0s as 0s and 1s as 1s. \n",
    "By analogy, Higher the AUC, better the model is at distinguishing between churn and no_churn\n",
    "Here AUC = 77% which is good. "
   ]
  },
  {
   "cell_type": "markdown",
   "metadata": {},
   "source": [
    "#### TREE BASED ALGORITHMS\n",
    "#### Decision Trees\n",
    "A decision tree is a supervised learning method that makes a prediction by learning simple decision rules from the explanatory variables. \n",
    "<br>\n",
    "Decision trees have the following advantages:\n",
    "<br>\n",
    "Trees can be visualised, which makes them easy to interpret\n",
    "<br>\n",
    "They can handle numerical and categorical data\n",
    "<br>\n",
    "We can easily validate the model using statistical tests\n",
    "<br>\n",
    "The downsides to decision trees:\n",
    "<br>\n",
    "Decision trees are very prone to overfitting the training data, and often do not generalise well.\n",
    "<br>\n",
    "Small variations in the training data can cause a completely different tree to be generated.\n",
    "<br>\n",
    "Decision tree learning algorithms are based on heuristic algorithms like the greedy algorithm, which make locally optimal decisions at each node. These algorithms cannot guarantee a globally optimal decision tree.\n",
    "<br>\n",
    "<br>\n",
    "Decision trees can be a good starting point for developing predictive models that generalise better, like random forests."
   ]
  },
  {
   "cell_type": "code",
   "execution_count": 131,
   "metadata": {},
   "outputs": [],
   "source": [
    "# Spliting into train and test dataset\n",
    "X_train, X_test, y_train, y_test = train_test_split(X, y, test_size = 0.25,random_state=24)"
   ]
  },
  {
   "cell_type": "code",
   "execution_count": 132,
   "metadata": {},
   "outputs": [],
   "source": [
    "\n",
    "from sklearn import tree\n",
    "clf = tree.DecisionTreeClassifier()\n",
    "clf.set_params(min_samples_leaf=3)\n",
    "clf.set_params(max_depth=4)\n",
    "clf = clf.fit(X_train,y_train)"
   ]
  },
  {
   "cell_type": "code",
   "execution_count": 133,
   "metadata": {},
   "outputs": [
    {
     "name": "stdout",
     "output_type": "stream",
     "text": [
      "Accuracy of decision tree classifier on test set: 0.94\n"
     ]
    }
   ],
   "source": [
    "print('Accuracy of decision tree classifier on test set: {:.2f}'.format(clf.score(X_test,y_test)))"
   ]
  },
  {
   "cell_type": "code",
   "execution_count": 134,
   "metadata": {},
   "outputs": [],
   "source": [
    "import os\n",
    "os.environ[\"PATH\"] += os.pathsep + 'C:/Users/sucha/OneDrive/Desktop/graphinviz/release/bin'\n",
    "from sklearn.tree import export_graphviz\n",
    "import graphviz"
   ]
  },
  {
   "cell_type": "code",
   "execution_count": 135,
   "metadata": {},
   "outputs": [
    {
     "data": {
      "text/plain": [
       "'decision_tree.gv.pdf'"
      ]
     },
     "execution_count": 135,
     "metadata": {},
     "output_type": "execute_result"
    }
   ],
   "source": [
    "churnTree = tree.export_graphviz(clf, out_file=None, \n",
    "                         feature_names = list(X_train.columns.values),  \n",
    "                         class_names = ['No_churn', 'Churn'],\n",
    "                         filled=True, rounded=True,  \n",
    "                         special_characters=True)  \n",
    "graph = graphviz.Source(churnTree)\n",
    "graph.render('decision_tree.gv', view=True)"
   ]
  },
  {
   "cell_type": "code",
   "execution_count": 136,
   "metadata": {},
   "outputs": [],
   "source": [
    "from sklearn.externals.six import StringIO\n",
    "with open(\"tree.dot\", 'w') as f:\n",
    "    f = tree.export_graphviz(clf, out_file=f)\n",
    "!dot -Tpng tree.dot > tree.png"
   ]
  },
  {
   "cell_type": "markdown",
   "metadata": {},
   "source": [
    "#### Random Forest \n",
    "Random forests are an ensemble learning method, where the results from multiple decision trees are combined to make a final prediction. For example, a random forest may be made up of 10 decision trees, 7 of which make a prediction for ‘churn’ and 3 of which make a prediction for ‘no churn’. The final prediction for the forest will be ‘churn’."
   ]
  },
  {
   "cell_type": "code",
   "execution_count": 137,
   "metadata": {},
   "outputs": [],
   "source": [
    "from sklearn.ensemble import RandomForestClassifier\n",
    "\n",
    "rf_classifier = RandomForestClassifier(n_estimators = 200, criterion = 'entropy', random_state = 0)\n",
    "rf_classifier.fit(X_train,y_train)\n",
    "# Predicting the test set results\n",
    "y_Pred_rf = rf_classifier.predict(X_test)"
   ]
  },
  {
   "cell_type": "code",
   "execution_count": 138,
   "metadata": {},
   "outputs": [
    {
     "name": "stdout",
     "output_type": "stream",
     "text": [
      "8411\n"
     ]
    }
   ],
   "source": [
    "print(y_Pred_rf.sum())"
   ]
  },
  {
   "cell_type": "code",
   "execution_count": 139,
   "metadata": {},
   "outputs": [],
   "source": [
    "# Making the Confusion Matrix and classification report\n",
    "cm = confusion_matrix(y_test, y_Pred_rf)\n",
    "cr = classification_report(y_test, y_Pred_rf)"
   ]
  },
  {
   "cell_type": "code",
   "execution_count": 140,
   "metadata": {},
   "outputs": [
    {
     "name": "stdout",
     "output_type": "stream",
     "text": [
      "Confusion Matrix :\n",
      " [[228989   3402]\n",
      " [ 10833   5009]]\n",
      "Classification Report :\n",
      "               precision    recall  f1-score   support\n",
      "\n",
      "           0       0.95      0.99      0.97    232391\n",
      "           1       0.60      0.32      0.41     15842\n",
      "\n",
      "   micro avg       0.94      0.94      0.94    248233\n",
      "   macro avg       0.78      0.65      0.69    248233\n",
      "weighted avg       0.93      0.94      0.93    248233\n",
      "\n",
      "Accuracy : 0.9426546833015755\n"
     ]
    }
   ],
   "source": [
    "print(\"Confusion Matrix :\\n\",cm)\n",
    "print(\"Classification Report :\\n\",cr)\n",
    "print(\"Accuracy :\",rf_classifier.score(X_test, y_test))"
   ]
  },
  {
   "cell_type": "markdown",
   "metadata": {},
   "source": [
    "#### Feature Importance Plot"
   ]
  },
  {
   "cell_type": "code",
   "execution_count": 148,
   "metadata": {},
   "outputs": [
    {
     "name": "stdout",
     "output_type": "stream",
     "text": [
      "                      importance\n",
      "lifetime                0.285956\n",
      "No_of_transactions      0.186853\n",
      "bd                      0.123519\n",
      "plan_list_price         0.099262\n",
      "actual_amount_paid      0.093666\n",
      "is_auto_renew_1         0.092885\n",
      "payment_plan_days_30    0.021375\n",
      "registered_via_7        0.016978\n",
      "payment_method_id_41    0.014871\n",
      "gender_male             0.013292\n",
      "city_13                 0.010449\n",
      "city_5                  0.009478\n",
      "city_1                  0.008425\n",
      "registered_via_9        0.007440\n",
      "registered_via_3        0.006591\n",
      "payment_method_id_40    0.004431\n",
      "payment_method_id_39    0.004363\n",
      "is_cancel_1             0.000164\n"
     ]
    }
   ],
   "source": [
    "feature_importances = pd.DataFrame(rf_classifier.feature_importances_[:],\n",
    "                                   index = X_train.columns,\n",
    "                                    columns=['importance']).sort_values('importance',ascending=False)\n",
    "print(feature_importances)"
   ]
  },
  {
   "cell_type": "code",
   "execution_count": 141,
   "metadata": {},
   "outputs": [
    {
     "data": {
      "image/png": "[encoded data removed]",
      "text/plain": [
       "<Figure size 720x648 with 1 Axes>"
      ]
     },
     "metadata": {
      "needs_background": "light"
     },
     "output_type": "display_data"
    }
   ],
   "source": [
    "#Implementation of feature importance plot\n",
    "\n",
    "importances = rf_classifier.feature_importances_\n",
    "std = np.std([tree.feature_importances_ for tree in rf_classifier.estimators_],\n",
    "             axis=0)\n",
    "indices = np.argsort(importances)[::-1]\n",
    "\n",
    "# Rearrange feature names so they match the sorted feature importances\n",
    "names = [X_train.columns[i] for i in indices]\n",
    "\n",
    "plt.figure(figsize=(10,9))\n",
    "plt.title(\"Feature importances\")\n",
    "plt.barh(range(X_train.shape[1]), importances[indices],\n",
    "       color=\"r\", yerr=std[indices], align=\"center\")\n",
    "plt.yticks(range(X_train.shape[1]), names, fontsize = 8)\n",
    "plt.show()\n"
   ]
  },
  {
   "cell_type": "markdown",
   "metadata": {},
   "source": [
    "From my analysis the fetaures lifetime, bd ,No.of transactions, plan_list_price, is_auto_renew_1 are important features for determining the behavior of customer_churn. So we should keep them in mind and share insights with our customer success team and adapt their focus."
   ]
  }
 ],
 "metadata": {
  "kernelspec": {
   "display_name": "Python 3",
   "language": "python",
   "name": "python3"
  },
  "language_info": {
   "codemirror_mode": {
    "name": "ipython",
    "version": 3
   },
   "file_extension": ".py",
   "mimetype": "text/x-python",
   "name": "python",
   "nbconvert_exporter": "python",
   "pygments_lexer": "ipython3",
   "version": "3.7.0"
  }
 },
 "nbformat": 4,
 "nbformat_minor": 2
}
