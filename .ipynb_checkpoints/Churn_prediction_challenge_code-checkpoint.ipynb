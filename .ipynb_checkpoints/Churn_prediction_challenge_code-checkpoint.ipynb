{
 "cells": [
  {
   "cell_type": "markdown",
   "metadata": {},
   "source": [
    "# Churn Prediction Challenge Code\n",
    "\n",
    "- Predict whether a user will churn after his/her subscription expires. Specifically, we want to forecast if a user make a new service subscription transaction within 30 days after the current membership expiration date.\n",
    "- Looking at the relationship between cancelled subscriptions and churn rate.\n",
    "- Included here is the Link of Dataset from Kaggle Competition(https://www.kaggle.com/c/kkbox-churn-prediction-challenge/data)"
   ]
  },
  {
   "cell_type": "code",
   "execution_count": 1,
   "metadata": {},
   "outputs": [],
   "source": [
    "# Loading Libraries in python\n",
    "import numpy as np\n",
    "import pandas as pd\n",
    "import pylab\n",
    "from datetime import datetime\n",
    "from collections import Counter\n",
    "import seaborn as sns\n",
    "import matplotlib.pyplot as plt\n",
    "%matplotlib inline\n",
    "import scipy.stats as stats\n",
    "#warnings.filterwarnings('ignore')"
   ]
  },
  {
   "cell_type": "markdown",
   "metadata": {},
   "source": [
    "# Loading and getting information about train dataset "
   ]
  },
  {
   "cell_type": "code",
   "execution_count": 2,
   "metadata": {},
   "outputs": [
    {
     "name": "stdout",
     "output_type": "stream",
     "text": [
      "                                           msno  is_churn\n",
      "0  waLDQMmcOu2jLDaV1ddDkgCrB/jl6sD66Xzs0Vqax1Y=         1\n",
      "1  QA7uiXy8vIbUSPOkCf9RwQ3FsT8jVq2OxDr8zqa7bRQ=         1\n",
      "2  fGwBva6hikQmTJzrbz/2Ezjm5Cth5jZUNvXigKK2AFA=         1\n",
      "3  mT5V8rEpa+8wuqi6x0DoVd3H5icMKkE9Prt49UlmK+4=         1\n",
      "4  XaPhtGLk/5UvvOYHcONTwsnH97P4eGECeq+BARGItRw=         1\n",
      "                                                msno  is_churn\n",
      "992926  tUM0yxAj50Vc35vQZ++xMlomdyeLJUW9lEcoPnt3H+g=         0\n",
      "992927  KQS8etmfGgvE/7Y9gK+E9wdLnRTI0lyyPXaXL3I8E4c=         0\n",
      "992928  8/jDLgNREuWI9hcKVYp8723nmavn01T+AuMWkK3uM7g=         0\n",
      "992929  iNV99F1Rml7EMndOeLI0Y/iek6aCj/Qp1Z4dZvR+sak=         0\n",
      "992930  ZoVEIVMCpKT9/MJgqO+fh9xYrNM2vNisLhJ4xY/CVyk=         0\n",
      "(992931, 2)\n"
     ]
    }
   ],
   "source": [
    "train = pd.read_csv(r'C:\\Users\\sucha\\Downloads\\train.csv')\n",
    "print(train.head())\n",
    "print(train.tail())\n",
    "print(train.shape)"
   ]
  },
  {
   "cell_type": "markdown",
   "metadata": {},
   "source": [
    "# Gives info about data type and null columns"
   ]
  },
  {
   "cell_type": "code",
   "execution_count": 3,
   "metadata": {},
   "outputs": [
    {
     "name": "stdout",
     "output_type": "stream",
     "text": [
      "<class 'pandas.core.frame.DataFrame'>\n",
      "RangeIndex: 992931 entries, 0 to 992930\n",
      "Data columns (total 2 columns):\n",
      "msno        992931 non-null object\n",
      "is_churn    992931 non-null int64\n",
      "dtypes: int64(1), object(1)\n",
      "memory usage: 15.2+ MB\n",
      "None\n"
     ]
    }
   ],
   "source": [
    "print(train.info())  "
   ]
  },
  {
   "cell_type": "code",
   "execution_count": 4,
   "metadata": {},
   "outputs": [
    {
     "name": "stdout",
     "output_type": "stream",
     "text": [
      "0    929460\n",
      "1     63471\n",
      "Name: is_churn, dtype: int64\n"
     ]
    }
   ],
   "source": [
    "print(train['is_churn'].value_counts(dropna= False))"
   ]
  },
  {
   "cell_type": "markdown",
   "metadata": {},
   "source": [
    "# Loading Transactions dataset"
   ]
  },
  {
   "cell_type": "code",
   "execution_count": 5,
   "metadata": {},
   "outputs": [
    {
     "name": "stdout",
     "output_type": "stream",
     "text": [
      "<class 'pandas.core.frame.DataFrame'>\n",
      "RangeIndex: 21547746 entries, 0 to 21547745\n",
      "Data columns (total 9 columns):\n",
      "msno                      object\n",
      "payment_method_id         int64\n",
      "payment_plan_days         int64\n",
      "plan_list_price           int64\n",
      "actual_amount_paid        int64\n",
      "is_auto_renew             int64\n",
      "transaction_date          int64\n",
      "membership_expire_date    int64\n",
      "is_cancel                 int64\n",
      "dtypes: int64(8), object(1)\n",
      "memory usage: 1.4+ GB\n",
      "None\n"
     ]
    }
   ],
   "source": [
    "transactions = pd.read_csv(r'C:\\Users\\sucha\\Downloads\\transactions.csv')\n",
    "print(transactions.info())"
   ]
  },
  {
   "cell_type": "code",
   "execution_count": 6,
   "metadata": {},
   "outputs": [
    {
     "name": "stdout",
     "output_type": "stream",
     "text": [
      "                                           msno  payment_method_id  \\\n",
      "0  YyO+tlZtAXYXoZhNr3Vg3+dfVQvrBVGO8j1mfqe4ZHc=                 41   \n",
      "1  AZtu6Wl0gPojrEQYB8Q3vBSmE2wnZ3hi1FbK1rQQ0A4=                 41   \n",
      "2  UkDFI97Qb6+s2LWcijVVv4rMAsORbVDT2wNXF0aVbns=                 41   \n",
      "3  M1C56ijxozNaGD0t2h68PnH2xtx5iO5iR2MVYQB6nBI=                 39   \n",
      "4  yvj6zyBUaqdbUQSrKsrZ+xNDVM62knauSZJzakS9OW4=                 39   \n",
      "\n",
      "   payment_plan_days  plan_list_price  actual_amount_paid  is_auto_renew  \\\n",
      "0                 30              129                 129              1   \n",
      "1                 30              149                 149              1   \n",
      "2                 30              129                 129              1   \n",
      "3                 30              149                 149              1   \n",
      "4                 30              149                 149              1   \n",
      "\n",
      "   transaction_date  membership_expire_date  is_cancel  \n",
      "0          20150930                20151101          0  \n",
      "1          20150930                20151031          0  \n",
      "2          20150930                20160427          0  \n",
      "3          20150930                20151128          0  \n",
      "4          20150930                20151121          0  \n"
     ]
    }
   ],
   "source": [
    "print(transactions.head())"
   ]
  },
  {
   "cell_type": "markdown",
   "metadata": {},
   "source": [
    "# Loading and getting information about Members dataset"
   ]
  },
  {
   "cell_type": "code",
   "execution_count": 3,
   "metadata": {},
   "outputs": [
    {
     "name": "stdout",
     "output_type": "stream",
     "text": [
      "<class 'pandas.core.frame.DataFrame'>\n",
      "RangeIndex: 6769473 entries, 0 to 6769472\n",
      "Data columns (total 6 columns):\n",
      "msno                      object\n",
      "city                      int64\n",
      "bd                        int64\n",
      "gender                    object\n",
      "registered_via            int64\n",
      "registration_init_time    int64\n",
      "dtypes: int64(4), object(2)\n",
      "memory usage: 309.9+ MB\n",
      "None\n"
     ]
    }
   ],
   "source": [
    "members = pd.read_csv(r\"C:\\Users\\sucha\\Downloads\\members_v3.csv\")\n",
    "print(members.info())\n"
   ]
  },
  {
   "cell_type": "code",
   "execution_count": 8,
   "metadata": {},
   "outputs": [
    {
     "data": {
      "text/plain": [
       "msno                            0\n",
       "city                            0\n",
       "bd                              0\n",
       "gender                    4429505\n",
       "registered_via                  0\n",
       "registration_init_time          0\n",
       "dtype: int64"
      ]
     },
     "execution_count": 8,
     "metadata": {},
     "output_type": "execute_result"
    }
   ],
   "source": [
    "# Checking for Null values\n",
    "members.isnull().sum()"
   ]
  },
  {
   "cell_type": "code",
   "execution_count": 5,
   "metadata": {},
   "outputs": [
    {
     "name": "stdout",
     "output_type": "stream",
     "text": [
      "                                            msno  city  bd  gender  \\\n",
      "0   Rb9UwLQTrxzBVwCB6+bCcSQWZ9JiNLC9dXtM1oEsZA8=     1   0     NaN   \n",
      "1   +tJonkh+O1CA796Fm5X60UMOtB6POHAwPjbTRVl/EuU=     1   0     NaN   \n",
      "2   cV358ssn7a0f7jZOwGNWS07wCKVqxyiImJUX6xcIwKw=     1   0     NaN   \n",
      "3   9bzDeJP6sQodK73K5CBlJ6fgIQzPeLnRl0p5B77XP+g=     1   0     NaN   \n",
      "4   WFLY3s7z4EZsieHCt63XrsdtfTEmJ+2PnnKLH5GY4Tk=     6  32  female   \n",
      "5   yLkV2gbZ4GLFwqTOXLVHz0VGrMYcgBGgKZ3kj9RiYu8=     4  30    male   \n",
      "6   jNCGK78YkTyId3H3wFavcBLDmz7pfqlvCfUKf4G1Lw4=     1   0     NaN   \n",
      "7   WH5Jq4mgtfUFXh2yz+HrcTXKS4Oess4k4W3qKolAeb0=     5  34    male   \n",
      "8   tKmbR4X5VXjHmxERrckawEMZ4znVy1lAQIR1vV5rdNk=     5  19    male   \n",
      "9   I0yFvqMoNkM8ZNHb617e1RBzIS/YRKemHO7Wj13EtA0=    13  63    male   \n",
      "10  OoDwiKZM+ZGr9P3fRivavgOtglTEaNfWJO4KaJcTTts=     1   0     NaN   \n",
      "11  dCvvBHlaOAqgkAcv36IZ9twaCyH0Z9om0wEiKn13B3o=    22  18    male   \n",
      "12  6bra2AiVV8SGlm7R6mp97Ot5jU9FBH2/8JaRk0iaKco=     4  34  female   \n",
      "13  4De1jAxNRABoyRBDZ82U0yEmzYkqeOugRGVNIf92Xb8=     4  28  female   \n",
      "14  iOzdu4IHbJxhB5CPpiQsZcGdptCm7OLwWm1Ci6oHLSE=    12  29  female   \n",
      "15  hZia/3iyvtThD1kv6ozRjRj8T0CAz0+zUFxs3e27wo8=     1   0     NaN   \n",
      "16  QlDflP89J5KChheo2sbtH++SSDY/hUDj54gkgdfE76U=     1   0     NaN   \n",
      "17  fOpj0ApSXk1NVODvC5db5Tvm/1G6exXxgTiCwTqvQn0=    13  31  female   \n",
      "18  GsPgdrXoV6688/0RFAwjKxQUpBB28JxK/Nx45kEpH60=     1   0     NaN   \n",
      "19  QHHKGOY5yLrGdR8WYb0JtdJTP36Ii1QP3QTXxjEpGLk=     5  19  female   \n",
      "20  SpiCVwYrNY2XIpPpZkHHq4LDTfYyPNxBx7e+klc19H4=    15  22  female   \n",
      "21  +N2Na8js4BYLhkDXYD94o/5Tn5j1yi9u/+6F8an1MUs=     4  23    male   \n",
      "22  F6F2FJSHqQ/TLf7fQHJe1nbonEZmrCHtzG87U8VD9rE=    11  22  female   \n",
      "23  FotY8kXSC6tIyCuVn0NoaXjo0Hd854wuoNMWuwHaLIA=     5  29    male   \n",
      "24  glvtik6LgKzz/VHI8f7dAAHW4iqU8azER8mEsImDe78=     9  21    male   \n",
      "25  x+j0IrKnXLIqZawwAtwldq2by7TLMKyohbtSeT5gtDg=     9  22    male   \n",
      "26  7XXoaLnR+58yBjV/dtpvsvnkbadWYxO3+KkLgaaJ0VM=     5  28    male   \n",
      "27  GqYHRxlZChiZvB1uzR410wcQzuxqZNZci4AzOTzkAao=     5  27    male   \n",
      "28  vqz848bjeylg9nGoax8X4qQX2IX8qPwEq+4vbOpgy4c=    13  47  female   \n",
      "29  ZXtW2HuuVK4aPiO10RhBWT1PmLV+bKqnFlT5bL6YhoQ=     4   0     NaN   \n",
      "30  qRUnTIEIOU70qVRjrqV9kmp8NmiKcuWKuHcvbV5Hgvs=     5  34    male   \n",
      "31  Z6WIOK9vXy+e2XDBiioNAxuZ0ScXSU/Ebq4tUwqVSrE=    22  38  female   \n",
      "32  BvmcS7e/M1+dAXapzH/ze8LxbdY+FV/v82vUvp3smOc=    14  30    male   \n",
      "33  BVbyThi0+EcLz1vM5oK+oDubZDQ4P6OAQqV5kDub3+A=     4  31    male   \n",
      "34  ATvHpah6ryn3yubmGZIxakYDFXa40ZBvouideMm+3EI=     5  36  female   \n",
      "35  PytoSP34NteOlJ1jUZWLfzUCZuVxJgBlZ4hC/ggEhss=     1   0    male   \n",
      "36  HLthcFr7gfJaH3BWCe3Y8Rzkn35g6MrjQ0JVPPwqrOc=     6  26  female   \n",
      "37  den0Kb2s4BV47zV+tSC1u0W07M7BOMq+fnrGj+9ax0I=    14  26  female   \n",
      "38  i4kmzPli+nl4XagzznO+oCcPeXfjcLSKIn8xE9oGU5E=     4  58    male   \n",
      "39  XmV2kHCnqnQf4oTJ4LCS7F02cpxnzqGIDDRGHe4dw8c=    22  31  female   \n",
      "40  kCe9c7EAz6+ILhukNbyQ7QnATImCBAM5EClCYln1t+Y=     4  43  female   \n",
      "41  i3rM6cvgxhpWoRUyWpPHMYNmAGvyt6V+kiTL6KAkrLk=     5  36    male   \n",
      "42  Xu8NWVApL13fqXD8N1vGafCLxVSw/FSOgUaJo5EdehM=    13   0     NaN   \n",
      "43  mcultqpt4jx8RZyTffrPLdVz5EHp/1StLyzAaJz7wI4=     4  33  female   \n",
      "44  Mbo6fZW12wtpuWILrNSiZszTc71Xj/kZ749chrXArAQ=    13   0     NaN   \n",
      "45  RA5kFIcw5aItrnKLvNc3GNcU+tWYlCPXzI1UpT16oFk=     1   0     NaN   \n",
      "46  hYG4uW0hGiNIPblEpvkBWJdQ05Y3X1lINdYBqK5jBc8=    11  19    male   \n",
      "47  75A0yqLXt/ZZ+DY30gjRr/mJG8rDOexVswfVw1dVbt0=    15  21    male   \n",
      "48  wrX9H4DCVEdjzgUerZQLmOqdETgcO4gwb5SYdWUrEqo=    15  31  female   \n",
      "49  0oNjf4wD4O2p3Epo2cNmHzkyRpe1kqnjTEE4SIUtlUY=     4  28    male   \n",
      "\n",
      "    registered_via  registration_init_time  \n",
      "0               11                20110911  \n",
      "1                7                20110914  \n",
      "2               11                20110915  \n",
      "3               11                20110915  \n",
      "4                9                20110915  \n",
      "5                9                20110916  \n",
      "6                7                20110916  \n",
      "7                9                20110916  \n",
      "8                9                20110917  \n",
      "9                9                20110918  \n",
      "10               7                20110918  \n",
      "11               9                20110919  \n",
      "12               9                20110919  \n",
      "13               9                20110920  \n",
      "14               9                20110922  \n",
      "15               9                20110922  \n",
      "16               9                20110922  \n",
      "17               7                20110923  \n",
      "18               7                20110924  \n",
      "19               9                20110925  \n",
      "20               9                20110925  \n",
      "21               9                20110925  \n",
      "22               9                20110925  \n",
      "23               9                20110926  \n",
      "24               9                20110926  \n",
      "25               9                20110926  \n",
      "26               7                20110927  \n",
      "27               9                20110927  \n",
      "28               7                20110928  \n",
      "29               9                20110928  \n",
      "30               9                20110928  \n",
      "31               9                20110929  \n",
      "32               9                20110930  \n",
      "33               9                20111001  \n",
      "34               9                20111001  \n",
      "35               7                20111002  \n",
      "36               9                20111004  \n",
      "37               9                20111005  \n",
      "38               9                20111006  \n",
      "39               9                20111006  \n",
      "40               9                20111006  \n",
      "41               9                20111008  \n",
      "42               7                20111008  \n",
      "43               9                20111008  \n",
      "44               9                20111008  \n",
      "45               9                20111009  \n",
      "46               9                20111009  \n",
      "47               9                20111010  \n",
      "48               9                20111010  \n",
      "49               9                20111012  \n"
     ]
    }
   ],
   "source": [
    "print(members.head(50))"
   ]
  },
  {
   "cell_type": "markdown",
   "metadata": {},
   "source": [
    "# Merging transactions table with train dataset "
   ]
  },
  {
   "cell_type": "code",
   "execution_count": 9,
   "metadata": {},
   "outputs": [
    {
     "name": "stdout",
     "output_type": "stream",
     "text": [
      "                                           msno  is_churn  payment_method_id  \\\n",
      "0  waLDQMmcOu2jLDaV1ddDkgCrB/jl6sD66Xzs0Vqax1Y=         1                 38   \n",
      "1  waLDQMmcOu2jLDaV1ddDkgCrB/jl6sD66Xzs0Vqax1Y=         1                 38   \n",
      "2  QA7uiXy8vIbUSPOkCf9RwQ3FsT8jVq2OxDr8zqa7bRQ=         1                 39   \n",
      "3  QA7uiXy8vIbUSPOkCf9RwQ3FsT8jVq2OxDr8zqa7bRQ=         1                 39   \n",
      "4  QA7uiXy8vIbUSPOkCf9RwQ3FsT8jVq2OxDr8zqa7bRQ=         1                 39   \n",
      "\n",
      "   payment_plan_days  plan_list_price  actual_amount_paid  is_auto_renew  \\\n",
      "0                  7                0                   0              0   \n",
      "1                 30              149                 149              0   \n",
      "2                 30              149                 149              1   \n",
      "3                 30              149                 149              1   \n",
      "4                 30              149                 149              1   \n",
      "\n",
      "   transaction_date  membership_expire_date  is_cancel  \n",
      "0          20161031                20161107          0  \n",
      "1          20170107                20170206          0  \n",
      "2          20161031                20161221          0  \n",
      "3          20160715                20160821          0  \n",
      "4          20160831                20161021          0  \n"
     ]
    }
   ],
   "source": [
    "data1 = pd.merge(train,transactions, on=\"msno\", how = 'left')\n",
    "print(data1.head())"
   ]
  },
  {
   "cell_type": "code",
   "execution_count": null,
   "metadata": {},
   "outputs": [],
   "source": []
  },
  {
   "cell_type": "code",
   "execution_count": 10,
   "metadata": {},
   "outputs": [
    {
     "name": "stdout",
     "output_type": "stream",
     "text": [
      "<class 'pandas.core.frame.DataFrame'>\n",
      "Int64Index: 15883148 entries, 0 to 15883147\n",
      "Data columns (total 10 columns):\n",
      "msno                      object\n",
      "is_churn                  int64\n",
      "payment_method_id         int64\n",
      "payment_plan_days         int64\n",
      "plan_list_price           int64\n",
      "actual_amount_paid        int64\n",
      "is_auto_renew             int64\n",
      "transaction_date          int64\n",
      "membership_expire_date    int64\n",
      "is_cancel                 int64\n",
      "dtypes: int64(9), object(1)\n",
      "memory usage: 1.3+ GB\n",
      "None\n"
     ]
    }
   ],
   "source": [
    "print(data1.info())"
   ]
  },
  {
   "cell_type": "markdown",
   "metadata": {},
   "source": [
    "# Merging new created data with Members dataset \n",
    "#### To get all the data in one single table."
   ]
  },
  {
   "cell_type": "code",
   "execution_count": 11,
   "metadata": {},
   "outputs": [
    {
     "name": "stdout",
     "output_type": "stream",
     "text": [
      "                                           msno  is_churn  payment_method_id  \\\n",
      "0  waLDQMmcOu2jLDaV1ddDkgCrB/jl6sD66Xzs0Vqax1Y=         1                 38   \n",
      "1  waLDQMmcOu2jLDaV1ddDkgCrB/jl6sD66Xzs0Vqax1Y=         1                 38   \n",
      "2  QA7uiXy8vIbUSPOkCf9RwQ3FsT8jVq2OxDr8zqa7bRQ=         1                 39   \n",
      "3  QA7uiXy8vIbUSPOkCf9RwQ3FsT8jVq2OxDr8zqa7bRQ=         1                 39   \n",
      "4  QA7uiXy8vIbUSPOkCf9RwQ3FsT8jVq2OxDr8zqa7bRQ=         1                 39   \n",
      "\n",
      "   payment_plan_days  plan_list_price  actual_amount_paid  is_auto_renew  \\\n",
      "0                  7                0                   0              0   \n",
      "1                 30              149                 149              0   \n",
      "2                 30              149                 149              1   \n",
      "3                 30              149                 149              1   \n",
      "4                 30              149                 149              1   \n",
      "\n",
      "   transaction_date  membership_expire_date  is_cancel  city    bd  gender  \\\n",
      "0          20161031                20161107          0  18.0  36.0  female   \n",
      "1          20170107                20170206          0  18.0  36.0  female   \n",
      "2          20161031                20161221          0  10.0  38.0    male   \n",
      "3          20160715                20160821          0  10.0  38.0    male   \n",
      "4          20160831                20161021          0  10.0  38.0    male   \n",
      "\n",
      "   registered_via  registration_init_time  \n",
      "0             9.0              20050406.0  \n",
      "1             9.0              20050406.0  \n",
      "2             9.0              20050407.0  \n",
      "3             9.0              20050407.0  \n",
      "4             9.0              20050407.0  \n"
     ]
    }
   ],
   "source": [
    "data = pd.merge(data1,members, on=\"msno\", how = 'left')\n",
    "print(data.head())"
   ]
  },
  {
   "cell_type": "code",
   "execution_count": 12,
   "metadata": {},
   "outputs": [
    {
     "name": "stdout",
     "output_type": "stream",
     "text": [
      "<class 'pandas.core.frame.DataFrame'>\n",
      "Int64Index: 15883148 entries, 0 to 15883147\n",
      "Data columns (total 15 columns):\n",
      "msno                      object\n",
      "is_churn                  int64\n",
      "payment_method_id         int64\n",
      "payment_plan_days         int64\n",
      "plan_list_price           int64\n",
      "actual_amount_paid        int64\n",
      "is_auto_renew             int64\n",
      "transaction_date          int64\n",
      "membership_expire_date    int64\n",
      "is_cancel                 int64\n",
      "city                      float64\n",
      "bd                        float64\n",
      "gender                    object\n",
      "registered_via            float64\n",
      "registration_init_time    float64\n",
      "dtypes: float64(4), int64(9), object(2)\n",
      "memory usage: 1.9+ GB\n",
      "None\n"
     ]
    },
    {
     "data": {
      "text/plain": [
       "msno                            0\n",
       "is_churn                        0\n",
       "payment_method_id               0\n",
       "payment_plan_days               0\n",
       "plan_list_price                 0\n",
       "actual_amount_paid              0\n",
       "is_auto_renew                   0\n",
       "transaction_date                0\n",
       "membership_expire_date          0\n",
       "is_cancel                       0\n",
       "city                      1600752\n",
       "bd                        1600752\n",
       "gender                    9040299\n",
       "registered_via            1600752\n",
       "registration_init_time    1600752\n",
       "dtype: int64"
      ]
     },
     "execution_count": 12,
     "metadata": {},
     "output_type": "execute_result"
    }
   ],
   "source": [
    "print(data.info())\n",
    "data.isnull().sum()"
   ]
  },
  {
   "cell_type": "markdown",
   "metadata": {},
   "source": [
    "#### Feature City's missing values filled with forward fill method"
   ]
  },
  {
   "cell_type": "code",
   "execution_count": 13,
   "metadata": {},
   "outputs": [
    {
     "name": "stdout",
     "output_type": "stream",
     "text": [
      "[18. 10. 11. 13.  3.  6.  4. 14. 22. 17.  5.  9.  1. 15. 12.  8.  7. 21.\n",
      " 20. 16. 19.]\n"
     ]
    }
   ],
   "source": [
    "data['city'] = data['city'].fillna(method='ffill')\n",
    "data['city'].isnull().any()\n",
    "print(data['city'].unique())"
   ]
  },
  {
   "cell_type": "markdown",
   "metadata": {},
   "source": [
    "#### Feature registered_via's missing values filled with forward fill method"
   ]
  },
  {
   "cell_type": "code",
   "execution_count": 14,
   "metadata": {},
   "outputs": [
    {
     "name": "stdout",
     "output_type": "stream",
     "text": [
      "[ 9.  7.  3.  4. 13.]\n"
     ]
    }
   ],
   "source": [
    "data['registered_via'] = data['registered_via'].fillna(method='ffill')\n",
    "data['registered_via'].isnull().any()\n",
    "print(data['registered_via'].unique())"
   ]
  },
  {
   "cell_type": "markdown",
   "metadata": {},
   "source": [
    "#### Filling up the missing values with new category 'missing' for Gender variable."
   ]
  },
  {
   "cell_type": "code",
   "execution_count": 15,
   "metadata": {},
   "outputs": [
    {
     "data": {
      "text/plain": [
       "[female, male, missing]\n",
       "Categories (3, object): [female, male, missing]"
      ]
     },
     "execution_count": 15,
     "metadata": {},
     "output_type": "execute_result"
    }
   ],
   "source": [
    "data['gender']= data['gender'].astype('category')\n",
    "data['gender'] = data['gender'].cat.add_categories([\"missing\"])\n",
    "data['gender'].fillna(\"missing\", inplace=True)\n",
    "data['gender'].unique()"
   ]
  },
  {
   "cell_type": "markdown",
   "metadata": {},
   "source": [
    "#### Feature registration_init_time's missing values filled with forward fill method"
   ]
  },
  {
   "cell_type": "code",
   "execution_count": 16,
   "metadata": {},
   "outputs": [
    {
     "name": "stdout",
     "output_type": "stream",
     "text": [
      "[20050406. 20050407. 20051016. ... 20170312. 20170301. 20040616.]\n"
     ]
    },
    {
     "data": {
      "text/plain": [
       "0    20050406.0\n",
       "1    20050406.0\n",
       "2    20050407.0\n",
       "3    20050407.0\n",
       "4    20050407.0\n",
       "Name: registration_init_time, dtype: float64"
      ]
     },
     "execution_count": 16,
     "metadata": {},
     "output_type": "execute_result"
    }
   ],
   "source": [
    "print(data['registration_init_time'].unique())\n",
    "data['registration_init_time'] = data['registration_init_time'].fillna(method='ffill')\n",
    "data['registration_init_time'].isnull().any()\n",
    "data['registration_init_time'].head()"
   ]
  },
  {
   "cell_type": "markdown",
   "metadata": {},
   "source": [
    "Need to remove '.0' from below columns by using strip function"
   ]
  },
  {
   "cell_type": "markdown",
   "metadata": {},
   "source": [
    "#### Removing .0 from city and registered_via features"
   ]
  },
  {
   "cell_type": "code",
   "execution_count": 17,
   "metadata": {},
   "outputs": [],
   "source": [
    "data['city'] = data['city'].apply(lambda x: str(x).strip('.0'))\n",
    "data['registered_via'] = data['registered_via'].apply(lambda x:str(x).strip('.0'))"
   ]
  },
  {
   "cell_type": "markdown",
   "metadata": {},
   "source": [
    "#### Features registration_init_time, membership_expire_date, transaction_date are converted In Date Format"
   ]
  },
  {
   "cell_type": "code",
   "execution_count": 18,
   "metadata": {},
   "outputs": [
    {
     "data": {
      "text/html": [
       "<div>\n",
       "<style scoped>\n",
       "    .dataframe tbody tr th:only-of-type {\n",
       "        vertical-align: middle;\n",
       "    }\n",
       "\n",
       "    .dataframe tbody tr th {\n",
       "        vertical-align: top;\n",
       "    }\n",
       "\n",
       "    .dataframe thead th {\n",
       "        text-align: right;\n",
       "    }\n",
       "</style>\n",
       "<table border=\"1\" class=\"dataframe\">\n",
       "  <thead>\n",
       "    <tr style=\"text-align: right;\">\n",
       "      <th></th>\n",
       "      <th>msno</th>\n",
       "      <th>is_churn</th>\n",
       "      <th>payment_method_id</th>\n",
       "      <th>payment_plan_days</th>\n",
       "      <th>plan_list_price</th>\n",
       "      <th>actual_amount_paid</th>\n",
       "      <th>is_auto_renew</th>\n",
       "      <th>transaction_date</th>\n",
       "      <th>membership_expire_date</th>\n",
       "      <th>is_cancel</th>\n",
       "      <th>city</th>\n",
       "      <th>bd</th>\n",
       "      <th>gender</th>\n",
       "      <th>registered_via</th>\n",
       "      <th>registration_init_time</th>\n",
       "    </tr>\n",
       "  </thead>\n",
       "  <tbody>\n",
       "    <tr>\n",
       "      <th>0</th>\n",
       "      <td>waLDQMmcOu2jLDaV1ddDkgCrB/jl6sD66Xzs0Vqax1Y=</td>\n",
       "      <td>1</td>\n",
       "      <td>38</td>\n",
       "      <td>7</td>\n",
       "      <td>0</td>\n",
       "      <td>0</td>\n",
       "      <td>0</td>\n",
       "      <td>2016-10-31</td>\n",
       "      <td>2016-11-07</td>\n",
       "      <td>0</td>\n",
       "      <td>18</td>\n",
       "      <td>36.0</td>\n",
       "      <td>female</td>\n",
       "      <td>9</td>\n",
       "      <td>2005-04-06</td>\n",
       "    </tr>\n",
       "    <tr>\n",
       "      <th>1</th>\n",
       "      <td>waLDQMmcOu2jLDaV1ddDkgCrB/jl6sD66Xzs0Vqax1Y=</td>\n",
       "      <td>1</td>\n",
       "      <td>38</td>\n",
       "      <td>30</td>\n",
       "      <td>149</td>\n",
       "      <td>149</td>\n",
       "      <td>0</td>\n",
       "      <td>2017-01-07</td>\n",
       "      <td>2017-02-06</td>\n",
       "      <td>0</td>\n",
       "      <td>18</td>\n",
       "      <td>36.0</td>\n",
       "      <td>female</td>\n",
       "      <td>9</td>\n",
       "      <td>2005-04-06</td>\n",
       "    </tr>\n",
       "    <tr>\n",
       "      <th>2</th>\n",
       "      <td>QA7uiXy8vIbUSPOkCf9RwQ3FsT8jVq2OxDr8zqa7bRQ=</td>\n",
       "      <td>1</td>\n",
       "      <td>39</td>\n",
       "      <td>30</td>\n",
       "      <td>149</td>\n",
       "      <td>149</td>\n",
       "      <td>1</td>\n",
       "      <td>2016-10-31</td>\n",
       "      <td>2016-12-21</td>\n",
       "      <td>0</td>\n",
       "      <td>1</td>\n",
       "      <td>38.0</td>\n",
       "      <td>male</td>\n",
       "      <td>9</td>\n",
       "      <td>2005-04-07</td>\n",
       "    </tr>\n",
       "    <tr>\n",
       "      <th>3</th>\n",
       "      <td>QA7uiXy8vIbUSPOkCf9RwQ3FsT8jVq2OxDr8zqa7bRQ=</td>\n",
       "      <td>1</td>\n",
       "      <td>39</td>\n",
       "      <td>30</td>\n",
       "      <td>149</td>\n",
       "      <td>149</td>\n",
       "      <td>1</td>\n",
       "      <td>2016-07-15</td>\n",
       "      <td>2016-08-21</td>\n",
       "      <td>0</td>\n",
       "      <td>1</td>\n",
       "      <td>38.0</td>\n",
       "      <td>male</td>\n",
       "      <td>9</td>\n",
       "      <td>2005-04-07</td>\n",
       "    </tr>\n",
       "    <tr>\n",
       "      <th>4</th>\n",
       "      <td>QA7uiXy8vIbUSPOkCf9RwQ3FsT8jVq2OxDr8zqa7bRQ=</td>\n",
       "      <td>1</td>\n",
       "      <td>39</td>\n",
       "      <td>30</td>\n",
       "      <td>149</td>\n",
       "      <td>149</td>\n",
       "      <td>1</td>\n",
       "      <td>2016-08-31</td>\n",
       "      <td>2016-10-21</td>\n",
       "      <td>0</td>\n",
       "      <td>1</td>\n",
       "      <td>38.0</td>\n",
       "      <td>male</td>\n",
       "      <td>9</td>\n",
       "      <td>2005-04-07</td>\n",
       "    </tr>\n",
       "  </tbody>\n",
       "</table>\n",
       "</div>"
      ],
      "text/plain": [
       "                                           msno  is_churn  payment_method_id  \\\n",
       "0  waLDQMmcOu2jLDaV1ddDkgCrB/jl6sD66Xzs0Vqax1Y=         1                 38   \n",
       "1  waLDQMmcOu2jLDaV1ddDkgCrB/jl6sD66Xzs0Vqax1Y=         1                 38   \n",
       "2  QA7uiXy8vIbUSPOkCf9RwQ3FsT8jVq2OxDr8zqa7bRQ=         1                 39   \n",
       "3  QA7uiXy8vIbUSPOkCf9RwQ3FsT8jVq2OxDr8zqa7bRQ=         1                 39   \n",
       "4  QA7uiXy8vIbUSPOkCf9RwQ3FsT8jVq2OxDr8zqa7bRQ=         1                 39   \n",
       "\n",
       "   payment_plan_days  plan_list_price  actual_amount_paid  is_auto_renew  \\\n",
       "0                  7                0                   0              0   \n",
       "1                 30              149                 149              0   \n",
       "2                 30              149                 149              1   \n",
       "3                 30              149                 149              1   \n",
       "4                 30              149                 149              1   \n",
       "\n",
       "  transaction_date membership_expire_date  is_cancel city    bd  gender  \\\n",
       "0       2016-10-31             2016-11-07          0   18  36.0  female   \n",
       "1       2017-01-07             2017-02-06          0   18  36.0  female   \n",
       "2       2016-10-31             2016-12-21          0    1  38.0    male   \n",
       "3       2016-07-15             2016-08-21          0    1  38.0    male   \n",
       "4       2016-08-31             2016-10-21          0    1  38.0    male   \n",
       "\n",
       "  registered_via registration_init_time  \n",
       "0              9             2005-04-06  \n",
       "1              9             2005-04-06  \n",
       "2              9             2005-04-07  \n",
       "3              9             2005-04-07  \n",
       "4              9             2005-04-07  "
      ]
     },
     "execution_count": 18,
     "metadata": {},
     "output_type": "execute_result"
    }
   ],
   "source": [
    "data['registration_init_time'] = data['registration_init_time'].astype(str)\n",
    "data['registration_init_time'] = data['registration_init_time'].apply(lambda x: x.strip('.0'))\n",
    "data['registration_init_time'] =data['registration_init_time'].apply(lambda x: datetime.strptime(str(x), \"%Y%m%d\").date())\n",
    "data['membership_expire_date'] = data['membership_expire_date'].apply(lambda x: datetime.strptime(str(x), \"%Y%m%d\").date())\n",
    "data['transaction_date'] = data['transaction_date'].apply(lambda x: datetime.strptime(str(x), \"%Y%m%d\").date())\n",
    "data.head()"
   ]
  },
  {
   "cell_type": "markdown",
   "metadata": {},
   "source": [
    "#### Analysis of Age i.e [bd] variable is here:- \n",
    "#### Here we are converting extreme value to one single extreme value(-6000)  to consider them as outlier values"
   ]
  },
  {
   "cell_type": "code",
   "execution_count": 19,
   "metadata": {},
   "outputs": [],
   "source": [
    "data['bd'] = data['bd'].astype(float)\n",
    "data['bd'] = data.bd.apply(lambda x: -6000 if float(x)<=1 else x )  ## VAlues <1 are converted to -6000 value\n",
    "data['bd'] = data.bd.apply(lambda x: -6000 if float(x)>=100 else x ) ## VAlues >100 are converted to -6000 value"
   ]
  },
  {
   "cell_type": "code",
   "execution_count": 20,
   "metadata": {},
   "outputs": [
    {
     "data": {
      "image/png": "[encoded data removed]",
      "text/plain": [
       "<Figure size 1152x432 with 1 Axes>"
      ]
     },
     "metadata": {
      "needs_background": "light"
     },
     "output_type": "display_data"
    }
   ],
   "source": [
    "#Birth Date count in training Data Set\n",
    "plt.figure(figsize=(16,6))\n",
    "bd_order = data['bd'].unique()\n",
    "bd_order = sorted(bd_order, key=lambda x: str(x))\n",
    "bd_order = sorted(bd_order, key=lambda x: float(x))\n",
    "#This is the only way I was able to diplay what I wanted\n",
    "sns.countplot(x=\"bd\", data=data , order = bd_order)\n",
    "plt.ylabel('Count', fontsize=12)\n",
    "plt.xlabel('BD', fontsize=12)\n",
    "plt.xticks(rotation='vertical')\n",
    "plt.title(\"Frequency of BD Count\", fontsize=12)\n",
    "plt.show()"
   ]
  },
  {
   "cell_type": "code",
   "execution_count": 21,
   "metadata": {},
   "outputs": [
    {
     "name": "stdout",
     "output_type": "stream",
     "text": [
      "Mean of Birth Date = 30.754212014168598\n",
      "Median of Birth Date = 29.0\n"
     ]
    },
    {
     "data": {
      "image/png": "[encoded data removed]",
      "text/plain": [
       "<Figure size 1008x432 with 1 Axes>"
      ]
     },
     "metadata": {
      "needs_background": "light"
     },
     "output_type": "display_data"
    }
   ],
   "source": [
    "## Here is the frequency graph without outliers and nan values.\n",
    "tmp_bd = data.loc[(data.bd.notna()) & (data.bd != -6000.0)]\n",
    "print(\"Mean of Birth Date = \" +str(np.mean(tmp_bd['bd'])))\n",
    "print(\"Median of Birth Date = \" +str(np.median(tmp_bd['bd'])))\n",
    "plt.figure(figsize=(14,6))\n",
    "ax1 = plt.subplot(211)\n",
    "ax1.set_ylim( [0,500000] )\n",
    "bd_order_2 = tmp_bd['bd'].unique()\n",
    "bd_order_2 = sorted(bd_order_2, key=lambda x: float(x))\n",
    "sns.countplot(x=\"bd\", data=tmp_bd , order = bd_order_2)\n",
    "plt.ylabel('Count', fontsize=12)\n",
    "plt.xlabel('BD', fontsize=12)\n",
    "plt.xticks(rotation='vertical')\n",
    "plt.title(\"Frequency of BD Count without ouliers and NAN values\", fontsize=12)\n",
    "plt.show()\n"
   ]
  },
  {
   "cell_type": "markdown",
   "metadata": {},
   "source": [
    "Distribution of Age i.e bd variable after removing outliers is positively right skewed.  "
   ]
  },
  {
   "cell_type": "code",
   "execution_count": 22,
   "metadata": {},
   "outputs": [
    {
     "data": {
      "image/png": "[encoded data removed]",
      "text/plain": [
       "<Figure size 432x576 with 1 Axes>"
      ]
     },
     "metadata": {
      "needs_background": "light"
     },
     "output_type": "display_data"
    }
   ],
   "source": [
    "# Box plot to checkout the statistics of the Age variable\n",
    "plt.figure(figsize=(6,8))\n",
    "plt.subplot(212)\n",
    "data.bd  = data.bd.astype(np.float)\n",
    "sns.boxplot(y=tmp_bd[\"bd\"],data=tmp_bd)\n",
    "plt.xlabel('BD', fontsize=12)\n",
    "plt.title(\"Box Plot of Birth Date without ouliers and NAN values\", fontsize=12)\n",
    "plt.show()"
   ]
  },
  {
   "cell_type": "markdown",
   "metadata": {},
   "source": [
    "#### Checking the missing values in whole dataset\n",
    "- Only bd i.e Age variable has missing data"
   ]
  },
  {
   "cell_type": "code",
   "execution_count": 23,
   "metadata": {},
   "outputs": [
    {
     "data": {
      "text/plain": [
       "msno                            0\n",
       "is_churn                        0\n",
       "payment_method_id               0\n",
       "payment_plan_days               0\n",
       "plan_list_price                 0\n",
       "actual_amount_paid              0\n",
       "is_auto_renew                   0\n",
       "transaction_date                0\n",
       "membership_expire_date          0\n",
       "is_cancel                       0\n",
       "city                            0\n",
       "bd                        1600752\n",
       "gender                          0\n",
       "registered_via                  0\n",
       "registration_init_time          0\n",
       "dtype: int64"
      ]
     },
     "execution_count": 23,
     "metadata": {},
     "output_type": "execute_result"
    }
   ],
   "source": [
    "data.isnull().sum()"
   ]
  },
  {
   "cell_type": "markdown",
   "metadata": {},
   "source": [
    "#### Bar plot of \"is_churn\" and \"is_auto_renew\" variables"
   ]
  },
  {
   "cell_type": "code",
   "execution_count": 24,
   "metadata": {},
   "outputs": [
    {
     "data": {
      "text/html": [
       "<div>\n",
       "<style scoped>\n",
       "    .dataframe tbody tr th:only-of-type {\n",
       "        vertical-align: middle;\n",
       "    }\n",
       "\n",
       "    .dataframe tbody tr th {\n",
       "        vertical-align: top;\n",
       "    }\n",
       "\n",
       "    .dataframe thead th {\n",
       "        text-align: right;\n",
       "    }\n",
       "</style>\n",
       "<table border=\"1\" class=\"dataframe\">\n",
       "  <thead>\n",
       "    <tr style=\"text-align: right;\">\n",
       "      <th>is_churn</th>\n",
       "      <th>0</th>\n",
       "      <th>1</th>\n",
       "      <th>Ratio</th>\n",
       "    </tr>\n",
       "    <tr>\n",
       "      <th>is_auto_renew</th>\n",
       "      <th></th>\n",
       "      <th></th>\n",
       "      <th></th>\n",
       "    </tr>\n",
       "  </thead>\n",
       "  <tbody>\n",
       "    <tr>\n",
       "      <th>0</th>\n",
       "      <td>969187</td>\n",
       "      <td>220929</td>\n",
       "      <td>0.227953</td>\n",
       "    </tr>\n",
       "    <tr>\n",
       "      <th>1</th>\n",
       "      <td>14228390</td>\n",
       "      <td>464642</td>\n",
       "      <td>0.032656</td>\n",
       "    </tr>\n",
       "  </tbody>\n",
       "</table>\n",
       "</div>"
      ],
      "text/plain": [
       "is_churn              0       1     Ratio\n",
       "is_auto_renew                            \n",
       "0                969187  220929  0.227953\n",
       "1              14228390  464642  0.032656"
      ]
     },
     "execution_count": 24,
     "metadata": {},
     "output_type": "execute_result"
    },
    {
     "data": {
      "image/png": "[encoded data removed]",
      "text/plain": [
       "<Figure size 432x288 with 1 Axes>"
      ]
     },
     "metadata": {
      "needs_background": "light"
     },
     "output_type": "display_data"
    }
   ],
   "source": [
    "Auto_renew_crosstab=pd.crosstab(data['is_auto_renew'],data['is_churn'])\n",
    "Auto_renew_crosstab.plot(kind='bar', stacked=True, grid=False)\n",
    "Auto_renew_crosstab[\"Ratio\"] =  Auto_renew_crosstab[1] / Auto_renew_crosstab[0]\n",
    "Auto_renew_crosstab"
   ]
  },
  {
   "cell_type": "markdown",
   "metadata": {},
   "source": [
    "#### Bar plot of \"is_churn\" and \"is_cancel\" variables"
   ]
  },
  {
   "cell_type": "code",
   "execution_count": 25,
   "metadata": {},
   "outputs": [
    {
     "data": {
      "text/html": [
       "<div>\n",
       "<style scoped>\n",
       "    .dataframe tbody tr th:only-of-type {\n",
       "        vertical-align: middle;\n",
       "    }\n",
       "\n",
       "    .dataframe tbody tr th {\n",
       "        vertical-align: top;\n",
       "    }\n",
       "\n",
       "    .dataframe thead th {\n",
       "        text-align: right;\n",
       "    }\n",
       "</style>\n",
       "<table border=\"1\" class=\"dataframe\">\n",
       "  <thead>\n",
       "    <tr style=\"text-align: right;\">\n",
       "      <th>is_churn</th>\n",
       "      <th>0</th>\n",
       "      <th>1</th>\n",
       "      <th>Ratio</th>\n",
       "    </tr>\n",
       "    <tr>\n",
       "      <th>is_cancel</th>\n",
       "      <th></th>\n",
       "      <th></th>\n",
       "      <th></th>\n",
       "    </tr>\n",
       "  </thead>\n",
       "  <tbody>\n",
       "    <tr>\n",
       "      <th>0</th>\n",
       "      <td>14958679</td>\n",
       "      <td>648464</td>\n",
       "      <td>0.043350</td>\n",
       "    </tr>\n",
       "    <tr>\n",
       "      <th>1</th>\n",
       "      <td>238898</td>\n",
       "      <td>37107</td>\n",
       "      <td>0.155326</td>\n",
       "    </tr>\n",
       "  </tbody>\n",
       "</table>\n",
       "</div>"
      ],
      "text/plain": [
       "is_churn          0       1     Ratio\n",
       "is_cancel                            \n",
       "0          14958679  648464  0.043350\n",
       "1            238898   37107  0.155326"
      ]
     },
     "execution_count": 25,
     "metadata": {},
     "output_type": "execute_result"
    },
    {
     "data": {
      "image/png": "[encoded data removed]",
      "text/plain": [
       "<Figure size 432x288 with 1 Axes>"
      ]
     },
     "metadata": {
      "needs_background": "light"
     },
     "output_type": "display_data"
    }
   ],
   "source": [
    "is_cancel_crosstab=pd.crosstab(data['is_cancel'],data['is_churn'])\n",
    "is_cancel_crosstab.plot(kind='bar', stacked=True, grid=False)\n",
    "is_cancel_crosstab[\"Ratio\"] =  is_cancel_crosstab[1] / is_cancel_crosstab[0]\n",
    "is_cancel_crosstab"
   ]
  },
  {
   "cell_type": "markdown",
   "metadata": {},
   "source": [
    "#### Bar plot of \"is_cancel\" and \"is_auto_renew\" variables"
   ]
  },
  {
   "cell_type": "code",
   "execution_count": 26,
   "metadata": {},
   "outputs": [
    {
     "data": {
      "text/html": [
       "<div>\n",
       "<style scoped>\n",
       "    .dataframe tbody tr th:only-of-type {\n",
       "        vertical-align: middle;\n",
       "    }\n",
       "\n",
       "    .dataframe tbody tr th {\n",
       "        vertical-align: top;\n",
       "    }\n",
       "\n",
       "    .dataframe thead th {\n",
       "        text-align: right;\n",
       "    }\n",
       "</style>\n",
       "<table border=\"1\" class=\"dataframe\">\n",
       "  <thead>\n",
       "    <tr style=\"text-align: right;\">\n",
       "      <th>is_auto_renew</th>\n",
       "      <th>0</th>\n",
       "      <th>1</th>\n",
       "      <th>Ratio</th>\n",
       "    </tr>\n",
       "    <tr>\n",
       "      <th>is_cancel</th>\n",
       "      <th></th>\n",
       "      <th></th>\n",
       "      <th></th>\n",
       "    </tr>\n",
       "  </thead>\n",
       "  <tbody>\n",
       "    <tr>\n",
       "      <th>0</th>\n",
       "      <td>1190116</td>\n",
       "      <td>14417027</td>\n",
       "      <td>12.113968</td>\n",
       "    </tr>\n",
       "    <tr>\n",
       "      <th>1</th>\n",
       "      <td>0</td>\n",
       "      <td>276005</td>\n",
       "      <td>inf</td>\n",
       "    </tr>\n",
       "  </tbody>\n",
       "</table>\n",
       "</div>"
      ],
      "text/plain": [
       "is_auto_renew        0         1      Ratio\n",
       "is_cancel                                  \n",
       "0              1190116  14417027  12.113968\n",
       "1                    0    276005        inf"
      ]
     },
     "execution_count": 26,
     "metadata": {},
     "output_type": "execute_result"
    },
    {
     "data": {
      "image/png": "[encoded data removed]",
      "text/plain": [
       "<Figure size 432x288 with 1 Axes>"
      ]
     },
     "metadata": {
      "needs_background": "light"
     },
     "output_type": "display_data"
    }
   ],
   "source": [
    "is_cancel_crosstab=pd.crosstab(data['is_cancel'],data['is_auto_renew'])\n",
    "is_cancel_crosstab.plot(kind='bar', stacked=True, grid=False)\n",
    "is_cancel_crosstab[\"Ratio\"] =  is_cancel_crosstab[1] / is_cancel_crosstab[0]\n",
    "is_cancel_crosstab"
   ]
  },
  {
   "cell_type": "markdown",
   "metadata": {},
   "source": [
    "#### Bar plot of \"is_auto_renew\" variable"
   ]
  },
  {
   "cell_type": "code",
   "execution_count": 27,
   "metadata": {},
   "outputs": [
    {
     "name": "stdout",
     "output_type": "stream",
     "text": [
      "Auto_renew Count [(1, 14693032), (0, 1190116)]\n"
     ]
    },
    {
     "data": {
      "image/png": "[encoded data removed]",
      "text/plain": [
       "<Figure size 432x288 with 1 Axes>"
      ]
     },
     "metadata": {
      "needs_background": "light"
     },
     "output_type": "display_data"
    }
   ],
   "source": [
    "sns.countplot(x=\"is_auto_renew\", data=data)   ## Unbalanced class\n",
    "is_auto_renew_count = Counter(data['is_auto_renew']).most_common()\n",
    "print(\"Auto_renew Count \" +str(is_auto_renew_count))"
   ]
  },
  {
   "cell_type": "markdown",
   "metadata": {},
   "source": [
    "#### Bar plot of \"is_churn\" and \"gender\" variables"
   ]
  },
  {
   "cell_type": "code",
   "execution_count": 28,
   "metadata": {},
   "outputs": [
    {
     "data": {
      "text/html": [
       "<div>\n",
       "<style scoped>\n",
       "    .dataframe tbody tr th:only-of-type {\n",
       "        vertical-align: middle;\n",
       "    }\n",
       "\n",
       "    .dataframe tbody tr th {\n",
       "        vertical-align: top;\n",
       "    }\n",
       "\n",
       "    .dataframe thead th {\n",
       "        text-align: right;\n",
       "    }\n",
       "</style>\n",
       "<table border=\"1\" class=\"dataframe\">\n",
       "  <thead>\n",
       "    <tr style=\"text-align: right;\">\n",
       "      <th>is_churn</th>\n",
       "      <th>0</th>\n",
       "      <th>1</th>\n",
       "      <th>Ratio</th>\n",
       "    </tr>\n",
       "    <tr>\n",
       "      <th>gender</th>\n",
       "      <th></th>\n",
       "      <th></th>\n",
       "      <th></th>\n",
       "    </tr>\n",
       "  </thead>\n",
       "  <tbody>\n",
       "    <tr>\n",
       "      <th>female</th>\n",
       "      <td>3082389</td>\n",
       "      <td>165059</td>\n",
       "      <td>0.053549</td>\n",
       "    </tr>\n",
       "    <tr>\n",
       "      <th>male</th>\n",
       "      <td>3409449</td>\n",
       "      <td>185952</td>\n",
       "      <td>0.054540</td>\n",
       "    </tr>\n",
       "    <tr>\n",
       "      <th>missing</th>\n",
       "      <td>8705739</td>\n",
       "      <td>334560</td>\n",
       "      <td>0.038430</td>\n",
       "    </tr>\n",
       "  </tbody>\n",
       "</table>\n",
       "</div>"
      ],
      "text/plain": [
       "is_churn        0       1     Ratio\n",
       "gender                             \n",
       "female    3082389  165059  0.053549\n",
       "male      3409449  185952  0.054540\n",
       "missing   8705739  334560  0.038430"
      ]
     },
     "execution_count": 28,
     "metadata": {},
     "output_type": "execute_result"
    },
    {
     "data": {
      "image/png": "[encoded data removed]",
      "text/plain": [
       "<Figure size 432x288 with 1 Axes>"
      ]
     },
     "metadata": {
      "needs_background": "light"
     },
     "output_type": "display_data"
    }
   ],
   "source": [
    "gender_crosstab=pd.crosstab(data['gender'],data['is_churn'])\n",
    "gender_crosstab.plot(kind='bar', stacked=True, grid=False)\n",
    "gender_crosstab[\"Ratio\"] =  gender_crosstab[1] / gender_crosstab[0]\n",
    "gender_crosstab"
   ]
  },
  {
   "cell_type": "markdown",
   "metadata": {},
   "source": [
    "#### Bar plot of \"is_churn\" and \"registered_via\" variables"
   ]
  },
  {
   "cell_type": "code",
   "execution_count": 29,
   "metadata": {},
   "outputs": [
    {
     "data": {
      "text/html": [
       "<div>\n",
       "<style scoped>\n",
       "    .dataframe tbody tr th:only-of-type {\n",
       "        vertical-align: middle;\n",
       "    }\n",
       "\n",
       "    .dataframe tbody tr th {\n",
       "        vertical-align: top;\n",
       "    }\n",
       "\n",
       "    .dataframe thead th {\n",
       "        text-align: right;\n",
       "    }\n",
       "</style>\n",
       "<table border=\"1\" class=\"dataframe\">\n",
       "  <thead>\n",
       "    <tr style=\"text-align: right;\">\n",
       "      <th>is_churn</th>\n",
       "      <th>0</th>\n",
       "      <th>1</th>\n",
       "      <th>Ratio</th>\n",
       "    </tr>\n",
       "    <tr>\n",
       "      <th>registered_via</th>\n",
       "      <th></th>\n",
       "      <th></th>\n",
       "      <th></th>\n",
       "    </tr>\n",
       "  </thead>\n",
       "  <tbody>\n",
       "    <tr>\n",
       "      <th>13</th>\n",
       "      <td>13703</td>\n",
       "      <td>1100</td>\n",
       "      <td>0.080274</td>\n",
       "    </tr>\n",
       "    <tr>\n",
       "      <th>3</th>\n",
       "      <td>1596640</td>\n",
       "      <td>133351</td>\n",
       "      <td>0.083520</td>\n",
       "    </tr>\n",
       "    <tr>\n",
       "      <th>4</th>\n",
       "      <td>379654</td>\n",
       "      <td>51849</td>\n",
       "      <td>0.136569</td>\n",
       "    </tr>\n",
       "    <tr>\n",
       "      <th>7</th>\n",
       "      <td>8913491</td>\n",
       "      <td>277600</td>\n",
       "      <td>0.031144</td>\n",
       "    </tr>\n",
       "    <tr>\n",
       "      <th>9</th>\n",
       "      <td>4294089</td>\n",
       "      <td>221671</td>\n",
       "      <td>0.051622</td>\n",
       "    </tr>\n",
       "  </tbody>\n",
       "</table>\n",
       "</div>"
      ],
      "text/plain": [
       "is_churn              0       1     Ratio\n",
       "registered_via                           \n",
       "13                13703    1100  0.080274\n",
       "3               1596640  133351  0.083520\n",
       "4                379654   51849  0.136569\n",
       "7               8913491  277600  0.031144\n",
       "9               4294089  221671  0.051622"
      ]
     },
     "execution_count": 29,
     "metadata": {},
     "output_type": "execute_result"
    },
    {
     "data": {
      "image/png": "[encoded data removed]",
      "text/plain": [
       "<Figure size 432x288 with 1 Axes>"
      ]
     },
     "metadata": {
      "needs_background": "light"
     },
     "output_type": "display_data"
    }
   ],
   "source": [
    "registered_via_crosstab=pd.crosstab(data['registered_via'],data['is_churn'])\n",
    "registered_via_crosstab.plot(kind='bar', stacked=True, grid=False)\n",
    "registered_via_crosstab[\"Ratio\"] =  registered_via_crosstab[1] / registered_via_crosstab[0]\n",
    "registered_via_crosstab"
   ]
  },
  {
   "cell_type": "code",
   "execution_count": 30,
   "metadata": {},
   "outputs": [
    {
     "data": {
      "image/png": "[encoded data removed]",
      "text/plain": [
       "<Figure size 1152x576 with 1 Axes>"
      ]
     },
     "metadata": {
      "needs_background": "light"
     },
     "output_type": "display_data"
    },
    {
     "name": "stdout",
     "output_type": "stream",
     "text": [
      "payment_method_id Count [(41, 9360317), (40, 1602330), (39, 1126604), (37, 814179), (38, 728658), (34, 652267), (36, 583055), (33, 316393), (31, 224752), (30, 109598), (29, 74180), (27, 46433), (35, 37028), (23, 34009), (28, 30206), (32, 29651), (19, 28746), (21, 17771), (18, 13353), (14, 11974), (24, 9248), (16, 7666), (20, 7044), (25, 3643), (22, 3519), (26, 2786), (17, 2105), (11, 1857), (13, 1348), (10, 1058), (12, 833), (8, 176), (15, 169), (5, 67), (6, 62), (3, 51), (2, 10), (4, 2)]\n"
     ]
    }
   ],
   "source": [
    "plt.figure(figsize=(16,8))\n",
    "plt.subplot(211)\n",
    "sns.countplot(x= \"payment_method_id\" ,data = data,  color=\"orange\")\n",
    "plt.ylabel('Count', fontsize=12)\n",
    "plt.xlabel('Payment_method_id', fontsize=12)\n",
    "plt.xticks(rotation='vertical')\n",
    "plt.title(\"Frequency of Payment_method_id Count\", fontsize=12)\n",
    "plt.show()\n",
    "payment_method_id_count = Counter(data['payment_method_id']).most_common()\n",
    "print(\"payment_method_id Count \" +str(payment_method_id_count))"
   ]
  },
  {
   "cell_type": "code",
   "execution_count": 31,
   "metadata": {},
   "outputs": [
    {
     "data": {
      "image/png": "[encoded data removed]",
      "text/plain": [
       "<Figure size 1152x576 with 1 Axes>"
      ]
     },
     "metadata": {
      "needs_background": "light"
     },
     "output_type": "display_data"
    },
    {
     "name": "stdout",
     "output_type": "stream",
     "text": [
      "Payment_plan_days Count [(30, 14689730), (0, 597400), (31, 470282), (7, 43939), (195, 24456), (410, 13934), (180, 8917), (100, 6250), (120, 6019), (90, 5798), (10, 4774), (1, 2753), (60, 2734), (395, 1273), (200, 1189), (360, 949), (14, 595), (400, 565), (240, 529), (35, 258), (70, 168), (450, 141), (80, 97), (21, 95), (270, 76), (99, 67), (66, 56), (365, 42), (230, 25), (110, 19), (3, 8), (15, 4), (45, 3), (2, 3)]\n"
     ]
    }
   ],
   "source": [
    "plt.figure(figsize=(16,8))\n",
    "plt.subplot(211)\n",
    "sns.countplot(x= \"payment_plan_days\" ,data = data,  color=\"teal\")\n",
    "plt.ylabel('Count', fontsize=12)\n",
    "plt.xlabel('Payment_Plan_Days', fontsize=12)\n",
    "plt.xticks(rotation='vertical')\n",
    "plt.title(\"Frequency of Payment_Plan_Days Count\", fontsize=12)\n",
    "plt.show()\n",
    "payment_plan_days_count = Counter(data['payment_plan_days']).most_common()\n",
    "print(\"Payment_plan_days Count \" +str(payment_plan_days_count))"
   ]
  },
  {
   "cell_type": "code",
   "execution_count": 32,
   "metadata": {},
   "outputs": [
    {
     "data": {
      "image/png": "[encoded data removed]",
      "text/plain": [
       "<Figure size 1152x576 with 1 Axes>"
      ]
     },
     "metadata": {
      "needs_background": "light"
     },
     "output_type": "display_data"
    },
    {
     "name": "stdout",
     "output_type": "stream",
     "text": [
      "plan_list_price Count [(149, 8810706), (99, 4619665), (129, 953297), (0, 649915), (180, 522071), (150, 162237), (100, 62498), (894, 24545), (119, 24374), (1788, 13930), (477, 6827), (536, 6789), (480, 5963), (298, 3302), (134, 2522), (120, 2321), (300, 2087), (35, 1773), (1599, 1714), (799, 1189), (930, 1038), (447, 981), (1200, 949), (699, 540), (450, 424), (131, 306), (500, 292), (50, 219), (350, 168), (1000, 148), (400, 97), (105, 50), (70, 48), (596, 36), (1150, 25), (2000, 21), (143, 20), (1, 19), (126, 17), (210, 15), (15, 6), (10, 3), (265, 1)]\n"
     ]
    }
   ],
   "source": [
    "plt.figure(figsize=(16,8))\n",
    "plt.subplot(211)\n",
    "sns.countplot(x= \"plan_list_price\" ,data = data,  color=\"red\")\n",
    "plt.ylabel('Count', fontsize=12)\n",
    "plt.xlabel('Plan_list_price', fontsize=12)\n",
    "plt.xticks(rotation='vertical')\n",
    "plt.title(\"Frequency of Plan_list_price \", fontsize=12)\n",
    "plt.show()\n",
    "plan_list_price_count = Counter(data['plan_list_price']).most_common()\n",
    "print(\"plan_list_price Count \" +str(plan_list_price_count))"
   ]
  },
  {
   "cell_type": "code",
   "execution_count": 33,
   "metadata": {},
   "outputs": [
    {
     "data": {
      "image/png": "[encoded data removed]",
      "text/plain": [
       "<Figure size 1152x576 with 1 Axes>"
      ]
     },
     "metadata": {
      "needs_background": "light"
     },
     "output_type": "display_data"
    },
    {
     "name": "stdout",
     "output_type": "stream",
     "text": [
      "actual_amount_paid Count [(149, 9069697), (99, 4621423), (129, 975728), (180, 520048), (119, 268295), (150, 166096), (0, 118447), (100, 62994), (894, 25193), (1788, 14323), (536, 6840), (477, 6827), (480, 5998), (298, 3302), (134, 3196), (120, 2141), (300, 2133), (35, 1883), (1599, 1744), (799, 1228), (930, 1047), (447, 987), (1200, 950), (699, 539), (131, 438), (450, 433), (500, 298), (50, 220), (350, 171), (1000, 156), (400, 99), (105, 55), (70, 48), (596, 36), (1150, 27), (2000, 21), (143, 20), (1, 19), (127, 17), (210, 15), (15, 6), (41, 5), (10, 3), (265, 1), (760, 1)]\n"
     ]
    }
   ],
   "source": [
    "plt.figure(figsize=(16,8))\n",
    "plt.subplot(211)\n",
    "sns.countplot(x= \"actual_amount_paid\" ,data = data,  color=\"blue\")\n",
    "plt.ylabel('Count', fontsize=12)\n",
    "plt.xlabel('Actual_amount_paid', fontsize=12)\n",
    "plt.xticks(rotation='vertical')\n",
    "plt.title(\"Frequency of Actual_amount_paid \", fontsize=12)\n",
    "plt.show()\n",
    "actual_amount_paid_count = Counter(data['actual_amount_paid']).most_common()\n",
    "print(\"actual_amount_paid Count \" +str(actual_amount_paid_count))"
   ]
  },
  {
   "cell_type": "code",
   "execution_count": 34,
   "metadata": {},
   "outputs": [
    {
     "data": {
      "image/png": "[encoded data removed]",
      "text/plain": [
       "<Figure size 1152x576 with 1 Axes>"
      ]
     },
     "metadata": {
      "needs_background": "light"
     },
     "output_type": "display_data"
    },
    {
     "name": "stdout",
     "output_type": "stream",
     "text": [
      "Registered_Via Count [('7', 9191091), ('9', 4515760), ('3', 1729991), ('4', 431503), ('13', 14803)]\n"
     ]
    }
   ],
   "source": [
    "plt.figure(figsize=(16,8))\n",
    "plt.subplot(211)\n",
    "sns.countplot(x= \"registered_via\" ,data = data,  color=\"coral\")\n",
    "plt.ylabel('Count', fontsize=12)\n",
    "plt.xlabel('Registered_via', fontsize=12)\n",
    "plt.xticks(rotation='vertical')\n",
    "plt.title(\"Frequency of Registered_via Count\", fontsize=12)\n",
    "plt.show()\n",
    "registered_via_count = Counter(data['registered_via']).most_common()\n",
    "print(\"Registered_Via Count \" +str(registered_via_count))"
   ]
  },
  {
   "cell_type": "code",
   "execution_count": 35,
   "metadata": {},
   "outputs": [
    {
     "data": {
      "image/png": "[encoded data removed]",
      "text/plain": [
       "<Figure size 1152x576 with 1 Axes>"
      ]
     },
     "metadata": {
      "needs_background": "light"
     },
     "output_type": "display_data"
    },
    {
     "name": "stdout",
     "output_type": "stream",
     "text": [
      "city Count [('1', 8049674), ('13', 1898262), ('5', 1363216), ('4', 903540), ('15', 796881), ('22', 778451), ('6', 477751), ('14', 385346), ('12', 211856), ('9', 185593), ('11', 163142), ('18', 147627), ('8', 139656), ('17', 105782), ('3', 96158), ('21', 95031), ('7', 50728), ('16', 18646), ('2', 13112), ('19', 2696)]\n"
     ]
    }
   ],
   "source": [
    "plt.figure(figsize=(16,8))\n",
    "plt.subplot(211)\n",
    "sns.countplot(x= \"city\" ,data = data,  color=\"burlywood\")\n",
    "plt.ylabel('Count', fontsize=12)\n",
    "plt.xlabel('city', fontsize=12)\n",
    "plt.xticks(rotation='vertical')\n",
    "plt.title(\"Frequency of city Count\", fontsize=12)\n",
    "plt.show()\n",
    "city_count = Counter(data['city']).most_common()\n",
    "print(\"city Count \" +str(city_count))"
   ]
  },
  {
   "cell_type": "code",
   "execution_count": 36,
   "metadata": {},
   "outputs": [
    {
     "data": {
      "image/png": "[encoded data removed]",
      "text/plain": [
       "<Figure size 1152x576 with 1 Axes>"
      ]
     },
     "metadata": {
      "needs_background": "light"
     },
     "output_type": "display_data"
    },
    {
     "name": "stdout",
     "output_type": "stream",
     "text": [
      "gender Count [('missing', 9040299), ('male', 3595401), ('female', 3247448)]\n"
     ]
    }
   ],
   "source": [
    "plt.figure(figsize=(16,8))\n",
    "plt.subplot(211)\n",
    "sns.countplot(x= \"gender\" ,data = data,  color=\"salmon\")\n",
    "plt.ylabel('Count', fontsize=12)\n",
    "plt.xlabel('gender', fontsize=12)\n",
    "plt.xticks(rotation='horizontal')\n",
    "plt.title(\"Frequency of gender Count\", fontsize=12)\n",
    "plt.show()\n",
    "gender_count = Counter(data['gender']).most_common()\n",
    "print(\"gender Count \" +str(gender_count))"
   ]
  },
  {
   "cell_type": "code",
   "execution_count": 37,
   "metadata": {},
   "outputs": [
    {
     "data": {
      "image/png": "[encoded data removed]",
      "text/plain": [
       "<Figure size 864x864 with 1 Axes>"
      ]
     },
     "metadata": {
      "needs_background": "light"
     },
     "output_type": "display_data"
    },
    {
     "name": "stdout",
     "output_type": "stream",
     "text": [
      "Yearly Count [(2015, 3240125), (2013, 2541782), (2016, 2130576), (2014, 1841934), (2012, 1661884), (2011, 1420531), (2010, 899547), (2007, 540046), (2006, 382369), (2008, 350231), (2005, 347251), (2009, 312344), (2004, 174793), (2017, 39735)]\n"
     ]
    }
   ],
   "source": [
    "#registration_init_time yearly trend\n",
    "data['registration_init_time_year'] = pd.DatetimeIndex(data['registration_init_time']).year\n",
    "data['registration_init_time_year'] = data.registration_init_time_year.apply(lambda x: int(x) if pd.notnull(x) else \"NAN\" )\n",
    "year_count=data['registration_init_time_year'].value_counts()\n",
    "#print(year_count)\n",
    "plt.figure(figsize=(12,12))\n",
    "plt.subplot(311)\n",
    "year_order = data['registration_init_time_year'].unique()\n",
    "year_order=sorted(year_order, key=lambda x: str(x))\n",
    "year_order = sorted(year_order, key=lambda x: float(x))\n",
    "sns.barplot(year_count.index, year_count.values,order=year_order)\n",
    "plt.ylabel('Count', fontsize=12)\n",
    "plt.xlabel('Year', fontsize=12)\n",
    "plt.xticks(rotation='vertical')\n",
    "plt.title(\"Yearly Trend of registration_init_time\", fontsize=12)\n",
    "plt.show()\n",
    "year_count_2 = Counter(data['registration_init_time_year']).most_common()\n",
    "print(\"Yearly Count \" +str(year_count_2))\n"
   ]
  },
  {
   "cell_type": "code",
   "execution_count": 38,
   "metadata": {},
   "outputs": [
    {
     "data": {
      "image/png": "[encoded data removed]",
      "text/plain": [
       "<Figure size 864x864 with 1 Axes>"
      ]
     },
     "metadata": {
      "needs_background": "light"
     },
     "output_type": "display_data"
    },
    {
     "name": "stdout",
     "output_type": "stream",
     "text": [
      "Monthly Count [(1, 1576357), (10, 1522795), (7, 1444702), (12, 1425721), (8, 1424380), (11, 1414999), (2, 1378330), (9, 1300809), (3, 1266952), (6, 1081552), (5, 1066278), (4, 980273)]\n"
     ]
    }
   ],
   "source": [
    "#registration_init_time monthly trend\n",
    "data['registration_init_time_month'] = pd.DatetimeIndex(data['registration_init_time']).month\n",
    "data['registration_init_time_month'] = data.registration_init_time_month.apply(lambda x: int(x) if pd.notnull(x) else \"NAN\" )\n",
    "month_count=data['registration_init_time_month'].value_counts()\n",
    "plt.figure(figsize=(12,12))\n",
    "plt.subplot(312)\n",
    "month_order = data['registration_init_time_month'].unique()\n",
    "month_order = sorted(month_order, key=lambda x: str(x))\n",
    "month_order = sorted(month_order, key=lambda x: float(x))\n",
    "sns.barplot(month_count.index, month_count.values,order=month_order)\n",
    "plt.ylabel('Count', fontsize=12)\n",
    "plt.xlabel('Month', fontsize=12)\n",
    "plt.xticks(rotation='vertical')\n",
    "plt.title(\"Monthly Trend of registration_init_time\", fontsize=12)\n",
    "plt.show()\n",
    "month_count_2 = Counter(data['registration_init_time_month']).most_common()\n",
    "print(\"Monthly Count \" +str(month_count_2))"
   ]
  },
  {
   "cell_type": "code",
   "execution_count": 39,
   "metadata": {},
   "outputs": [
    {
     "data": {
      "image/png": "[encoded data removed]",
      "text/plain": [
       "<Figure size 864x864 with 1 Axes>"
      ]
     },
     "metadata": {
      "needs_background": "light"
     },
     "output_type": "display_data"
    },
    {
     "name": "stdout",
     "output_type": "stream",
     "text": [
      "Day-wise Count [('Saturday', 2501494), ('Friday', 2277769), ('Tuesday', 2244410), ('Monday', 2232378), ('Wednesday', 2221479), ('Thursday', 2221085), ('Sunday', 2184533)]\n"
     ]
    }
   ],
   "source": [
    "#registration_init_time day wise trend\n",
    "data['registration_init_time_weekday'] = pd.DatetimeIndex(data['registration_init_time']).weekday_name\n",
    "data['registration_init_time_weekday'] = data.registration_init_time_weekday.apply(lambda x: str(x) if pd.notnull(x) else \"NAN\" )\n",
    "day_count=data['registration_init_time_weekday'].value_counts()\n",
    "plt.figure(figsize=(12,12))\n",
    "plt.subplot(313)\n",
    "day_order = ['Monday','Tuesday','Wednesday','Thursday','Friday','Saturday','Sunday','NAN']\n",
    "sns.barplot(day_count.index, day_count.values,order=day_order)\n",
    "plt.ylabel('Count', fontsize=12)\n",
    "plt.xlabel('Day', fontsize=12)\n",
    "plt.xticks(rotation='vertical')\n",
    "plt.title(\"Day-wise Trend of registration_init_time\", fontsize=12)\n",
    "plt.show()\n",
    "day_count_2 = Counter(data['registration_init_time_weekday']).most_common()\n",
    "print(\"Day-wise Count \" +str(day_count_2))\n"
   ]
  },
  {
   "cell_type": "code",
   "execution_count": 40,
   "metadata": {},
   "outputs": [
    {
     "data": {
      "image/png": "[encoded data removed]",
      "text/plain": [
       "<Figure size 864x864 with 1 Axes>"
      ]
     },
     "metadata": {
      "needs_background": "light"
     },
     "output_type": "display_data"
    },
    {
     "name": "stdout",
     "output_type": "stream",
     "text": [
      "Yearly Count [(2016, 8582207), (2015, 4412809), (2017, 2881059), (2014, 3904), (2013, 2935), (1970, 226), (2012, 4), (2009, 2), (2007, 1), (1999, 1)]\n"
     ]
    }
   ],
   "source": [
    "#registration_init_time yearly trend\n",
    "data['membership_expire_date_year'] = pd.DatetimeIndex(data['membership_expire_date']).year\n",
    "data['membership_expire_date_year'] = data.membership_expire_date_year.apply(lambda x: int(x) if pd.notnull(x) else \"NAN\" )\n",
    "year_count=data['membership_expire_date_year'].value_counts()\n",
    "#print(year_count)\n",
    "plt.figure(figsize=(12,12))\n",
    "plt.subplot(311)\n",
    "year_order = data['membership_expire_date_year'].unique()\n",
    "year_order=sorted(year_order, key=lambda x: str(x))\n",
    "year_order = sorted(year_order, key=lambda x: float(x))\n",
    "sns.barplot(year_count.index, year_count.values,order=year_order)\n",
    "plt.ylabel('Count', fontsize=12)\n",
    "plt.xlabel('Year', fontsize=12)\n",
    "plt.xticks(rotation='vertical')\n",
    "plt.title(\"Yearly Trend of Membership_Expire_Date\", fontsize=12)\n",
    "plt.show()\n",
    "year_count_2 = Counter(data['membership_expire_date_year']).most_common()\n",
    "print(\"Yearly Count \" +str(year_count_2))"
   ]
  },
  {
   "cell_type": "code",
   "execution_count": 41,
   "metadata": {},
   "outputs": [
    {
     "data": {
      "image/png": "[encoded data removed]",
      "text/plain": [
       "<Figure size 864x864 with 1 Axes>"
      ]
     },
     "metadata": {
      "needs_background": "light"
     },
     "output_type": "display_data"
    },
    {
     "name": "stdout",
     "output_type": "stream",
     "text": [
      "Monthly Count [(3, 1880442), (2, 1845916), (1, 1516285), (12, 1462446), (11, 1387782), (10, 1330221), (9, 1283970), (8, 1162736), (7, 1069580), (6, 993068), (4, 988264), (5, 962438)]\n"
     ]
    }
   ],
   "source": [
    "#membership_expire_date monthly trend\n",
    "data['membership_expire_date_month'] = pd.DatetimeIndex(data['membership_expire_date']).month\n",
    "data['membership_expire_date_month'] = data.membership_expire_date_month.apply(lambda x: int(x) if pd.notnull(x) else \"NAN\" )\n",
    "month_count=data['membership_expire_date_month'].value_counts()\n",
    "plt.figure(figsize=(12,12))\n",
    "plt.subplot(312)\n",
    "month_order = data['membership_expire_date_month'].unique()\n",
    "month_order = sorted(month_order, key=lambda x: str(x))\n",
    "month_order = sorted(month_order, key=lambda x: float(x))\n",
    "sns.barplot(month_count.index, month_count.values,order=month_order)\n",
    "plt.ylabel('Count', fontsize=12)\n",
    "plt.xlabel('Month', fontsize=12)\n",
    "plt.xticks(rotation='vertical')\n",
    "plt.title(\"Monthly Trend of Membership_Expire_Date\", fontsize=12)\n",
    "plt.show()\n",
    "month_count_2 = Counter(data['membership_expire_date_month']).most_common()\n",
    "print(\"Monthly Count \" +str(month_count_2))"
   ]
  },
  {
   "cell_type": "markdown",
   "metadata": {},
   "source": [
    "#### Bar plot of \"is_churn\" and \"membership_expire_date_month\" variables"
   ]
  },
  {
   "cell_type": "code",
   "execution_count": 42,
   "metadata": {},
   "outputs": [
    {
     "data": {
      "text/html": [
       "<div>\n",
       "<style scoped>\n",
       "    .dataframe tbody tr th:only-of-type {\n",
       "        vertical-align: middle;\n",
       "    }\n",
       "\n",
       "    .dataframe tbody tr th {\n",
       "        vertical-align: top;\n",
       "    }\n",
       "\n",
       "    .dataframe thead th {\n",
       "        text-align: right;\n",
       "    }\n",
       "</style>\n",
       "<table border=\"1\" class=\"dataframe\">\n",
       "  <thead>\n",
       "    <tr style=\"text-align: right;\">\n",
       "      <th>is_churn</th>\n",
       "      <th>0</th>\n",
       "      <th>1</th>\n",
       "    </tr>\n",
       "    <tr>\n",
       "      <th>membership_expire_date_month</th>\n",
       "      <th></th>\n",
       "      <th></th>\n",
       "    </tr>\n",
       "  </thead>\n",
       "  <tbody>\n",
       "    <tr>\n",
       "      <th>1</th>\n",
       "      <td>1449084</td>\n",
       "      <td>67201</td>\n",
       "    </tr>\n",
       "    <tr>\n",
       "      <th>2</th>\n",
       "      <td>1730894</td>\n",
       "      <td>115022</td>\n",
       "    </tr>\n",
       "    <tr>\n",
       "      <th>3</th>\n",
       "      <td>1819769</td>\n",
       "      <td>60673</td>\n",
       "    </tr>\n",
       "    <tr>\n",
       "      <th>4</th>\n",
       "      <td>947726</td>\n",
       "      <td>40538</td>\n",
       "    </tr>\n",
       "    <tr>\n",
       "      <th>5</th>\n",
       "      <td>921180</td>\n",
       "      <td>41258</td>\n",
       "    </tr>\n",
       "    <tr>\n",
       "      <th>6</th>\n",
       "      <td>949629</td>\n",
       "      <td>43439</td>\n",
       "    </tr>\n",
       "    <tr>\n",
       "      <th>7</th>\n",
       "      <td>1024351</td>\n",
       "      <td>45229</td>\n",
       "    </tr>\n",
       "    <tr>\n",
       "      <th>8</th>\n",
       "      <td>1112783</td>\n",
       "      <td>49953</td>\n",
       "    </tr>\n",
       "    <tr>\n",
       "      <th>9</th>\n",
       "      <td>1231979</td>\n",
       "      <td>51991</td>\n",
       "    </tr>\n",
       "    <tr>\n",
       "      <th>10</th>\n",
       "      <td>1275483</td>\n",
       "      <td>54738</td>\n",
       "    </tr>\n",
       "    <tr>\n",
       "      <th>11</th>\n",
       "      <td>1331263</td>\n",
       "      <td>56519</td>\n",
       "    </tr>\n",
       "    <tr>\n",
       "      <th>12</th>\n",
       "      <td>1403436</td>\n",
       "      <td>59010</td>\n",
       "    </tr>\n",
       "  </tbody>\n",
       "</table>\n",
       "</div>"
      ],
      "text/plain": [
       "is_churn                            0       1\n",
       "membership_expire_date_month                 \n",
       "1                             1449084   67201\n",
       "2                             1730894  115022\n",
       "3                             1819769   60673\n",
       "4                              947726   40538\n",
       "5                              921180   41258\n",
       "6                              949629   43439\n",
       "7                             1024351   45229\n",
       "8                             1112783   49953\n",
       "9                             1231979   51991\n",
       "10                            1275483   54738\n",
       "11                            1331263   56519\n",
       "12                            1403436   59010"
      ]
     },
     "execution_count": 42,
     "metadata": {},
     "output_type": "execute_result"
    },
    {
     "data": {
      "image/png": "[encoded data removed]",
      "text/plain": [
       "<Figure size 432x288 with 1 Axes>"
      ]
     },
     "metadata": {
      "needs_background": "light"
     },
     "output_type": "display_data"
    }
   ],
   "source": [
    "membership_expire_date_crosstab=pd.crosstab(data['membership_expire_date_month'],data['is_churn'])\n",
    "membership_expire_date_crosstab.plot(kind='bar',stacked= True, grid=False)\n",
    "membership_expire_date_crosstab\n"
   ]
  },
  {
   "cell_type": "code",
   "execution_count": 43,
   "metadata": {},
   "outputs": [
    {
     "data": {
      "image/png": "[encoded data removed]",
      "text/plain": [
       "<Figure size 864x864 with 1 Axes>"
      ]
     },
     "metadata": {
      "needs_background": "light"
     },
     "output_type": "display_data"
    },
    {
     "name": "stdout",
     "output_type": "stream",
     "text": [
      "Monthly Count [(1, 1933744), (2, 1781193), (12, 1508596), (11, 1459887), (10, 1330804), (9, 1313613), (8, 1292153), (7, 1225378), (6, 1078705), (3, 1001050), (5, 991075), (4, 966950)]\n"
     ]
    }
   ],
   "source": [
    "#transaction_date monthly trend\n",
    "data['transaction_date_month'] = pd.DatetimeIndex(data['transaction_date']).month\n",
    "data['transaction_date_month'] = data.transaction_date_month.apply(lambda x: int(x) if pd.notnull(x) else \"NAN\" )\n",
    "month_count=data['transaction_date_month'].value_counts()\n",
    "plt.figure(figsize=(12,12))\n",
    "plt.subplot(312)\n",
    "month_order = data['transaction_date_month'].unique()\n",
    "month_order = sorted(month_order, key=lambda x: str(x))\n",
    "month_order = sorted(month_order, key=lambda x: float(x))\n",
    "sns.barplot(month_count.index, month_count.values,order=month_order)\n",
    "plt.ylabel('Count', fontsize=12)\n",
    "plt.xlabel('Month', fontsize=12)\n",
    "plt.xticks(rotation='vertical')\n",
    "plt.title(\"Monthly Trend of Transaction_Date\", fontsize=12)\n",
    "plt.show()\n",
    "month_count_2 = Counter(data['transaction_date_month']).most_common()\n",
    "print(\"Monthly Count \" +str(month_count_2))"
   ]
  },
  {
   "cell_type": "markdown",
   "metadata": {},
   "source": [
    "## Observations:- \n",
    "- Those who put auto_renewal for their payments are less likely to cancel the subscription.\n",
    "- Also if auto_renewal is on, more people like to renew their subcriptions.\n",
    "- About 92.5% people put their payments on Auto_renewal.\n",
    "- No effect of gender, registred_via on churn rate.\n",
    "- In the last 4-5 years,there is more increase in subcription rate.\n",
    "- Large amount of observations are from city-1.\n",
    "- About 59% people used registered via technique number-7 used 41-category method-id to make payments.\n",
    "- More new registrations at the start and end of the year\n",
    "- About 93% people enrolled in 30 days payment plan.\n",
    "- About 55% people opted $149 price plan and paid actual amount. \n",
    "- On weekends there are more new registrations for the subscription.\n",
    "- Membership expires mainly in starting months of the year till march and seems like more churn rate in month of February.\n",
    "- There are more transactions in the month of January and February may be due to new subscription plans are available. "
   ]
  },
  {
   "cell_type": "markdown",
   "metadata": {},
   "source": [
    "# Inferential Statistics Part"
   ]
  },
  {
   "cell_type": "markdown",
   "metadata": {},
   "source": [
    "#### Correlation graph between various variables"
   ]
  },
  {
   "cell_type": "code",
   "execution_count": 45,
   "metadata": {},
   "outputs": [
    {
     "data": {
      "text/plain": [
       "(array([ 0.5,  1.5,  2.5,  3.5,  4.5,  5.5,  6.5,  7.5,  8.5,  9.5, 10.5,\n",
       "        11.5, 12.5]), <a list of 13 Text yticklabel objects>)"
      ]
     },
     "execution_count": 45,
     "metadata": {},
     "output_type": "execute_result"
    },
    {
     "data": {
      "image/png": "[encoded data removed]",
      "text/plain": [
       "<Figure size 1008x864 with 2 Axes>"
      ]
     },
     "metadata": {
      "needs_background": "light"
     },
     "output_type": "display_data"
    }
   ],
   "source": [
    "plt.figure(figsize=(14,12))\n",
    "sns.heatmap(data.corr(), linewidths=.1, cmap=\"YlGnBu\", annot=True)\n",
    "plt.yticks(rotation=0)"
   ]
  },
  {
   "cell_type": "markdown",
   "metadata": {},
   "source": [
    "- We can see from above Graph, There is strong correlation between payment plan days, actual_amount paid, plan list price features. \n",
    "- Relationship between membership_expire_date_month and transaction_date_month, means most of the subscriptions expires and more new transactions were made at the time of starting months. \n",
    "- Also is_churn and is_auto_renewal are negatively correlated to each other. "
   ]
  },
  {
   "cell_type": "markdown",
   "metadata": {},
   "source": [
    "## Inferential Statistics\n",
    "\n",
    "- We want to check is there any relationship between \n",
    "   - is_auto_renew and is_churn /\n",
    "   - is_cancel and is_churn.\n",
    "   - We will be using Chi-Squared test to check the association between these variables."
   ]
  },
  {
   "cell_type": "markdown",
   "metadata": {},
   "source": [
    "# First let's take a look towards the Assumptions:\n",
    "\n",
    "- Our data is pretty much random and is good representation of the population\n",
    "- The variables under study are categorical. \n",
    "- The expected value of the number of sample observations at each level of the variable is more than 5."
   ]
  },
  {
   "cell_type": "markdown",
   "metadata": {},
   "source": [
    "#### The Null and Alternate Hypotheses:-\n",
    "- Recall that we are interested in knowing if there is a relationship between 'is_churn' and 'is_auto_renew'. \n",
    "- In order to do so, we will use the Chi-squared test and set our significance level to be 0.05 .But first, let's state our null hypothesis and the alternative hypothesis.\n",
    "\n",
    "- H0:There is no statistically significant relationship between 'is_churn' and 'is_auto_renew'\n",
    "- Ha:There is a statistically significant relationship between 'is_churn' and 'is_auto_renew'"
   ]
  },
  {
   "cell_type": "markdown",
   "metadata": {},
   "source": [
    "#### Constructing the Contingency Table\n",
    "- The next step is to format the data into a frequency count table.\n",
    "- This is called a Contingency Table, we can accomplish this by using the pd.crosstab() function in pandas."
   ]
  },
  {
   "cell_type": "code",
   "execution_count": 59,
   "metadata": {},
   "outputs": [
    {
     "data": {
      "text/html": [
       "<div>\n",
       "<style scoped>\n",
       "    .dataframe tbody tr th:only-of-type {\n",
       "        vertical-align: middle;\n",
       "    }\n",
       "\n",
       "    .dataframe tbody tr th {\n",
       "        vertical-align: top;\n",
       "    }\n",
       "\n",
       "    .dataframe thead th {\n",
       "        text-align: right;\n",
       "    }\n",
       "</style>\n",
       "<table border=\"1\" class=\"dataframe\">\n",
       "  <thead>\n",
       "    <tr style=\"text-align: right;\">\n",
       "      <th>is_auto_renew</th>\n",
       "      <th>0</th>\n",
       "      <th>1</th>\n",
       "      <th>All</th>\n",
       "    </tr>\n",
       "    <tr>\n",
       "      <th>is_churn</th>\n",
       "      <th></th>\n",
       "      <th></th>\n",
       "      <th></th>\n",
       "    </tr>\n",
       "  </thead>\n",
       "  <tbody>\n",
       "    <tr>\n",
       "      <th>0</th>\n",
       "      <td>969187</td>\n",
       "      <td>14228390</td>\n",
       "      <td>15197577</td>\n",
       "    </tr>\n",
       "    <tr>\n",
       "      <th>1</th>\n",
       "      <td>220929</td>\n",
       "      <td>464642</td>\n",
       "      <td>685571</td>\n",
       "    </tr>\n",
       "    <tr>\n",
       "      <th>All</th>\n",
       "      <td>1190116</td>\n",
       "      <td>14693032</td>\n",
       "      <td>15883148</td>\n",
       "    </tr>\n",
       "  </tbody>\n",
       "</table>\n",
       "</div>"
      ],
      "text/plain": [
       "is_auto_renew        0         1       All\n",
       "is_churn                                  \n",
       "0               969187  14228390  15197577\n",
       "1               220929    464642    685571\n",
       "All            1190116  14693032  15883148"
      ]
     },
     "execution_count": 59,
     "metadata": {},
     "output_type": "execute_result"
    }
   ],
   "source": [
    "contingency_table = pd.crosstab(\n",
    "    data['is_churn'],\n",
    "    data['is_auto_renew'],\n",
    "    margins = True)\n",
    "contingency_table"
   ]
  },
  {
   "cell_type": "code",
   "execution_count": 60,
   "metadata": {},
   "outputs": [
    {
     "name": "stdout",
     "output_type": "stream",
     "text": [
      "[[  969187 14228390]\n",
      " [  220929   464642]]\n"
     ]
    },
    {
     "data": {
      "text/plain": [
       "(632301.2589042765, 0.0, 1)"
      ]
     },
     "execution_count": 60,
     "metadata": {},
     "output_type": "execute_result"
    }
   ],
   "source": [
    "f_obs = np.array([contingency_table.iloc[0][0:2].values,\n",
    "                  contingency_table.iloc[1][0:2].values])\n",
    "print(f_obs)\n",
    "from scipy import stats\n",
    "stats.chi2_contingency(f_obs)[0:3]"
   ]
  },
  {
   "cell_type": "markdown",
   "metadata": {},
   "source": [
    "- Chisq_test_statistic = 632301.26, P-value ~ 0, degree_of_freedom = 1\n",
    "#### Conclusions:- \n",
    "\n",
    "- With a p-value < 0.05 , we can reject the null hypothesis. There is definitely some sort of statistically significant relationship between 'is_churn' and the 'is_auto_renew' column.\n",
    "- We don't know what this relationship is, but we do know that these two variables are not independent of each other."
   ]
  },
  {
   "cell_type": "markdown",
   "metadata": {},
   "source": [
    "#### Relationship between 'is_churn' and 'is_cancel' Variables\n",
    "\n",
    "The Null and Alternate Hypotheses:-\n",
    "- Recall that we are interested in knowing if there is a relationship between 'is_churn' and 'is_cancel'. In order to do so, - we would have to use the Chi-squared test and we set our significance level to be 0.05 .But first, let's state our null hypothesis and the alternative hypothesis.\n",
    "\n",
    "- H0:There is no statistically significant relationship between 'is_churn' and 'is_cancel'\n",
    "- Ha:There is a statistically significant relationship between 'is_churn' and 'is_cancel'"
   ]
  },
  {
   "cell_type": "code",
   "execution_count": 55,
   "metadata": {},
   "outputs": [
    {
     "data": {
      "text/html": [
       "<div>\n",
       "<style scoped>\n",
       "    .dataframe tbody tr th:only-of-type {\n",
       "        vertical-align: middle;\n",
       "    }\n",
       "\n",
       "    .dataframe tbody tr th {\n",
       "        vertical-align: top;\n",
       "    }\n",
       "\n",
       "    .dataframe thead th {\n",
       "        text-align: right;\n",
       "    }\n",
       "</style>\n",
       "<table border=\"1\" class=\"dataframe\">\n",
       "  <thead>\n",
       "    <tr style=\"text-align: right;\">\n",
       "      <th>is_cancel</th>\n",
       "      <th>0</th>\n",
       "      <th>1</th>\n",
       "      <th>All</th>\n",
       "    </tr>\n",
       "    <tr>\n",
       "      <th>is_churn</th>\n",
       "      <th></th>\n",
       "      <th></th>\n",
       "      <th></th>\n",
       "    </tr>\n",
       "  </thead>\n",
       "  <tbody>\n",
       "    <tr>\n",
       "      <th>0</th>\n",
       "      <td>14958679</td>\n",
       "      <td>238898</td>\n",
       "      <td>15197577</td>\n",
       "    </tr>\n",
       "    <tr>\n",
       "      <th>1</th>\n",
       "      <td>648464</td>\n",
       "      <td>37107</td>\n",
       "      <td>685571</td>\n",
       "    </tr>\n",
       "    <tr>\n",
       "      <th>All</th>\n",
       "      <td>15607143</td>\n",
       "      <td>276005</td>\n",
       "      <td>15883148</td>\n",
       "    </tr>\n",
       "  </tbody>\n",
       "</table>\n",
       "</div>"
      ],
      "text/plain": [
       "is_cancel         0       1       All\n",
       "is_churn                             \n",
       "0          14958679  238898  15197577\n",
       "1            648464   37107    685571\n",
       "All        15607143  276005  15883148"
      ]
     },
     "execution_count": 55,
     "metadata": {},
     "output_type": "execute_result"
    }
   ],
   "source": [
    "contingency_table1 = pd.crosstab(\n",
    "    data['is_churn'],\n",
    "    data['is_cancel'],\n",
    "    margins = True)\n",
    "contingency_table1"
   ]
  },
  {
   "cell_type": "code",
   "execution_count": 58,
   "metadata": {},
   "outputs": [
    {
     "name": "stdout",
     "output_type": "stream",
     "text": [
      "[[14958679   238898]\n",
      " [  648464    37107]]\n"
     ]
    },
    {
     "data": {
      "text/plain": [
       "(56664.17618006772, 0.0, 1)"
      ]
     },
     "execution_count": 58,
     "metadata": {},
     "output_type": "execute_result"
    }
   ],
   "source": [
    "f_obs1 = np.array([contingency_table1.iloc[0][0:2].values,\n",
    "                  contingency_table1.iloc[1][0:2].values])\n",
    "print(f_obs1)\n",
    "from scipy import stats\n",
    "stats.chi2_contingency(f_obs1)[0:3]"
   ]
  },
  {
   "cell_type": "markdown",
   "metadata": {},
   "source": [
    "- Chisq_test_statistic = 56664.17, P-value ~ 0, degree_of_freedom = 1\n",
    "#### Conclusions:- \n",
    "\n",
    "- With a p-value < 0.05 , we can reject the null hypothesis. There is definitely some sort of statistically significant relationship between 'is_churn'  and the 'is_cancel' column.\n",
    "- We don't know what this relationship is, but we do know that these two variables are not independent of each other."
   ]
  },
  {
   "cell_type": "markdown",
   "metadata": {},
   "source": [
    "## Logistic Regression"
   ]
  },
  {
   "cell_type": "code",
   "execution_count": null,
   "metadata": {},
   "outputs": [],
   "source": []
  },
  {
   "cell_type": "code",
   "execution_count": null,
   "metadata": {},
   "outputs": [],
   "source": []
  },
  {
   "cell_type": "code",
   "execution_count": null,
   "metadata": {},
   "outputs": [],
   "source": []
  }
 ],
 "metadata": {
  "kernelspec": {
   "display_name": "Python 3",
   "language": "python",
   "name": "python3"
  },
  "language_info": {
   "codemirror_mode": {
    "name": "ipython",
    "version": 3
   },
   "file_extension": ".py",
   "mimetype": "text/x-python",
   "name": "python",
   "nbconvert_exporter": "python",
   "pygments_lexer": "ipython3",
   "version": "3.7.0"
  }
 },
 "nbformat": 4,
 "nbformat_minor": 2
}
